{
 "cells": [
  {
   "cell_type": "markdown",
   "metadata": {},
   "source": [
    "# fibonacci_huge\n"
   ]
  },
  {
   "cell_type": "code",
   "execution_count": null,
   "metadata": {},
   "outputs": [],
   "source": [
    "# Uses python3\n",
    "import sys\n",
    "\n",
    "\n",
    "def get_fibonacci(n):\n",
    "    if n == 0:\n",
    "        return 0\n",
    "    if n == 1:\n",
    "        return 1\n",
    "    fib = [x for x in range(n+1)]\n",
    "    fib[0] = 0\n",
    "    fib[1] = 1\n",
    "    for i in range(2, n+1):\n",
    "        fib[i] = fib[i-1]+fib[i-2]\n",
    "    return fib[n]\n",
    "\n",
    "\n",
    "def fibonacci_huge(n, m):\n",
    "    index = -1\n",
    "    for i in range(2, 10**14):\n",
    "        if(get_fibonacci(i) % m == 0 and get_fibonacci(i+1) % m == 1):\n",
    "            index = i\n",
    "            break\n",
    "    mod_small = n % index\n",
    "    fib_small = get_fibonacci(mod_small) % m\n",
    "    return fib_small\n",
    "\n",
    "\n",
    "if __name__ == '__main__':\n",
    "    _input = input()\n",
    "    n, m = map(int, _input.split())\n",
    "    print(fibonacci_huge(n, m))\n"
   ]
  },
  {
   "cell_type": "markdown",
   "metadata": {},
   "source": [
    "# Fibonacci last digit"
   ]
  },
  {
   "cell_type": "code",
   "execution_count": null,
   "metadata": {},
   "outputs": [],
   "source": [
    "# Uses python3\n",
    "import sys\n",
    "\n",
    "\n",
    "def get_fibonacci_last_digit_naive(n):\n",
    "    if n <= 1:\n",
    "        return n\n",
    "\n",
    "    previous = 0\n",
    "    current = 1\n",
    "\n",
    "    for _ in range(n - 1):\n",
    "        aux_previous: float = previous\n",
    "        previous: float = current % 10\n",
    "        current: float = (aux_previous + current) % 10\n",
    "    return current\n",
    "\n",
    "\n",
    "if __name__ == '__main__':\n",
    "    input = sys.stdin.read()\n",
    "    n = int(input)\n",
    "    print(get_fibonacci_last_digit_naive(n))\n"
   ]
  },
  {
   "cell_type": "markdown",
   "metadata": {},
   "source": [
    "# Fibonnaci partial sum"
   ]
  },
  {
   "cell_type": "code",
   "execution_count": null,
   "metadata": {},
   "outputs": [],
   "source": [
    "# Uses python3\n",
    "import sys\n",
    "\n",
    "\n",
    "def fibonacci_partial_sum_naive(from_, to):\n",
    "    _sum = 0\n",
    "\n",
    "    current = 0\n",
    "    _next = 1\n",
    "\n",
    "    for i in range(to + 1):\n",
    "        if i >= from_:\n",
    "            _sum += current\n",
    "\n",
    "        current, _next = _next, current + _next\n",
    "\n",
    "    return _sum % 10\n",
    "\n",
    "\n",
    "if __name__ == '__main__':\n",
    "    input = sys.stdin.read()\n",
    "    from_, to = map(int, input.split())\n",
    "    print(fibonacci_partial_sum_naive(from_, to))\n"
   ]
  },
  {
   "cell_type": "markdown",
   "metadata": {},
   "source": [
    "# Fibonacci sum last digit"
   ]
  },
  {
   "cell_type": "code",
   "execution_count": null,
   "metadata": {},
   "outputs": [],
   "source": [
    "# Uses python3\n",
    "import sys\n",
    "\n",
    "\n",
    "def fibonacci_partial_sum_naive(from_, to):\n",
    "    _sum = 0\n",
    "    current = 0\n",
    "    _next = 1\n",
    "    for i in range(to + 1):\n",
    "        if i >= from_:\n",
    "            _sum += current\n",
    "        current, _next = _next, current + _next\n",
    "    return _sum % 10\n",
    "\n",
    "\n",
    "def get_fibonacci(n):\n",
    "    if n == 0:\n",
    "        return 0\n",
    "    if n == 1:\n",
    "        return 1\n",
    "    fib = [x for x in range(n+1)]\n",
    "    fib[0] = 0\n",
    "    fib[1] = 1\n",
    "    for i in range(2, n+1):\n",
    "        fib[i] = fib[i-1]+fib[i-2]\n",
    "    return fib[n]\n",
    "\n",
    "\n",
    "def fibonacci_huge(n, m):\n",
    "    index = -1\n",
    "    for i in range(2, 10**14):\n",
    "        if(get_fibonacci(i) % m == 0 and get_fibonacci(i+1) % m == 1):\n",
    "            index = i\n",
    "            break\n",
    "    mod_small = n % index\n",
    "    fib_small = get_fibonacci(mod_small)\n",
    "    return fib_small\n",
    "\n",
    "\n",
    "def fibonacci_partial_sum(from_, to):\n",
    "    if from_ == to:\n",
    "        return fibonacci_huge(from_, 10) % 10\n",
    "    return ((fibonacci_huge(to+2, 10)-1) - (fibonacci_huge(from_+1, 10)-1)) % 10\n",
    "\n",
    "\n",
    "if __name__ == '__main__':\n",
    "    from_, to = map(int, input().split())\n",
    "    print(fibonacci_partial_sum(from_, to))\n"
   ]
  },
  {
   "cell_type": "markdown",
   "metadata": {},
   "source": [
    "# Fibonacci sum squares"
   ]
  },
  {
   "cell_type": "code",
   "execution_count": null,
   "metadata": {},
   "outputs": [],
   "source": [
    "# Uses python3\n",
    "from sys import stdin\n",
    "\n",
    "\n",
    "def fibonacci_sum_squares_naive(n):\n",
    "    if n <= 1:\n",
    "        return n\n",
    "    previous = 0\n",
    "    current = 1\n",
    "    _sum = 1\n",
    "    for _ in range(n - 1):\n",
    "        previous, current = current, previous + current\n",
    "        _sum += current * current\n",
    "    return _sum % 10\n",
    "\n",
    "\n",
    "def get_fibonacci(n):\n",
    "    if n == 0:\n",
    "        return 0\n",
    "    if n == 1:\n",
    "        return 1\n",
    "    fib = [x for x in range(n+1)]\n",
    "    fib[0] = 0\n",
    "    fib[1] = 1\n",
    "    for i in range(2, n+1):\n",
    "        fib[i] = fib[i-1]+fib[i-2]\n",
    "    return fib[n]\n",
    "\n",
    "\n",
    "def fibonacci_huge(n, m):\n",
    "    index = -1\n",
    "    for i in range(2, 10**14):\n",
    "        if(get_fibonacci(i) % m == 0 and get_fibonacci(i+1) % m == 1):\n",
    "            index = i\n",
    "            break\n",
    "    mod_small = n % index\n",
    "    fib_small = get_fibonacci(mod_small)\n",
    "    return fib_small % m\n",
    "\n",
    "\n",
    "if __name__ == '__main__':\n",
    "    x = int(input())\n",
    "    result = (fibonacci_huge(x, 10) * fibonacci_huge(x+1, 10)) % 10\n",
    "    print(result)\n"
   ]
  },
  {
   "cell_type": "markdown",
   "metadata": {},
   "source": [
    "# Fibonacci"
   ]
  },
  {
   "cell_type": "code",
   "execution_count": null,
   "metadata": {},
   "outputs": [],
   "source": [
    "# Uses python3\n",
    "\n",
    "def calc_fib(n: int) -> int:\n",
    "    aux_1: int = 0\n",
    "    aux_2: int = 1\n",
    "    if(n == 0):\n",
    "        return 0\n",
    "    for _ in range(n-1):\n",
    "        aux_2 += aux_1\n",
    "        aux_1 = aux_2 - aux_1\n",
    "    return aux_2\n",
    "\n",
    "\n",
    "n = int(input())\n",
    "print(calc_fib(n))\n"
   ]
  },
  {
   "cell_type": "markdown",
   "metadata": {},
   "source": [
    "# GCD"
   ]
  },
  {
   "cell_type": "code",
   "execution_count": null,
   "metadata": {},
   "outputs": [],
   "source": [
    "# Uses python3\n",
    "import sys\n",
    "\n",
    "\n",
    "def gcd_naive(a: int, b: int) -> int:\n",
    "    a1: int = a % b\n",
    "    if (a1 == 0):\n",
    "        return b\n",
    "    else:\n",
    "        return gcd_naive(b, a1)\n",
    "\n",
    "\n",
    "if __name__ == \"__main__\":\n",
    "    _input = sys.stdin.read()\n",
    "    a, b = map(int, _input.split())\n",
    "    print(gcd_naive(a, b))\n"
   ]
  },
  {
   "cell_type": "markdown",
   "metadata": {},
   "source": [
    "# LCM"
   ]
  },
  {
   "cell_type": "code",
   "execution_count": null,
   "metadata": {},
   "outputs": [],
   "source": [
    "# Uses python3\n",
    "import sys\n",
    "\n",
    "\n",
    "def lcm_naive(a: int, b: int) -> int:\n",
    "    temp: int = 0\n",
    "    for i in range(1, (a * b)+1):\n",
    "        temp = a*i\n",
    "        if (temp % b == 0):\n",
    "            return temp\n",
    "    return a * b\n",
    "\n",
    "\n",
    "if __name__ == '__main__':\n",
    "    _input = sys.stdin.read()\n",
    "    a, b = map(int, _input.split())\n",
    "    print(lcm_naive(a, b))\n"
   ]
  },
  {
   "cell_type": "markdown",
   "metadata": {},
   "source": [
    "# Last digit sum fibonacci numbers"
   ]
  },
  {
   "cell_type": "code",
   "execution_count": null,
   "metadata": {},
   "outputs": [],
   "source": [
    "# Uses python3\n",
    "import sys\n",
    "\n",
    "\n",
    "def fibonacci_sum_naive(n):\n",
    "    if n <= 1:\n",
    "        return n\n",
    "    previous = 0\n",
    "    current = 1\n",
    "    _sum = 1\n",
    "    for _ in range(n - 1):\n",
    "        previous, current = current, previous + current\n",
    "        _sum += current\n",
    "    return _sum % 10\n",
    "\n",
    "\n",
    "def get_fibonacci(n):\n",
    "    if n == 0:\n",
    "        return 0\n",
    "    if n == 1:\n",
    "        return 1\n",
    "    fib = [x for x in range(n+1)]\n",
    "    fib[0] = 0\n",
    "    fib[1] = 1\n",
    "    for i in range(2, n+1):\n",
    "        fib[i] = fib[i-1]+fib[i-2]\n",
    "    return fib[n]\n",
    "\n",
    "\n",
    "def fibonacci_huge(n, m):\n",
    "    index = -1\n",
    "    for i in range(2, 10**14):\n",
    "        if(get_fibonacci(i) % m == 0 and get_fibonacci(i+1) % m == 1):\n",
    "            index = i\n",
    "            break\n",
    "    mod_small = n % index\n",
    "    fib_small = get_fibonacci(mod_small)-1\n",
    "    return fib_small % m\n",
    "\n",
    "\n",
    "x = int(input())\n",
    "print(fibonacci_huge(x+2, 10))\n"
   ]
  },
  {
   "cell_type": "markdown",
   "metadata": {},
   "source": [
    "# Screenshots\n",
    "\n",
    "## Nestor Garzon\n",
    "<img src='./sg.png'/>\n",
    "\n",
    "## Tania Quijano\n",
    "<img src='./tq.jpeg'/>\n",
    "\n",
    "\n",
    "## Juan Santamaria\n",
    "<img src='./j.jpeg'/>\n"
   ]
  },
  {
   "cell_type": "markdown",
   "metadata": {},
   "source": []
  }
 ],
 "metadata": {
  "interpreter": {
   "hash": "b3ba2566441a7c06988d0923437866b63cedc61552a5af99d1f4fb67d367b25f"
  },
  "kernelspec": {
   "display_name": "Python 3.8.8 64-bit ('base': conda)",
   "language": "python",
   "name": "python3"
  },
  "language_info": {
   "codemirror_mode": {
    "name": "ipython",
    "version": 3
   },
   "file_extension": ".py",
   "mimetype": "text/x-python",
   "name": "python",
   "nbconvert_exporter": "python",
   "pygments_lexer": "ipython3",
   "version": "3.8.8"
  },
  "orig_nbformat": 4
 },
 "nbformat": 4,
 "nbformat_minor": 2
}
