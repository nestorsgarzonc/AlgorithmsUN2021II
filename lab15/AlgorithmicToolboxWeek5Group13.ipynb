{
  "cells": [
    {
      "cell_type": "markdown",
      "metadata": {
        "id": "view-in-github"
      },
      "source": [
        "<a href=\"https://colab.research.google.com/github/Dicarvajalb/AlgorithmsUN2021I/blob/main/Laboratories/Lab13/AlgorithmicToolboxWeek5Group14.ipynb\" target=\"_parent\"><img src=\"https://colab.research.google.com/assets/colab-badge.svg\" alt=\"Open In Colab\"/></a>"
      ]
    },
    {
      "cell_type": "markdown",
      "metadata": {
        "id": "28xFs-IPiL5h"
      },
      "source": [
        "# Money Change Again"
      ]
    },
    {
      "cell_type": "code",
      "execution_count": null,
      "metadata": {
        "colab": {
          "base_uri": "https://localhost:8080/"
        },
        "id": "qJ1SPRLaFpu6",
        "outputId": "ea52a626-1bb1-4ce9-f1a0-ceb4d2d1c2e5"
      },
      "outputs": [
        {
          "name": "stdout",
          "output_type": "stream",
          "text": [
            "Overwriting Money_Change_Again.cpp\n"
          ]
        }
      ],
      "source": [
        "%%writefile Money_Change_Again.cpp\n",
        "#include <iostream>\n",
        "\n",
        "int get_change(int m){\n",
        "  int MinNumCoins[m] = {};\n",
        "  MinNumCoins[0] = 0;\n",
        "  int Coins [] = {1,3,4};\n",
        "  for(int i = 1; i <= m; i++){\n",
        "    MinNumCoins[i] = 2147483647;\n",
        "    for(int j = 0; j < 3; j++){\n",
        "  \t\tif(i >= Coins[j]){\n",
        "\t\t    int NumCoins = MinNumCoins[i-Coins[j]] + 1;\n",
        "\t\t    if(NumCoins < MinNumCoins[i]){\n",
        "          MinNumCoins[i] = NumCoins;\n",
        "        }\n",
        "\t\t  }\n",
        "  \t}\n",
        "  }\n",
        "  return MinNumCoins[m];\n",
        "}\n",
        "\n",
        "int main() {\n",
        "  int m;\n",
        "  std::cin >> m;\n",
        "  std::cout << get_change(m) << '\\n';\n",
        "}"
      ]
    },
    {
      "cell_type": "code",
      "execution_count": null,
      "metadata": {
        "colab": {
          "base_uri": "https://localhost:8080/"
        },
        "id": "PkQI2l9lK_Oz",
        "outputId": "b5d24b80-9149-46d4-af1a-096e3e25ca8c"
      },
      "outputs": [
        {
          "name": "stdout",
          "output_type": "stream",
          "text": [
            "2\n",
            "2\n"
          ]
        }
      ],
      "source": [
        "!g++ Money_Change_Again.cpp -o Money_Change_Again\n",
        "!./Money_Change_Again"
      ]
    },
    {
      "cell_type": "code",
      "execution_count": null,
      "metadata": {
        "colab": {
          "base_uri": "https://localhost:8080/"
        },
        "id": "9GueZFIBhPf-",
        "outputId": "d8379a03-08c1-487a-ac1e-bbe768bba33b"
      },
      "outputs": [
        {
          "name": "stdout",
          "output_type": "stream",
          "text": [
            "34\n",
            "9\n"
          ]
        }
      ],
      "source": [
        "!g++ Money_Change_Again.cpp -o Money_Change_Again\n",
        "!./Money_Change_Again"
      ]
    },
    {
      "cell_type": "markdown",
      "metadata": {
        "id": "VewHrf3-iRMw"
      },
      "source": [
        "#Primitive Calculator#"
      ]
    },
    {
      "cell_type": "code",
      "execution_count": null,
      "metadata": {
        "colab": {
          "base_uri": "https://localhost:8080/"
        },
        "id": "YcNT99XGglSF",
        "outputId": "4a4a481f-218c-4f00-b15f-560769cbd791"
      },
      "outputs": [
        {
          "name": "stdout",
          "output_type": "stream",
          "text": [
            "Overwriting Primitive_Calculator.cpp\n"
          ]
        }
      ],
      "source": [
        "%%writefile Primitive_Calculator.cpp\n",
        "#include <iostream>\n",
        "#include <limits>\n",
        "#include <vector>\n",
        "#include <algorithm>\n",
        "\n",
        "using std::vector;\n",
        "using std::min;\n",
        "\n",
        "vector<int> optimal_sequence(int n) {\n",
        "\tvector<int> hops(n + 1);\n",
        "\tvector<int> sequences;\n",
        "  int max_int = std::numeric_limits<int>::max();\n",
        "\tint opt1, opt2, opt3;\n",
        "\tfor (int i = 2; i <= n; i++) {\n",
        "\t\topt1 = max_int;\n",
        "    opt2 = max_int;\n",
        "    opt3 = max_int;\n",
        "\t\tif (i - 1 >= 0) { \n",
        "      opt1 = hops[i - 1] + 1; \n",
        "    }\n",
        "\t\tif (i % 2 == 0 && i / 2 >= 0) { \n",
        "      opt2 = hops[i / 2] + 1; \n",
        "    }\n",
        "\t\tif (i % 3 == 0 && i / 3 >= 0) {\n",
        "       opt3 = hops[i / 3] + 1; \n",
        "    }\n",
        "\t\thops[i] = min(opt1, min(opt2, opt3));\n",
        "\t}\n",
        "\tint nums = hops[n];\n",
        "\twhile (n > 1) {\n",
        "\t\tif (n % 3 == 0 && hops[n / 3] + 1 == hops[n]) {\n",
        "\t\t\tsequences.push_back(n);\n",
        "\t\t\tn = n/3;\n",
        "\t\t} else if (n % 2 == 0 && hops[n / 2] + 1 == hops[n]) {\n",
        "\t\t\tsequences.push_back(n);\n",
        "\t\t\tn = n/2;\n",
        "\t\t} else if (hops[n - 1] + 1 == hops[n]) {\n",
        "\t\t\tsequences.push_back(n);\n",
        "\t\t\tn -= 1;\n",
        "\t\t}\n",
        "\t}\n",
        "\tsequences.push_back(1);\n",
        "\treverse(sequences.begin(), sequences.end());\n",
        "\treturn sequences;\n",
        "}\n",
        "\n",
        "int main() {\n",
        "\tint n;\n",
        "\tstd::cin >> n;\n",
        "\t// cout << optimal_sequence(n) << endl;\n",
        "\n",
        "\tvector<int> sequence = optimal_sequence(n);\n",
        "\tstd::cout << sequence.size() - 1 << std::endl;\n",
        "\tfor (size_t i = 0; i < sequence.size(); ++i) {\n",
        "\t\tstd::cout << sequence[i] << \" \";\n",
        "\t}\n",
        "}"
      ]
    },
    {
      "cell_type": "code",
      "execution_count": null,
      "metadata": {
        "colab": {
          "base_uri": "https://localhost:8080/"
        },
        "id": "jS6Rzh6xg0vl",
        "outputId": "2df2b3a9-9d79-4853-ca14-11a18865d089"
      },
      "outputs": [
        {
          "name": "stdout",
          "output_type": "stream",
          "text": [
            "1\n",
            "0\n",
            "1 "
          ]
        }
      ],
      "source": [
        "!g++ Primitive_Calculator.cpp -o Primitive_Calculator\n",
        "!./Primitive_Calculator"
      ]
    },
    {
      "cell_type": "code",
      "execution_count": null,
      "metadata": {
        "colab": {
          "base_uri": "https://localhost:8080/"
        },
        "id": "NqVTbALrlvsE",
        "outputId": "a1b9c30b-b6cc-4ff3-f0ce-f018397718f9"
      },
      "outputs": [
        {
          "name": "stdout",
          "output_type": "stream",
          "text": [
            "5\n",
            "3\n",
            "1 2 4 5 "
          ]
        }
      ],
      "source": [
        "!g++ Primitive_Calculator.cpp -o Primitive_Calculator\n",
        "!./Primitive_Calculator"
      ]
    },
    {
      "cell_type": "code",
      "execution_count": null,
      "metadata": {
        "colab": {
          "base_uri": "https://localhost:8080/"
        },
        "id": "vjprt0VJlyEL",
        "outputId": "7d6f7640-247c-4819-fda6-f264004341d3"
      },
      "outputs": [
        {
          "name": "stdout",
          "output_type": "stream",
          "text": [
            "96234\n",
            "14\n",
            "1 3 9 10 11 22 66 198 594 1782 5346 16038 16039 32078 96234 "
          ]
        }
      ],
      "source": [
        "!g++ Primitive_Calculator.cpp -o Primitive_Calculator\n",
        "!./Primitive_Calculator"
      ]
    },
    {
      "cell_type": "markdown",
      "metadata": {
        "id": "CKgHYswPkywa"
      },
      "source": [
        "#Edit Distance#"
      ]
    },
    {
      "cell_type": "code",
      "execution_count": null,
      "metadata": {
        "colab": {
          "base_uri": "https://localhost:8080/"
        },
        "id": "4tmemBx1k1wQ",
        "outputId": "59b3ada4-4842-4f18-b2e7-36da698af104"
      },
      "outputs": [
        {
          "name": "stdout",
          "output_type": "stream",
          "text": [
            "Overwriting Edit_Distance.cpp\n"
          ]
        }
      ],
      "source": [
        "%%writefile Edit_Distance.cpp\n",
        "#include <iostream>\n",
        "#include <string>\n",
        "#include <algorithm>\n",
        "\n",
        "using std::string;\n",
        "\n",
        "int edit_distance(const string &str1, const string &str2) {\n",
        "  int m = str1.size();\n",
        "  int n = str2.size();\n",
        "  int D[m + 1][n + 1];\n",
        "  for(int a = 0; a < m + 1; a++){\n",
        "      D[a][0] = a;\n",
        "  }\n",
        "  for(int b = 0; b < n + 1; b++){\n",
        "      D[0][b] = b;\n",
        "  }\n",
        "\n",
        "  for(int i = 1; i <= m; i++){\n",
        "    for(int j = 1; j <= n; j++){\n",
        "          int insertion = D[i][j-1] + 1;\n",
        "          int deletion = D[i-1][j] + 1;\n",
        "          int match = D[i-1][j-1];\n",
        "          int mismatch = D[i-1][j-1] + 1;\n",
        "          if(str1[i-1] == str2[j-1]){\n",
        "              D[i][j] = match;\n",
        "          }else{\n",
        "              int min_2 = std::min(insertion, deletion);\n",
        "              D[i][j] = std::min(min_2, mismatch);\n",
        "          }\n",
        "      }\n",
        "  \t}\n",
        "  return D[m][n];\n",
        "}\n",
        "\n",
        "int main() {\n",
        "  string str1;\n",
        "  string str2;\n",
        "  std::cin >> str1 >> str2;\n",
        "  std::cout << edit_distance(str1, str2) << std::endl;\n",
        "  return 0;\n",
        "}"
      ]
    },
    {
      "cell_type": "code",
      "execution_count": null,
      "metadata": {
        "colab": {
          "base_uri": "https://localhost:8080/"
        },
        "id": "hXbtFVObtr6j",
        "outputId": "d0e2bf73-79c7-4451-a9a7-2a5dd7be8f8e"
      },
      "outputs": [
        {
          "name": "stdout",
          "output_type": "stream",
          "text": [
            "ab\n",
            "ab\n",
            "0\n"
          ]
        }
      ],
      "source": [
        "!g++ Edit_Distance.cpp -o Edit_Distance\n",
        "!./Edit_Distance"
      ]
    },
    {
      "cell_type": "code",
      "execution_count": null,
      "metadata": {
        "colab": {
          "base_uri": "https://localhost:8080/"
        },
        "id": "6m8WgxfTyB7n",
        "outputId": "01f48b8a-3d9f-4789-9b92-d4ada8fba530"
      },
      "outputs": [
        {
          "name": "stdout",
          "output_type": "stream",
          "text": [
            "short\n",
            "ports\n",
            "3\n"
          ]
        }
      ],
      "source": [
        "!g++ Edit_Distance.cpp -o Edit_Distance\n",
        "!./Edit_Distance"
      ]
    },
    {
      "cell_type": "code",
      "execution_count": null,
      "metadata": {
        "colab": {
          "base_uri": "https://localhost:8080/"
        },
        "id": "d0SkuG9uyRb3",
        "outputId": "5722a3d6-5edc-4ff4-ca8b-48618e536675"
      },
      "outputs": [
        {
          "name": "stdout",
          "output_type": "stream",
          "text": [
            "editing\n",
            "distance\n",
            "5\n"
          ]
        }
      ],
      "source": [
        "!g++ Edit_Distance.cpp -o Edit_Distance\n",
        "!./Edit_Distance"
      ]
    },
    {
      "cell_type": "markdown",
      "metadata": {
        "id": "fsh5YpvjlWes"
      },
      "source": [
        "#Longest Common Subsequence of Two Sequences#"
      ]
    },
    {
      "cell_type": "code",
      "execution_count": null,
      "metadata": {
        "colab": {
          "base_uri": "https://localhost:8080/"
        },
        "id": "_ZquR1iElZLz",
        "outputId": "fd80ae20-a99d-46af-c974-b1301bdb49eb"
      },
      "outputs": [
        {
          "name": "stdout",
          "output_type": "stream",
          "text": [
            "Overwriting Longest_Common_Subsequence_of_Two_Sequences.cpp\n"
          ]
        }
      ],
      "source": [
        "%%writefile Longest_Common_Subsequence_of_Two_Sequences.cpp\n",
        "#include <iostream>\n",
        "#include <vector>\n",
        "\n",
        "using std::vector;\n",
        "\n",
        "int lcs2(vector<int> &a, vector<int> &b) {\n",
        "  int matrix[a.size() + 1][b.size() + 1];\n",
        "  for(int i = 0; i <= a.size(); i++){\n",
        "      matrix[i][0] = 0;\n",
        "  }\n",
        "  for(int j = 0; j <= b.size(); j++){\n",
        "      matrix[0][j] = 0;\n",
        "  }\n",
        "  for(int i = 1; i <= a.size(); i++){\n",
        "      for(int j = 1; j <= b.size(); j++){\n",
        "        int diagonal = matrix[i-1][j-1] + 1;\n",
        "        int left = matrix[i][j-1];\n",
        "        int up = matrix[i-1][j];\n",
        "        if(a[i-1] == b[j-1]){\n",
        "            matrix[i][j] = diagonal;\n",
        "        }else{\n",
        "            matrix[i][j] = std::max(up, left);\n",
        "        }\n",
        "      }\n",
        "  }\n",
        "  return matrix[a.size()][b.size()];\n",
        "}\n",
        "\n",
        "int main() {\n",
        "  size_t n;\n",
        "  std::cin >> n;\n",
        "  vector<int> a(n);\n",
        "  for (size_t i = 0; i < n; i++) {\n",
        "    std::cin >> a[i];\n",
        "  }\n",
        "\n",
        "  size_t m;\n",
        "  std::cin >> m;\n",
        "  vector<int> b(m);\n",
        "  for (size_t i = 0; i < m; i++) {\n",
        "    std::cin >> b[i];\n",
        "  }\n",
        "\n",
        "  std::cout << lcs2(a, b) << std::endl;\n",
        "}"
      ]
    },
    {
      "cell_type": "code",
      "execution_count": null,
      "metadata": {
        "colab": {
          "base_uri": "https://localhost:8080/"
        },
        "id": "BhNNy497qXca",
        "outputId": "95f97262-2076-4897-a635-7c7256f13d3b"
      },
      "outputs": [
        {
          "name": "stdout",
          "output_type": "stream",
          "text": [
            "3\n",
            "2 7 5\n",
            "2\n",
            "2 5\n",
            "2\n"
          ]
        }
      ],
      "source": [
        "!g++ Longest_Common_Subsequence_of_Two_Sequences.cpp -o Longest_Common_Subsequence_of_Two_Sequences\n",
        "!./Longest_Common_Subsequence_of_Two_Sequences"
      ]
    },
    {
      "cell_type": "code",
      "execution_count": null,
      "metadata": {
        "colab": {
          "base_uri": "https://localhost:8080/"
        },
        "id": "6ScJY_EQq_vP",
        "outputId": "3e205d3b-9195-4f05-d0c0-3cd1d4e94800"
      },
      "outputs": [
        {
          "name": "stdout",
          "output_type": "stream",
          "text": [
            "1\n",
            "7\n",
            "4\n",
            "1 2 3 4\n",
            "0\n"
          ]
        }
      ],
      "source": [
        "!g++ Longest_Common_Subsequence_of_Two_Sequences.cpp -o Longest_Common_Subsequence_of_Two_Sequences\n",
        "!./Longest_Common_Subsequence_of_Two_Sequences"
      ]
    },
    {
      "cell_type": "code",
      "execution_count": null,
      "metadata": {
        "colab": {
          "base_uri": "https://localhost:8080/"
        },
        "id": "fLiHhwQ4rUeC",
        "outputId": "174767de-ecbc-4616-bc2e-0ec921ca8bef"
      },
      "outputs": [
        {
          "name": "stdout",
          "output_type": "stream",
          "text": [
            "4\n",
            "2 7 8 3\n",
            "4\n",
            "5 2 8 7\n",
            "2\n"
          ]
        }
      ],
      "source": [
        "!g++ Longest_Common_Subsequence_of_Two_Sequences.cpp -o Longest_Common_Subsequence_of_Two_Sequences\n",
        "!./Longest_Common_Subsequence_of_Two_Sequences"
      ]
    },
    {
      "cell_type": "markdown",
      "metadata": {
        "id": "BHtmDmFtleLD"
      },
      "source": [
        "#Longest Common Subsequence of Three Sequences#"
      ]
    },
    {
      "cell_type": "code",
      "execution_count": null,
      "metadata": {
        "colab": {
          "base_uri": "https://localhost:8080/"
        },
        "id": "2_s_k7dRlmvz",
        "outputId": "37d39121-b0e7-40e8-91f2-09dda61b886b"
      },
      "outputs": [
        {
          "name": "stdout",
          "output_type": "stream",
          "text": [
            "Writing Longest_Common_Subsequence_of_Three_Sequences.cpp\n"
          ]
        }
      ],
      "source": [
        "%%writefile Longest_Common_Subsequence_of_Three_Sequences.cpp\n",
        "#include <iostream>\n",
        "#include <vector>\n",
        "\n",
        "using std::vector;\n",
        "using std::max;\n",
        "\n",
        "int lcs3(vector<int> &a, vector<int> &b, vector<int> &c) {\n",
        "  int matrix[a.size() + 1][b.size() + 1][c.size() + 1];\n",
        "  for(int i = 0; i <= a.size(); i++){\n",
        "      for(int j = 0; j <= b.size(); j++){\n",
        "        for(int k = 0; k <= c.size(); k++){\n",
        "            matrix[i][j][k] = 0;\n",
        "        }\n",
        "      }\n",
        "  }\n",
        "  for(int i = 1; i <= a.size(); i++){\n",
        "      for(int j = 1; j <= b.size(); j++){\n",
        "        for(int k = 1; k <= c.size(); k++){\n",
        "            if(a[i-1] == b[j-1] && b[j-1] == c[k-1]){\n",
        "              matrix[i][j][k] = matrix[i - 1][j - 1][k - 1] + 1;\n",
        "            }else{\n",
        "              matrix[i][j][k] = max(matrix[i][j][k -1], max(matrix[i][j- 1][k], \n",
        "                                max(matrix[i - 1][j][k], max(matrix[i][j - 1][k -1], \n",
        "                                max(matrix[i - 1][j][k -1], max(matrix[i - 1][j - 1][k],\n",
        "                                matrix[i - 1][j - 1][k -1] ) ) ) ) ) );\n",
        "            }\n",
        "        }\n",
        "      }\n",
        "  }\n",
        "  return matrix[a.size()][b.size()][c.size()];\n",
        "}\n",
        "\n",
        "int main() {\n",
        "  size_t an;\n",
        "  std::cin >> an;\n",
        "  vector<int> a(an);\n",
        "  for (size_t i = 0; i < an; i++) {\n",
        "    std::cin >> a[i];\n",
        "  }\n",
        "  size_t bn;\n",
        "  std::cin >> bn;\n",
        "  vector<int> b(bn);\n",
        "  for (size_t i = 0; i < bn; i++) {\n",
        "    std::cin >> b[i];\n",
        "  }\n",
        "  size_t cn;\n",
        "  std::cin >> cn;\n",
        "  vector<int> c(cn);\n",
        "  for (size_t i = 0; i < cn; i++) {\n",
        "    std::cin >> c[i];\n",
        "  }\n",
        "  std::cout << lcs3(a, b, c) << std::endl;\n",
        "}"
      ]
    },
    {
      "cell_type": "code",
      "execution_count": null,
      "metadata": {
        "colab": {
          "base_uri": "https://localhost:8080/"
        },
        "id": "d4vccxRzx7LN",
        "outputId": "c09f8934-78d5-457b-be8a-655ad7547109"
      },
      "outputs": [
        {
          "name": "stdout",
          "output_type": "stream",
          "text": [
            "3\n",
            "1 2 3\n",
            "3\n",
            "2 1 3\n",
            "3\n",
            "1 3 5\n",
            "2\n"
          ]
        }
      ],
      "source": [
        "!g++ Longest_Common_Subsequence_of_Three_Sequences.cpp -o Longest_Common_Subsequence_of_Three_Sequences\n",
        "!./Longest_Common_Subsequence_of_Three_Sequences"
      ]
    },
    {
      "cell_type": "code",
      "execution_count": null,
      "metadata": {
        "colab": {
          "base_uri": "https://localhost:8080/"
        },
        "id": "BeTwGWZfyvc7",
        "outputId": "9f2d8487-e194-4d56-e4fb-09244c8508f8"
      },
      "outputs": [
        {
          "name": "stdout",
          "output_type": "stream",
          "text": [
            "5\n",
            "8 3 2 1 7\n",
            "7\n",
            "8 2 1 3 8 10 7\n",
            "6\n",
            "6 8 3 1 4 7\n",
            "3\n"
          ]
        }
      ],
      "source": [
        "!g++ Longest_Common_Subsequence_of_Three_Sequences.cpp -o Longest_Common_Subsequence_of_Three_Sequences\n",
        "!./Longest_Common_Subsequence_of_Three_Sequences"
      ]
    },
    {
      "cell_type": "markdown",
      "metadata": {},
      "source": [
        "# Screenshots\n",
        "\n",
        "## Tania Quijano\n",
        "\n",
        "<img src='./tania.jpeg'>\n",
        "\n",
        "## Juan Santamaria \n",
        "\n",
        "<img src='./motta.jpeg'>\n",
        "\n",
        "## Nestor Garzon\n",
        "\n",
        "<img src='./sebastian.png'>"
      ]
    }
  ],
  "metadata": {
    "colab": {
      "collapsed_sections": [],
      "name": "AlgorithmicToolboxWeek5Group13.ipynb",
      "provenance": []
    },
    "kernelspec": {
      "display_name": "Python 3",
      "name": "python3"
    },
    "language_info": {
      "name": "python"
    }
  },
  "nbformat": 4,
  "nbformat_minor": 0
}
