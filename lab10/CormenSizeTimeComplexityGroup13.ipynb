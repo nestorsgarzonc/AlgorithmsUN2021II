{
  "cells": [
    {
      "cell_type": "markdown",
      "metadata": {
        "id": "szukBFthF1_s"
      },
      "source": [
        "# Group 13\n",
        "\n",
        "13 MOD 4 = 1\n"
      ]
    },
    {
      "cell_type": "markdown",
      "metadata": {
        "id": "6KAlDWszYOtH"
      },
      "source": [
        "# 1.(10 nanoseconds by instruction)\n",
        "\n",
        "Asuuming that you can execute a 100 million instructions $100 \\times 10^6$ every second, i.e. each instrcution takes 10 nanoseconds, 10 $\\eta s  = 10^{-8} s $. If you have algorithms take $\\bf{ Time\\ Complexity}$ steps to solve a poblem of size $n$ as specified in column one. What is the size of the largest porblem that you can solve in the time specified in row one?\n",
        "\n",
        "$$\n",
        "\\begin{array}{|c|c|c|c|c|c|c|c|}\n",
        " \\hline\n",
        " \\bf{ Time\\ Complexity} & Second  & Minute  & Hour & Day & Year & Century & Mileniun  \\\\\n",
        "  \\hline\\\\\n",
        "\\lg(n) &  2^{10^{8}}  & 2^{60 \\times 10^{8}}  & 2^{3600 \\times 10^{8}} & 2^{86400 \\times 10^{8}} & 2^{3.154\\times10^{7} \\times 10^{8}} & 2^{3.154\\times10^{9} \\times 10^{8}} & 2^{3.154\\times10^{10} \\times 10^{8}} \\\\\n",
        "   \\hline\\\\\n",
        "\\lg^2(n) &  2^{\\sqrt{{10^{8}}}}  & 2^{\\sqrt{{60 \\times 10^{8}}}}  & 2^{\\sqrt{3600 \\times 10^{8}}} & 2^{\\sqrt{86400 \\times 10^{8}}} & 2^{\\sqrt{3.154\\times10^{10}}} & 2^{\\sqrt{3.154\\times10^{9} \\times 10^{8}}} & 2^{\\sqrt{3.154\\times10^{10} \\times 10^{8}}} \\\\\n",
        "   \\hline\\\\\n",
        "\\sqrt{n} &  {10^{16}}  & 60^2 \\times {10^{16}}  & 3600^2 \\times {10^{16}} & 86400^2 \\times {10^{16}} & 3.154\\times10^{14} \\times {10^{16}} & 3.154\\times10^{18} \\times {10^{16}} & 3.154\\times10^{20} \\times {10^{16}} \\\\\n",
        " \\hline\n",
        " n & {10^{8}}   & 60 \\times {10^{8}}  & 3600 \\times {10^{8}} & 86400 \\times {10^{8}} & 3.154\\times10^{7} \\times {10^{8}} & 3.154\\times10^{9} \\times {10^{8}} & 3.154\\times10^{10} \\times {10^{8}} \\\\\n",
        " \\hline\n",
        " n\\lg(n) & 4.52 \\times 10^{6}   & 2.16 \\times 10^{8}  & 1.08 \\times 10^{10} & 2.28 \\times 10^{11} & 6.86 \\times 10^{13} & 6.01 \\times 10^{15} & 5.66 \\times 10^{16} \\\\\n",
        " \\hline\n",
        " n^2 & 10000  & 77460  & 600000 & 2939387 & 56160484 & 561604843 & 1775950450 \\\\\n",
        " \\hline\n",
        "  n^3 &  464  & 1817  & 7113.78 & 20519.71 & 146651.74 & 680697.09 & 1466517.43 \\\\\n",
        " \\hline\n",
        "  n^4 &  100  & 278 & 775 & 1714 & 7494.02 & 23698.2 & 42142.02 \\\\\n",
        " \\hline\n",
        "  2^n &  27  & 32  & 38 & 43 & 51 & 58  & 61  \\\\\n",
        " \\hline\n",
        " n! &  11  & 12  & 14 & 15 & 17 & 19 & 20 \\\\\n",
        " \\hline\n",
        " n^n &  8.57  & 9.84  & 11.06 & 11.99 & 13.65 & 14.91 & 15.52 \\\\\n",
        " \\hline\n",
        "\\end{array}\n",
        "$$\n"
      ]
    },
    {
      "cell_type": "markdown",
      "metadata": {
        "id": "cGZZVtkuyTSh"
      },
      "source": [
        "$\\bf{ Time\\ Complexity\\ \\lg(n) }$\n",
        "\n",
        "$Second$\n",
        "$$ \\lg(n) \\times 10^{-8}\\ s\\le 1\\ s$$\n",
        "$$ \\lg(n) \\le 1 \\times 10^{8}$$\n",
        "$$ 2^{\\lg(n)} \\le 2^{10^{8}}$$\n",
        "$$ n \\le 2^{10^{8}}$$\n",
        "\n",
        "$Minute$\n",
        "$$ \\lg(n) \\times 10^{-8}\\ s \\le 60\\ s$$\n",
        "$$ \\lg(n) \\le 60 \\times 10^{8}$$\n",
        "$$ 2^{\\lg(n)} \\le 2^{60 \\times 10^{8}}$$\n",
        "$$ n \\le 2^{60 \\times 10^{8}}$$\n",
        "\n",
        "$Hour$\n",
        "$$ \\lg(n) \\times 10^{-8}\\ s \\le 3600\\ s$$\n",
        "$$ \\lg(n) \\le 3600 \\times 10^{8}$$\n",
        "$$ 2^{\\lg(n)} \\le 2^{3600 \\times 10^{8}}$$\n",
        "$$ n \\le 2^{3600 \\times 10^{8}}$$\n",
        "\n",
        "$Day$\n",
        "$$ \\lg(n) \\times 10^{-8}\\ s \\le 86400\\ s$$\n",
        "$$ \\lg(n) \\le 86400 \\times 10^{8}$$\n",
        "$$ 2^{\\lg(n)} \\le 2^{86400 \\times 10^{8}}$$\n",
        "$$ n \\le 2^{86400 \\times 10^{8}}$$\n",
        "\n",
        "$Year$\n",
        "$$ \\lg(n) \\times 10^{-8}\\ s \\le 3.154\\times10^{7}\\ s$$\n",
        "$$ \\lg(n) \\le 3.154\\times10^{7} \\times 10^{8}$$\n",
        "$$ 2^{\\lg(n)} \\le 2^{3.154\\times10^{7} \\times 10^{8}}$$\n",
        "$$ n \\le 2^{3.154\\times10^{7} \\times 10^{8}}$$\n",
        "\n",
        "$Century$\n",
        "$$ \\lg(n) \\times 10^{-8}\\ s \\le 3.154\\times10^{9}\\ s$$\n",
        "$$ \\lg(n) \\le 3.154\\times10^{9} \\times 10^{8}$$\n",
        "$$ 2^{\\lg(n)} \\le 2^{3.154\\times10^{9} \\times 10^{8}}$$\n",
        "$$ n \\le 2^{3.154\\times10^{9} \\times 10^{8}}$$\n",
        "\n",
        "$Milenium$\n",
        "$$ \\lg(n) \\times 10^{-8}\\ s \\le 3.154\\times10^{10}\\ s$$\n",
        "$$ \\lg(n) \\le 3.154\\times10^{10} \\times 10^{8}$$\n",
        "$$ 2^{\\lg(n)} \\le 2^{3.154\\times10^{10} \\times 10^{8}}$$\n",
        "$$ n \\le 2^{3.154\\times10^{10} \\times 10^{8}}$$\n"
      ]
    },
    {
      "cell_type": "code",
      "execution_count": 18,
      "metadata": {
        "colab": {
          "base_uri": "https://localhost:8080/"
        },
        "id": "r3krvZiayWiu",
        "outputId": "933a49e5-44c5-42b9-e795-6ff5e4b27140"
      },
      "outputs": [
        {
          "name": "stdout",
          "output_type": "stream",
          "text": [
            "For lg(n): \n",
            "Second: 2**100000000\n",
            "Hour: 2**360000000000\n",
            "Day: 2**8640000000000\n",
            "Year: 2**3154000000000000\n",
            "Century: 2**315400000000000000\n",
            "Millenium: 2**3154000000000000000\n"
          ]
        }
      ],
      "source": [
        "import math\n",
        "print(\"For lg(n): \")\n",
        "print(f\"Second: 2**{round((10**8))}\")\n",
        "print(f\"Hour: 2**{round((10**8)*3600)}\")\n",
        "print(f\"Day: 2**{round((10**8)*86400)}\")\n",
        "print(f\"Year: 2**{round((10**8)*(3.154)*(10**7))}\")\n",
        "print(f\"Century: 2**{round((10**8)*(3.154)*(10**9))}\")\n",
        "print(f\"Millenium: 2**{round((10**8)*(3.154)*(10**10))}\")\n"
      ]
    },
    {
      "cell_type": "markdown",
      "metadata": {
        "id": "79qHiFOtyhX0"
      },
      "source": [
        "$\\bf{ Time\\ Complexity\\ \\lg^2(n) }$\n",
        "\n",
        "$Second$\n",
        "$$ \\lg^2(n) \\times 10^{-8}\\ s\\le 1\\ s$$\n",
        "$$ \\lg^2(n) \\le 1 \\times 10^{8}$$\n",
        "$$ \\sqrt{lg^2(n)} \\le \\sqrt{1 \\times 10^{8}}$$\n",
        "\n",
        "$$we \\ take \\ n<=$$\n",
        "\n",
        "$$ lg(n) \\le 10^{4}$$\n",
        "$$ n \\le 2^{10^{4}}$$\n",
        "\n",
        "$Minute$\n",
        "$$ \\lg^2(n) \\times 10^{-8}\\ s\\le 60\\ s$$\n",
        "$$ \\lg^2(n) \\le 60 \\times 10^{8}$$\n",
        "$$ \\sqrt{lg^2(n)} \\le \\sqrt{60 \\times 10^{8}}$$\n",
        "\n",
        "$$we \\ take \\ n<=$$\n",
        "\n",
        "$$ lg(n) \\le 20000 \\times \\sqrt{15}$$\n",
        "$$ n \\le 2^{20000 \\times \\sqrt{15}}$$\n",
        "\n",
        "$Hour$\n",
        "$$ \\lg^2(n) \\times 10^{-8}\\ s\\le 3600\\ s$$\n",
        "$$ \\lg^2(n) \\le 3600 \\times 10^{8}$$\n",
        "$$ \\sqrt{lg^2(n)} \\le \\sqrt{3600 \\times 10^{8}}$$\n",
        "\n",
        "$$we \\ take \\ n<=$$\n",
        "\n",
        "$$ lg(n) \\le 600000$$\n",
        "$$ n \\le 2^{60^{4}}$$\n",
        "\n",
        "$Day$\n",
        "$$ \\lg^2(n) \\times 10^{-8}\\ s\\le 86400\\ s$$\n",
        "$$ \\lg^2(n) \\le 86400 \\times 10^{8}$$\n",
        "$$ \\sqrt{lg^2(n)} \\le \\sqrt{86400 \\times 10^{8}}$$\n",
        "\n",
        "$$we \\ take \\ n<=$$\n",
        "\n",
        "$$ lg(n) \\le 1200000 \\times \\sqrt{6}$$\n",
        "$$ n \\le 2^{1200000 \\times \\sqrt{6}}$$\n",
        "\n",
        "$Year$\n",
        "$$ \\lg^2(n) \\times 10^{-8}\\ s\\le 3.154\\times10^{7}\\ s$$\n",
        "$$ \\lg^2(n) \\le 3.154\\times10^{7} \\times 10^{8}$$\n",
        "$$ \\sqrt{lg^2(n)} \\le \\sqrt{3.154\\times10^{7} \\times 10^{8}}$$\n",
        "\n",
        "$$we \\ take \\ n<=$$\n",
        "\n",
        "$$ lg(n) \\le 5.61^{7}$$\n",
        "$$ n \\le 2^{5.61^{7}}$$\n",
        "\n",
        "$Century$\n",
        "$$ \\lg^2(n) \\times 10^{-8}\\ s\\le 3.154\\times10^{9}\\ s$$\n",
        "$$ \\lg^2(n) \\le 3.154\\times10^{9} \\times 10^{8}$$\n",
        "$$ \\sqrt{lg^2(n)} \\le \\sqrt{3.154\\times10^{9} \\times 10^{8}}$$\n",
        "\n",
        "$$we \\ take \\ n<=$$\n",
        "\n",
        "$$ lg(n) \\le 5.61^{8}$$\n",
        "$$ n \\le 2^{5.61^{8}}$$\n",
        "\n",
        "$Milenium$\n",
        "$$ \\lg^2(n) \\times 10^{-8}\\ s\\le 3.154\\times10^{10}\\ s$$\n",
        "$$ \\lg^2(n) \\le 3.154\\times10^{10} \\times 10^{8}$$\n",
        "$$ \\sqrt{lg^2(n)} \\le \\sqrt{3.154\\times10^{10} \\times 10^{8}}$$\n",
        "\n",
        "$$ lg(n) \\le 1.77^{9}$$\n",
        "$$ n \\le 2^{1.77^{9}}$$\n"
      ]
    },
    {
      "cell_type": "code",
      "execution_count": 17,
      "metadata": {
        "colab": {
          "base_uri": "https://localhost:8080/"
        },
        "id": "I-A4zBxXype4",
        "outputId": "937bbd10-7343-41c7-a51a-7648fa67be6b"
      },
      "outputs": [
        {
          "name": "stdout",
          "output_type": "stream",
          "text": [
            "For lg**2(n): \n",
            "Second: 2**10000\n",
            "Minute: 2**77460\n",
            "Hour: 2**600000\n",
            "Day: 2**2939388\n",
            "Year: 2**56160484\n",
            "Century: 2**561604843\n",
            "Millenium: 2**1775950450\n"
          ]
        }
      ],
      "source": [
        "import math\n",
        "print(\"For lg**2(n): \")\n",
        "print(f\"Second: 2**{round(math.sqrt((10**8)))}\")\n",
        "print(f\"Minute: 2**{round(math.sqrt((10**8)*60))}\")\n",
        "print(f\"Hour: 2**{round(math.sqrt((10**8)*3600))}\")\n",
        "print(f\"Day: 2**{round(math.sqrt((10**8)*86400))}\")\n",
        "print(f\"Year: 2**{round(math.sqrt((10**8)*(3.154)*(10**7)))}\")\n",
        "print(f\"Century: 2**{round(math.sqrt((10**9)*(3.154)*(10**8)))}\")\n",
        "print(f\"Millenium: 2**{round(math.sqrt((10**10)*(3.154)*(10**8)))}\")\n"
      ]
    },
    {
      "cell_type": "markdown",
      "metadata": {
        "id": "eAK_wJ7XioFd"
      },
      "source": [
        "$\\bf{ Time\\ Complexity\\ \\sqrt{n} }$\n",
        "\n",
        "$Second$\n",
        "$$ \\sqrt{n} \\times 10^{-8}\\ s\\le 1\\ s$$\n",
        "$$ \\sqrt{n} \\le 1 \\* 10^{8}$$\n",
        "$$ {\\sqrt{n}^2} \\le {10^{8}}^2$$\n",
        "$$ n \\le {10^{16}}$$\n",
        "\n",
        "$Minute$\n",
        "$$ \\sqrt{n} \\times 10^{-8}\\ s\\le 60\\ s$$\n",
        "$$ \\sqrt{n} \\le 60 \\times 10^{8}$$\n",
        "$$ {\\sqrt{n}^2} \\le 60 \\times {10^{8}}^2$$\n",
        "$$ n \\le 60^2 \\times {10^{16}}$$\n",
        "\n",
        "$Hour$\n",
        "$$ \\sqrt{n} \\times 10^{-8}\\ s\\le 3600\\ s$$\n",
        "$$ \\sqrt{n} \\le 3600 \\times 10^{8}$$\n",
        "$$ {\\sqrt{n}^2} \\le 3600 \\times {10^{8}}^2$$\n",
        "$$ n \\le 3600^2 \\times {10^{16}}$$\n",
        "\n",
        "$Day$\n",
        "$$ \\sqrt{n} \\times 10^{-8}\\ s\\le 86400\\ s$$\n",
        "$$ \\sqrt{n} \\le 86400 \\times 10^{8}$$\n",
        "$$ {\\sqrt{n}^2} \\le 86400 \\times {10^{8}}^2$$\n",
        "$$ n \\le 86400^2 \\times {10^{16}}$$\n",
        "\n",
        "$Year$\n",
        "$$ \\sqrt{n} \\times 10^{-8}\\ s\\le 3.154\\times10^{7}\\ s$$\n",
        "$$ \\sqrt{n} \\le 3.154\\times10^{7} \\times 10^{8}$$\n",
        "$$ {\\sqrt{n}^2} \\le 3.154\\times10^{7} \\times {10^{8}}^2$$\n",
        "$$ n \\le 3.154\\times10^{14} \\times {10^{16}}$$\n",
        "\n",
        "$Century$\n",
        "$$ \\sqrt{n} \\times 10^{-8}\\ s\\le 3.154\\times10^{9}\\ s$$\n",
        "$$ \\sqrt{n} \\le 3.154\\times10^{9} \\times 10^{8}$$\n",
        "$$ {\\sqrt{n}^2} \\le 3.154\\times10^{9} \\times {10^{8}}^2$$\n",
        "$$ n \\le 3.154\\times10^{18} \\times {10^{16}}$$\n",
        "\n",
        "$Milenium$\n",
        "$$ \\sqrt{n} \\times 10^{-8}\\ s\\le 3.154\\times10^{10}\\ s$$\n",
        "$$ \\sqrt{n} \\le 3.154\\times10^{10} \\times 10^{8}$$\n",
        "$$ {\\sqrt{n}^2} \\le 3.154\\times10^{10} \\times {10^{8}}^2$$\n",
        "$$ n \\le 3.154\\times10^{20} \\times {10^{16}}$$\n"
      ]
    },
    {
      "cell_type": "code",
      "execution_count": 16,
      "metadata": {
        "colab": {
          "base_uri": "https://localhost:8080/"
        },
        "id": "Gfy8kRQBf1zr",
        "outputId": "2d39a2f1-f194-4242-db3c-7ff787123e5f"
      },
      "outputs": [
        {
          "name": "stdout",
          "output_type": "stream",
          "text": [
            "For sqrt(n): \n",
            "Second: 1e+16\n",
            "Minute: 3.6e+19\n",
            "Hour: 1.296e+23\n",
            "Day: 7.46496e+25\n",
            "Year: 9.947716e+30\n",
            "Century: 9.947716e+34\n",
            "Milenium: 9.947716e+36\n"
          ]
        }
      ],
      "source": [
        "import math\n",
        "print(\"For sqrt(n): \")\n",
        "print(f\"Second: {format(math.pow(10**8, 2))}\")\n",
        "print(f\"Minute: {format(math.pow(60*(10**8), 2))}\")\n",
        "print(f\"Hour: {format(math.pow(3600*(10**8), 2))}\")\n",
        "print(f\"Day: {format(math.pow(86400*(10**8), 2))}\")\n",
        "print(f\"Year: {format(math.pow((3.154)*(10**7)*(10**8), 2))}\")\n",
        "print(f\"Century: {format(math.pow((3.154)*(10**9)*(10**8), 2))}\")\n",
        "print(f\"Milenium: {format(math.pow((3.154)*(10**10)*(10**8), 2))}\")\n"
      ]
    },
    {
      "cell_type": "markdown",
      "metadata": {
        "id": "iKLwtwEiqw_9"
      },
      "source": [
        "$\\bf{ Time\\ Complexity\\ n }$\n",
        "\n",
        "$Second$\n",
        "$$ \\ n \\times 10^{-8}\\ s\\le 1\\ s$$\n",
        "$$ \\ n \\le 1 \\* 10^{8}$$\n",
        "$$ \\ n \\le {10^{8}}$$\n",
        "\n",
        "$Minute$\n",
        "$$ \\ n \\times 10^{-8}\\ s\\le 60\\ s$$\n",
        "$$ \\ n \\le 60 \\times 10^{8}$$\n",
        "$$ \\ n \\le 60 \\times {10^{8}}$$\n",
        "\n",
        "$Hour$\n",
        "$$ \\ n \\times 10^{-8}\\ s\\le 3600\\ s$$\n",
        "$$ \\ n \\le 3600 \\times 10^{8}$$\n",
        "$$ \\ n \\le 3600 \\times {10^{8}}$$\n",
        "\n",
        "$Day$\n",
        "$$ \\ n \\times 10^{-8}\\ s\\le 86400\\ s$$\n",
        "$$ \\ n \\le 86400 \\times 10^{8}$$\n",
        "$$ \\ n \\le 86400 \\times {10^{8}}$$\n",
        "\n",
        "$Year$\n",
        "$$ \\ n \\times 10^{-8}\\ s\\le 3.154\\times10^{7}\\ s$$\n",
        "$$ \\ n \\le 3.154\\times10^{7} \\times 10^{8}$$\n",
        "$$ \\ n \\le 3.154\\times10^{7} \\times {10^{8}}$$\n",
        "\n",
        "$Century$\n",
        "$$ \\ n \\times 10^{-8}\\ s\\le 3.154\\times10^{9}\\ s$$\n",
        "$$ \\ n \\le 3.154\\times10^{9} \\times 10^{8}$$\n",
        "$$ \\ n \\le 3.154\\times10^{9} \\times {10^{8}}$$\n",
        "\n",
        "$Milenium$\n",
        "$$ \\ n \\times 10^{-8}\\ s\\le 3.154\\times10^{10}\\ s$$\n",
        "$$ \\ n \\le 3.154\\times10^{10} \\times 10^{8}$$\n",
        "$$ \\ n \\le 3.154\\times10^{10} \\times {10^{8}}$$\n"
      ]
    },
    {
      "cell_type": "code",
      "execution_count": 15,
      "metadata": {
        "colab": {
          "base_uri": "https://localhost:8080/"
        },
        "id": "6RRq4C0Tq1b0",
        "outputId": "ac9785ff-8a83-49da-e29f-0bb23aee2d1b"
      },
      "outputs": [
        {
          "name": "stdout",
          "output_type": "stream",
          "text": [
            "For n: \n",
            "Second: 100000000\n",
            "Minute: 6000000000\n",
            "Hour: 360000000000\n",
            "Day: 8640000000000\n",
            "Year: 3154000000000000.0\n",
            "Century: 3.154e+17\n",
            "Milenium: 3.154e+18\n"
          ]
        }
      ],
      "source": [
        "print(\"For n: \")\n",
        "print(f\"Second: {(10**8)}\")\n",
        "print(f\"Minute: {((10**8)*60)}\")\n",
        "print(f\"Hour: {((10**8)*3600)}\")\n",
        "print(f\"Day: {((10**8)*86400)}\")\n",
        "print(f\"Year: {((10**8)*(3.154)*(10**7))}\")\n",
        "print(f\"Century: {((10**8)*(3.154)*(10**9))}\")\n",
        "print(f\"Milenium: {((10**8)*(3.154)*(10**10))}\")\n"
      ]
    },
    {
      "cell_type": "markdown",
      "metadata": {
        "id": "miPK3aRn92Q7"
      },
      "source": [
        "$\\bf{ Time\\ Complexity\\ n\\lg(n) }$\n",
        "\n",
        "Solution\n",
        "\n",
        "$$ n \\times lg (n)−1000000 = 0.$$\n",
        "\n",
        "$Second$\n",
        "\n",
        "$$ n \\times lg (n)− 100000000 = 0.$$\n",
        "$$ n = 4.52 \\times 10^{6} $$\n",
        "\n",
        "$Minute$\n",
        "\n",
        "$$ n \\times lg (n)− (100000000 \\times 60) = 0.$$\n",
        "$$ n = 2.16 \\times 10^{8} $$\n",
        "\n",
        "$Hour$\n",
        "\n",
        "$$ n \\times lg (n)− (100000000 \\times 3600) = 0.$$\n",
        "$$ n = 1.08 \\times 10^{10} $$\n",
        "\n",
        "$Day$\n",
        "\n",
        "$$ n \\times lg (n)− (100000000 \\times 86400) = 0.$$\n",
        "$$ n = 2.28 \\times 10^{11} $$\n",
        "\n",
        "$Year$\n",
        "\n",
        "$$ n \\times lg (n)− (100000000 \\times 3.154\\times10^{7}) = 0.$$\n",
        "$$ n = 6.86 \\times 10^{13} $$\n",
        "\n",
        "$Century$\n",
        "\n",
        "$$ n \\times lg (n)− (100000000 \\times 3.154\\times10^{9}) = 0.$$\n",
        "$$ n = 6.01 \\times 10^{15} $$\n",
        "\n",
        "$Milenium$\n",
        "\n",
        "$$ n \\times lg (n)− (100000000 \\times 3.154\\times10^{10}) = 0.$$\n",
        "$$ n = 5.66 \\times 10^{16} $$\n"
      ]
    },
    {
      "cell_type": "markdown",
      "metadata": {
        "id": "rI7E1nkEpEBJ"
      },
      "source": [
        "$\\bf{ Time\\ Complexity\\ n^2 }$\n",
        "\n",
        "$Second$\n",
        "$$ n^2 \\times 10^{-8}\\ s\\le 1\\ s$$\n",
        "$$ n^2 \\le 10^{8}$$\n",
        "$$ \\sqrt{n^2} \\le \\sqrt{10^{8}}$$\n",
        "$$ n \\le 10^4 = 10000 $$\n",
        "\n",
        "$Minute$\n",
        "$$ n^2 \\times 10^{-8}\\ s\\le 60\\ s$$\n",
        "$$ n^2 \\le 60 \\times 10^{8}$$\n",
        "$$ \\sqrt{n^2} \\le \\sqrt{60 \\times10^{8}}$$\n",
        "$$ n \\le 77460 $$\n",
        "\n",
        "$Hour$\n",
        "$$ n^2 \\times 10^{-8}\\ s\\le 3600\\ s$$\n",
        "$$ n^2 \\le 3600 \\times 10^{8}$$\n",
        "$$ \\sqrt{n^2} \\le \\sqrt{3600 \\times10^{8}}$$\n",
        "$$ n \\le 600000 $$\n",
        "\n",
        "$Day$\n",
        "$$ n^2 \\times 10^{-8}\\ s\\le 86400\\ s$$\n",
        "$$ n^2 \\le 86400 \\times 10^{8}$$\n",
        "$$ \\sqrt{n^2} \\le \\sqrt{86400 \\times10^{8}}$$\n",
        "$$ n \\le 2939387 $$\n",
        "\n",
        "$Year$\n",
        "$$ n^2 \\times 10^{-8}\\ s\\le 3.154\\times10^{7}\\ s$$\n",
        "$$ n^2 \\le 3.154\\times10^{7} \\times 10^{8}$$\n",
        "$$ \\sqrt{n^2} \\le \\sqrt{3.154\\times10^{7} \\times10^{8}}$$\n",
        "$$ n \\le 56160484 $$\n",
        "\n",
        "$Century$\n",
        "$$ n^2 \\times 10^{-8}\\ s\\le 3.154\\times10^{9}\\ s$$\n",
        "$$ n^2 \\le 3.154\\times10^{9} \\times 10^{8}$$\n",
        "$$ \\sqrt{n^2} \\le \\sqrt{3.154\\times10^{9} \\times10^{8}}$$\n",
        "$$ n \\le 561604843 $$\n",
        "\n",
        "$Milenium$\n",
        "$$ n^2 \\times 10^{-8}\\ s\\le 3.154\\times10^{10}\\ s$$\n",
        "$$ n^2 \\le 3.154\\times10^{10} \\times 10^{8}$$\n",
        "$$ \\sqrt{n^2} \\le \\sqrt{3.154\\times10^{10} \\times10^{8}}$$\n",
        "$$ n \\le 1775950450 $$\n"
      ]
    },
    {
      "cell_type": "code",
      "execution_count": 14,
      "metadata": {
        "colab": {
          "base_uri": "https://localhost:8080/"
        },
        "id": "HTy0liylkIt8",
        "outputId": "24934e47-c7e3-4cfa-86c9-c661d498fb66"
      },
      "outputs": [
        {
          "name": "stdout",
          "output_type": "stream",
          "text": [
            "For n**2: \n",
            "Second: 10000\n",
            "Minute: 77460\n",
            "Hour: 600000\n",
            "Day: 2939388\n",
            "Year: 56160484\n",
            "Century: 561604843\n",
            "Milenium: 1775950450\n"
          ]
        }
      ],
      "source": [
        "import math\n",
        "print(\"For n**2: \")\n",
        "print(f\"Second: {format(round(math.sqrt((10**8))))}\")\n",
        "print(f\"Minute: {format(round(math.sqrt((10**8)*60)))}\")\n",
        "print(f\"Hour: {format(round(math.sqrt((10**8)*3600)))}\")\n",
        "print(f\"Day: {format(round(math.sqrt((10**8)*86400)))}\")\n",
        "print(f\"Year: {format(round(math.sqrt((10**8)*(3.154)*(10**7))))}\")\n",
        "print(f\"Century: {format(round(math.sqrt((10**8)*(3.154)*(10**9))))}\")\n",
        "print(f\"Milenium: {format(round(math.sqrt((10**8)*(3.154)*(10**10))))}\")\n"
      ]
    },
    {
      "cell_type": "markdown",
      "metadata": {
        "id": "WLms-yoBoNqv"
      },
      "source": [
        "$\\bf{ Time\\ Complexity\\ n^3 }$\n",
        "\n",
        "$Second$\n",
        "$$ n^3 \\times 10^{-8}\\ s\\le 1\\ s$$\n",
        "$$ n^3 \\le 10^{8}$$\n",
        "$$ \\sqrt[3]{n^3} \\le \\sqrt[3]{10^{8}}$$\n",
        "$$ n \\le 464$$\n",
        "\n",
        "$Minute$\n",
        "$$ n^3 \\times 10^{-8}\\ s\\le 60\\ s$$\n",
        "$$ n^3 \\le 60 \\times 10^{8}$$\n",
        "$$ \\sqrt[3]{n^3} \\le \\sqrt[3]{60 \\times10^{8}}$$\n",
        "$$ n \\le 1817 $$\n",
        "\n",
        "$Hour$\n",
        "$$ n^3 \\times 10^{-8}\\ s\\le 3600\\ s$$\n",
        "$$ n^3 \\le 3600 \\times 10^{8}$$\n",
        "$$ \\sqrt[3]{n^3} \\le \\sqrt[3]{3600 \\times10^{8}}$$\n",
        "$$ n \\le 7113.78 $$\n",
        "\n",
        "$Day$\n",
        "$$ n^3 \\times 10^{-8}\\ s\\le 86400\\ s$$\n",
        "$$ n^3 \\le 86400 \\times 10^{8}$$\n",
        "$$ \\sqrt[3]{n^3} \\le \\sqrt[3]{86400 \\times10^{8}}$$\n",
        "$$ n \\le 20519.71 $$\n",
        "\n",
        "$Year$\n",
        "$$ n^3 \\times 10^{-8}\\ s\\le 3.154\\times10^{7}\\ s$$\n",
        "$$ n^3 \\le 3.154\\times10^{7} \\times 10^{8}$$\n",
        "$$ \\sqrt[3]{n^3} \\le \\sqrt[3]{3.154\\times10^{7} \\times10^{8}}$$\n",
        "$$ n \\le 146651.74 $$\n",
        "\n",
        "$Century$\n",
        "$$ n^3 \\times 10^{-8}\\ s\\le 3.154\\times10^{9}\\ s$$\n",
        "$$ n^3 \\le 3.154\\times10^{9} \\times 10^{8}$$\n",
        "$$ \\sqrt[3]{n^3} \\le \\sqrt[3]{3.154\\times10^{9} \\times10^{8}}$$\n",
        "$$ n \\le 680697.09 $$\n",
        "\n",
        "$Milenium$\n",
        "$$ n^3 \\times 10^{-8}\\ s\\le 3.154\\times10^{10}\\ s$$\n",
        "$$ n^3 \\le 3.154\\times10^{10} \\times 10^{8}$$\n",
        "$$ \\sqrt[3]{n^3} \\le \\sqrt[3]{3.154\\times10^{10} \\times10^{8}}$$\n",
        "$$ n \\le 1466517.43 $$\n"
      ]
    },
    {
      "cell_type": "code",
      "execution_count": 13,
      "metadata": {
        "colab": {
          "base_uri": "https://localhost:8080/"
        },
        "id": "IA5ry-fHlnV7",
        "outputId": "882591e4-7221-41c0-cf0b-5ad2d18f9a31"
      },
      "outputs": [
        {
          "name": "stdout",
          "output_type": "stream",
          "text": [
            "For n**3: \n",
            "Second: 464\n",
            "Minute: 1817\n",
            "Hour: 7114\n",
            "Day: 20520\n",
            "Year: 146652\n",
            "Century: 680697\n",
            "Milenium: 1466517\n"
          ]
        }
      ],
      "source": [
        "print(\"For n**3: \")\n",
        "print(f\"Second: {round((10**8)**(1/3))}\")\n",
        "print(f\"Minute: {round(((10**8)*60)**(1/3))}\")\n",
        "print(f\"Hour: {round(((10**8)*3600)**(1/3))}\")\n",
        "print(f\"Day: {round(((10**8)*86400)**(1/3))}\")\n",
        "print(f\"Year: {round(((10**8)*(3.154)*(10**7))**(1/3))}\")\n",
        "print(f\"Century: {round(((10**8)*(3.154)*(10**9))**(1/3))}\")\n",
        "print(f\"Milenium: {round(((10**8)*(3.154)*(10**10))**(1/3))}\")\n"
      ]
    },
    {
      "cell_type": "markdown",
      "metadata": {
        "id": "FQ10lEZPpb8p"
      },
      "source": [
        "$\\bf{ Time\\ Complexity\\ n^4 }$\n",
        "\n",
        "$Second$\n",
        "$$ n^4 \\times 10^{-8}\\ s\\le 1\\ s$$\n",
        "$$ n^4 \\le 10^{8}$$\n",
        "$$ \\sqrt[4]{n^4} \\le \\sqrt[4]{10^{8}}$$\n",
        "$$ n \\le 100 $$\n",
        "\n",
        "$Minute$\n",
        "$$ n^4 \\times 10^{-8}\\ s\\le 60\\ s$$\n",
        "$$ n^4 \\le 60 \\times 10^{8}$$\n",
        "$$ \\sqrt[4]{n^4} \\le \\sqrt[4]{60 \\times 10^{8}}$$\n",
        "$$ n \\le 278 $$\n",
        "\n",
        "$Hour$\n",
        "$$ n^4 \\times 10^{-8}\\ s\\le 3600\\ s$$\n",
        "$$ n^4 \\le 3600 \\times 10^{8}$$\n",
        "$$ \\sqrt[4]{n^4} \\le \\sqrt[4]{3600 \\times 10^{8}}$$\n",
        "$$ n \\le 775 $$\n",
        "\n",
        "$Day$\n",
        "$$ n^4 \\times 10^{-8}\\ s\\le 86400\\ s$$\n",
        "$$ n^4 \\le 86400 \\times 10^{8}$$\n",
        "$$ \\sqrt[4]{n^4} \\le \\sqrt[4]{86400 \\times 10^{8}}$$\n",
        "$$ n \\le 1714 $$\n",
        "\n",
        "$Year$\n",
        "$$ n^4 \\times 10^{-8}\\ s\\le 3.154\\times10^{7}\\ s$$\n",
        "$$ n^4 \\le 3.154\\times10^{7} \\times 10^{8}$$\n",
        "$$ \\sqrt[4]{n^4} \\le \\sqrt[4]{3.154\\times10^{7} \\times 10^{8}}$$\n",
        "$$ n \\le 7494.02 $$\n",
        "\n",
        "$Century$\n",
        "$$ n^4 \\times 10^{-8}\\ s\\le 3.154\\times10^{9}\\ s$$\n",
        "$$ n^4 \\le 3.154\\times10^{9} \\times 10^{8}$$\n",
        "$$ \\sqrt[4]{n^4} \\le \\sqrt[4]{3.154\\times10^{9} \\times 10^{8}}$$\n",
        "$$ n \\le 23698.2 $$\n",
        "\n",
        "$Milenium$\n",
        "$$ n^4 \\times 10^{-8}\\ s\\le 3.154\\times10^{10}\\ s$$\n",
        "$$ n^4 \\le 3.154\\times10^{10} \\times 10^{8}$$\n",
        "$$ \\sqrt[4]{n^4} \\le \\sqrt[4]{3.154\\times10^{10} \\times 10^{8}}$$\n",
        "$$ n \\le 42142.02 $$\n"
      ]
    },
    {
      "cell_type": "code",
      "execution_count": 11,
      "metadata": {
        "colab": {
          "base_uri": "https://localhost:8080/"
        },
        "id": "08q8S39KpjIe",
        "outputId": "bce63d7b-6f08-4b86-a1a7-3fe7d54e9429"
      },
      "outputs": [
        {
          "name": "stdout",
          "output_type": "stream",
          "text": [
            "For n**4: \n",
            "Second: 100\n",
            "Minute: 278\n",
            "Hour: 775\n",
            "Day: 1714\n",
            "Year: 7494\n",
            "Century: 23698\n",
            "Milenium: 42142\n"
          ]
        }
      ],
      "source": [
        "print(\"For n**4: \")\n",
        "print(f\"Second: {round((10**8)**(1/4))}\")\n",
        "print(f\"Minute: {round(((10**8)*60)**(1/4))}\")\n",
        "print(f\"Hour: {round(((10**8)*3600)**(1/4))}\")\n",
        "print(f\"Day: {round(((10**8)*86400)**(1/4))}\")\n",
        "print(f\"Year: {round(((10**8)*(3.154)*(10**7))**(1/4))}\")\n",
        "print(f\"Century: {round(((10**8)*(3.154)*(10**9))**(1/4))}\")\n",
        "print(f\"Milenium: {round(((10**8)*(3.154)*(10**10))**(1/4))}\")\n"
      ]
    },
    {
      "cell_type": "markdown",
      "metadata": {
        "id": "UWE4gWSUrjdU"
      },
      "source": [
        "$\\bf{ Time\\ Complexity\\ 2^n }$\n",
        "\n",
        "$Second$\n",
        "$$ 2^n \\times 10^{-8}\\ s\\le 1\\ s$$\n",
        "$$ 2^n \\le 10^{8}$$\n",
        "$$ n \\le \\ 8\\times \\ log\\_{2}(10)$$\n",
        "$$ n \\le 27$$\n",
        "\n",
        "$Minute$\n",
        "$$ 2^n \\times 10^{-8}\\ s\\le 60\\ s$$\n",
        "$$ 2^n \\le 60 \\times \\ 10^{8}$$\n",
        "$$ n \\le \\ 60 \\times \\ 8\\times \\ log\\_{2}(10)$$\n",
        "$$ n \\le 32$$\n",
        "\n",
        "$Hour$\n",
        "$$ 2^n \\times 10^{-8}\\ s\\le 3600\\ s$$\n",
        "$$ 2^n \\le 3600 \\times \\ 10^{8}$$\n",
        "$$ n \\le \\ 3600 \\times \\ 8\\times \\ log\\_{2}(10)$$\n",
        "$$ n \\le 38$$\n",
        "\n",
        "$Day$\n",
        "$$ 2^n \\times 10^{-8}\\ s\\le 86400\\ s$$\n",
        "$$ 2^n \\le 86400 \\times \\ 10^{8}$$\n",
        "$$ n \\le \\ 86400 \\times \\ 8\\times \\ log\\_{2}(10)$$\n",
        "$$ n \\le 43$$\n",
        "\n",
        "$Year$\n",
        "$$ 2^n \\times 10^{-8}\\ s\\le 3.154\\times10^{7}\\ s$$\n",
        "$$ 2^n \\le 3.154\\times10^{7} \\times \\ 10^{8}$$\n",
        "$$ n \\le \\ 3.154\\times10^{7} \\times \\ 8\\times \\ log\\_{2}(10)$$\n",
        "$$ n \\le 51$$\n",
        "\n",
        "$Century$\n",
        "$$ 2^n \\times 10^{-8}\\ s\\le 3.154\\times10^{9}\\ s$$\n",
        "$$ 2^n \\le 3.154\\times10^{9} \\times \\ 10^{8}$$\n",
        "$$ n \\le \\ 3.154\\times10^{9} \\times \\ 8\\times \\ log\\_{2}(10)$$\n",
        "$$ n \\le 58 $$\n",
        "\n",
        "$Milenium$\n",
        "$$ 2^n \\times 10^{-8}\\ s\\le 3.154\\times10^{10}\\ s$$\n",
        "$$ 2^n \\le 3.154\\times10^{10} \\times \\ 10^{8}$$\n",
        "$$ n \\le \\ 3.154\\times10^{10} \\times \\ 8\\times \\ log\\_{2}(10)$$\n",
        "$$ n \\le 61 $$\n"
      ]
    },
    {
      "cell_type": "code",
      "execution_count": 12,
      "metadata": {
        "colab": {
          "base_uri": "https://localhost:8080/"
        },
        "id": "Ms7dLXtjsS5v",
        "outputId": "04d13918-6376-4917-fd2b-a3b714b79fe2"
      },
      "outputs": [
        {
          "name": "stdout",
          "output_type": "stream",
          "text": [
            "For 2**n: \n",
            "Second: 27\n",
            "Minute: 32\n",
            "Hour: 38\n",
            "Day: 43\n",
            "Year: 51\n",
            "Century: 58\n",
            "Milenium: 61\n"
          ]
        }
      ],
      "source": [
        "import math\n",
        "print(\"For 2**n: \")\n",
        "print(f\"Second: {round(math.log(10**8, 2))}\")\n",
        "print(f\"Minute: {round(math.log((10**8)*60, 2))}\")\n",
        "print(f\"Hour: {round(math.log((10**8)*3600, 2))}\")\n",
        "print(f\"Day: {round(math.log((10**8) * 86400, 2))}\")\n",
        "print(f\"Year: {round(math.log((10**8)*(3.154)*(10**7), 2))}\")\n",
        "print(f\"Century: {round(math.log((10**8)*(3.154)*(10**9), 2))}\")\n",
        "print(f\"Milenium: {round(math.log((10**8) * (3.154)*(10**10), 2))}\")\n"
      ]
    },
    {
      "cell_type": "markdown",
      "metadata": {
        "id": "06pnR799-ZZk"
      },
      "source": [
        "$\\bf{ Time\\ Complexity\\ n! }$\n",
        "\n",
        "Cause the factorial exceeds the limit time we calculate the execution time as following\n",
        "\n",
        "$Second$\n",
        "\n",
        "$$ time = \\ 10^{8}$$\n",
        "\n",
        "$$12! = 479001600$$\n",
        "\n",
        "$$11! = 39916800$$\n",
        "\n",
        "$Minute$\n",
        "\n",
        "$$ time = \\ 60 \\times 10^{8}$$\n",
        "\n",
        "$$13! = 6227020800$$\n",
        "\n",
        "$$12! = 479001600$$\n",
        "\n",
        "$Hour$\n",
        "\n",
        "$$ time = \\ 3600 \\times 10^{8}$$\n",
        "\n",
        "$$15! = 1307674368000$$\n",
        "\n",
        "$$14! = 87178291200$$\n",
        "\n",
        "$Day$\n",
        "\n",
        "$$ time = \\ 86400 \\times 10^{8}$$\n",
        "\n",
        "$$16! = 2.09 \\times 10^{13}$$\n",
        "\n",
        "$$15! = 1307674368000$$\n",
        "\n",
        "$Year$\n",
        "\n",
        "$$ time = \\ 3.154\\times10^{7} \\times 10^{8}$$\n",
        "\n",
        "$$18! = 6.4 \\times 10^{15}$$\n",
        "\n",
        "$$17! = 3.55 \\times 10^{14}$$\n",
        "\n",
        "$Century$\n",
        "\n",
        "$$ time = \\ 3.154\\times10^{9} \\times 10^{8}$$\n",
        "\n",
        "$$20! = 2.43 \\times 10^{18}$$\n",
        "\n",
        "$$19! = 1.21 \\times 10^{17}$$\n",
        "\n",
        "$Milenium$\n",
        "\n",
        "$$ time = \\ 3.154\\times10^{10} \\times 10^{8}$$\n",
        "\n",
        "$$18! = 5.1 \\times 10^{19}$$\n",
        "\n",
        "$$20! = 2.43 \\times 10^{18}$$\n"
      ]
    },
    {
      "cell_type": "markdown",
      "metadata": {},
      "source": [
        "\n",
        "$\\bf{ Time\\ Complexity\\ n^n }$\n",
        "\n",
        "\n",
        "$$ n^n −1000000 = 0.$$\n",
        "\n",
        "$Second$\n",
        "\n",
        "$$ n^n − 100000000 = 0.$$\n",
        "$$ n = 8.57 $$\n",
        "\n",
        "$Minute$\n",
        "\n",
        "$$ n^n − (100000000 \\times 60) = 0.$$\n",
        "$$ n = 9.84 $$\n",
        "\n",
        "$Hour$\n",
        "\n",
        "$$ n^n − (100000000 \\times 3600) = 0.$$\n",
        "$$ n = 11.06 $$\n",
        "\n",
        "$Day$\n",
        "\n",
        "$$ n^n − (100000000 \\times 86400) = 0.$$\n",
        "$$ n = 11.99 $$\n",
        "\n",
        "$Year$\n",
        "\n",
        "$$ n^n − (100000000 \\times 3.154\\times10^{7}) = 0.$$\n",
        "$$ n = 13.65 $$\n",
        "\n",
        "$Century$\n",
        "\n",
        "$$ n^n − (100000000 \\times 3.154\\times10^{9}) = 0.$$\n",
        "$$ n = 14.91 $$\n",
        "\n",
        "$Milenium$\n",
        "\n",
        "$$ n^n − (100000000 \\times 3.154\\times10^{10}) = 0.$$\n",
        "$$ n = 15.52 $$\n"
      ]
    },
    {
      "cell_type": "markdown",
      "metadata": {},
      "source": []
    }
  ],
  "metadata": {
    "colab": {
      "collapsed_sections": [],
      "include_colab_link": true,
      "name": "complexity – Cormen – ( Groups – group 1 mod 4).ipynb",
      "provenance": []
    },
    "kernelspec": {
      "display_name": "Python 3",
      "name": "python3"
    },
    "language_info": {
      "codemirror_mode": {
        "name": "ipython",
        "version": 3
      },
      "file_extension": ".py",
      "mimetype": "text/x-python",
      "name": "python",
      "nbconvert_exporter": "python",
      "pygments_lexer": "ipython3",
      "version": "3.8.8"
    }
  },
  "nbformat": 4,
  "nbformat_minor": 0
}
