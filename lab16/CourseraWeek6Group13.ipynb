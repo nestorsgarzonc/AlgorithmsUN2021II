{
  "cells": [
    {
      "cell_type": "markdown",
      "metadata": {
        "id": "view-in-github"
      },
      "source": [
        "<a href=\"https://colab.research.google.com/github/Dicarvajalb/AlgorithmsUN2021I/blob/main/Laboratories/Lab14/dicarvajalbAlgorithmicToolboxWeek6Group14.ipynb\" target=\"_parent\"><img src=\"https://colab.research.google.com/assets/colab-badge.svg\" alt=\"Open In Colab\"/></a>"
      ]
    },
    {
      "cell_type": "markdown",
      "metadata": {
        "id": "qosSlOok2sPn"
      },
      "source": [
        "#Maximum Amount of Gold#"
      ]
    },
    {
      "cell_type": "code",
      "execution_count": null,
      "metadata": {
        "colab": {
          "base_uri": "https://localhost:8080/"
        },
        "id": "E2pv1qpp2Nk_",
        "outputId": "42eb31ac-ec3f-4533-b2a4-1a2fbc282328"
      },
      "outputs": [
        {
          "name": "stdout",
          "output_type": "stream",
          "text": [
            "Overwriting Maximum_Amount_of_Gold.cpp\n"
          ]
        }
      ],
      "source": [
        "%%writefile Maximum_Amount_of_Gold.cpp\n",
        "#include <iostream>\n",
        "#include <vector>\n",
        "\n",
        "using std::vector;\n",
        "using std::max;\n",
        "\n",
        "int optimal_weight(int W, const vector<int> &w) {\n",
        "  \n",
        "  vector<vector<int> > matrix(W + 1, vector<int>(w.size() + 1));\n",
        "  for(int i = 0; i <= W; i++){\n",
        "      for(int j = 0; j <= w.size() ; j++){\n",
        "      \t matrix[i][j] = 0;\n",
        "  \t\t}\n",
        "  }\n",
        "  \n",
        "  for(int i = 1; i <= W; i++){\n",
        "      for(int j = 1; j <= w.size(); j++){\n",
        "   \t\t\t\n",
        "            if (w[j-1]<=i) {\n",
        "\t\t\t\tmatrix[i][j] = max(matrix[i][j-1], matrix[i-w[j-1]][j-1] + w[j-1]);\n",
        "        \t} else {\n",
        "        \t\tmatrix[i][j] = matrix[i][j-1];\n",
        "\t\t\t}\n",
        "                \n",
        "\t   }\n",
        "  }\n",
        "  return matrix[W][w.size()];\n",
        "}\n",
        "\n",
        "int main() {\n",
        "  int n, W;\n",
        "  std::cin >> W >> n;\n",
        "  vector<int> w(n);\n",
        "  for (int i = 0; i < n; i++) {\n",
        "    std::cin >> w[i];\n",
        "  }\n",
        "  std::cout << optimal_weight(W, w) << '\\n';\n",
        "}"
      ]
    },
    {
      "cell_type": "code",
      "execution_count": null,
      "metadata": {
        "colab": {
          "base_uri": "https://localhost:8080/"
        },
        "id": "SXVCmxVw5erg",
        "outputId": "0eec7787-ae8b-4a58-ebd6-6de3ebe97c4b"
      },
      "outputs": [
        {
          "name": "stdout",
          "output_type": "stream",
          "text": [
            "10 3\n",
            "1 4 8\n",
            "9\n"
          ]
        }
      ],
      "source": [
        "!g++ Maximum_Amount_of_Gold.cpp -o Maximum_Amount_of_Gold\n",
        "!./Maximum_Amount_of_Gold"
      ]
    },
    {
      "cell_type": "markdown",
      "metadata": {
        "id": "Z64rVXQD2-G-"
      },
      "source": [
        "#Partitioning Souvenirs#"
      ]
    },
    {
      "cell_type": "code",
      "execution_count": null,
      "metadata": {
        "colab": {
          "base_uri": "https://localhost:8080/"
        },
        "id": "7lv7Olr73WlL",
        "outputId": "da663a03-28ef-4d20-a0db-0f63aa8c36b7"
      },
      "outputs": [
        {
          "name": "stdout",
          "output_type": "stream",
          "text": [
            "Writing Partitioning_Souvenirs.cpp\n"
          ]
        }
      ],
      "source": [
        "%%writefile Partitioning_Souvenirs.cpp\n",
        "#include <iostream>\n",
        "#include <vector>\n",
        "\n",
        "using std::vector;\n",
        "using std::max;\n",
        "\n",
        "int partition3(int sum, int n, vector<int> &A) {\n",
        "\tint count = 0; \n",
        "    int matrix[sum +1][n +1];\n",
        "    \n",
        "    for(int i = 0; i <= sum; i++){\n",
        "      for(int j = 0; j <= n; j++){\n",
        "      \t\tmatrix[i][j] = 0;\n",
        "\t\t}\n",
        "\t}\n",
        "    \n",
        "   for(int i = 1; i <= sum; i++){\n",
        "      for(int j = 1; j <= n; j++){\n",
        "            if (A[j-1]<=i){\n",
        "            \tmatrix[i][j] = max(matrix[i][j-1],matrix[i-A[j-1]][j-1] + A[j-1]) ;            \n",
        "\t\t\t}  else{\n",
        "\t\t\t\tmatrix[i][j] = matrix[i][j-1];\n",
        "\t\t\t}      \n",
        "            if (matrix[i][j] == sum){\n",
        "            \tcount += 1;\n",
        "\t\t\t} \n",
        "\t\t}\n",
        "\t}\n",
        "    if (count < 3 ){\n",
        "    \treturn 0;\n",
        "\t} else{\n",
        "\t\treturn 1;\n",
        "\t}\n",
        "}\n",
        "\n",
        "int main() {\n",
        "  int n;\n",
        "  std::cin >> n;\n",
        "  vector<int> A(n);\n",
        "  int sum = 0;\n",
        "  for (size_t i = 0; i < A.size(); ++i) {\n",
        "    std::cin >> A[i];\n",
        "    sum += A[i];\n",
        "  }\n",
        "  if (n<3){\n",
        "  \tstd::cout << 0 << '\\n';\n",
        "  } else if (sum % 3 != 0){\n",
        "  \tstd::cout << 0 << '\\n';\n",
        "  } else{\n",
        "  \tstd::cout << partition3(sum/3, n, A) << '\\n';\n",
        "  }\n",
        "  \n",
        "}"
      ]
    },
    {
      "cell_type": "code",
      "execution_count": null,
      "metadata": {
        "colab": {
          "base_uri": "https://localhost:8080/"
        },
        "id": "R6F8bXaSxpFt",
        "outputId": "0efcf1ae-31db-428e-d747-113368131dba"
      },
      "outputs": [
        {
          "name": "stdout",
          "output_type": "stream",
          "text": [
            "4\n",
            "3 3 3 3\n",
            "0\n"
          ]
        }
      ],
      "source": [
        "!g++ Partitioning_Souvenirs.cpp -o Partitioning_Souvenirs\n",
        "!./Partitioning_Souvenirs"
      ]
    },
    {
      "cell_type": "code",
      "execution_count": null,
      "metadata": {
        "colab": {
          "base_uri": "https://localhost:8080/"
        },
        "id": "K3dnLCQMx5dc",
        "outputId": "4a4a8f61-54ae-4989-860e-f7ceb5c5ac16"
      },
      "outputs": [
        {
          "name": "stdout",
          "output_type": "stream",
          "text": [
            "1\n",
            "40\n",
            "0\n"
          ]
        }
      ],
      "source": [
        "!g++ Partitioning_Souvenirs.cpp -o Partitioning_Souvenirs\n",
        "!./Partitioning_Souvenirs"
      ]
    },
    {
      "cell_type": "code",
      "execution_count": null,
      "metadata": {
        "colab": {
          "base_uri": "https://localhost:8080/"
        },
        "id": "OwiNnzQiyDQd",
        "outputId": "9b53019a-d001-43cd-c1b2-45ebc9e4b29e"
      },
      "outputs": [
        {
          "name": "stdout",
          "output_type": "stream",
          "text": [
            "11\n",
            "17 59 34 57 17 23 67 1 18 2 59\n",
            "1\n"
          ]
        }
      ],
      "source": [
        "!g++ Partitioning_Souvenirs.cpp -o Partitioning_Souvenirs\n",
        "!./Partitioning_Souvenirs"
      ]
    },
    {
      "cell_type": "code",
      "execution_count": null,
      "metadata": {
        "colab": {
          "base_uri": "https://localhost:8080/"
        },
        "id": "S4h9xQ_XyOz0",
        "outputId": "f2ea82f7-cb9a-4b6d-896a-ae752a431898"
      },
      "outputs": [
        {
          "name": "stdout",
          "output_type": "stream",
          "text": [
            "13\n",
            "1 2 3 4 5 5 7 7 8 10 12 19 25\n",
            "1\n"
          ]
        }
      ],
      "source": [
        "!g++ Partitioning_Souvenirs.cpp -o Partitioning_Souvenirs\n",
        "!./Partitioning_Souvenirs"
      ]
    },
    {
      "cell_type": "markdown",
      "metadata": {
        "id": "AwzeSM2931qa"
      },
      "source": [
        "#Maximum Value of an Arithmetic Expression#"
      ]
    },
    {
      "cell_type": "code",
      "execution_count": null,
      "metadata": {
        "colab": {
          "base_uri": "https://localhost:8080/"
        },
        "id": "rSfe0HVi4TYB",
        "outputId": "29c859b7-695c-41ab-9c3e-9948f75122a7"
      },
      "outputs": [
        {
          "name": "stdout",
          "output_type": "stream",
          "text": [
            "Overwriting Maximum_Value_of_an_Arithmetic_Expression.cpp\n"
          ]
        }
      ],
      "source": [
        "%%writefile Maximum_Value_of_an_Arithmetic_Expression.cpp\n",
        "#include <iostream>\n",
        "#include <stdio.h>\n",
        "#include <cassert>\n",
        "#include <string>\n",
        "#include <vector>\n",
        "#include <limits>\n",
        "#include <cstring>\n",
        "\n",
        "\n",
        "using std::vector;\n",
        "using std::string;\n",
        "using std::max;\n",
        "using std::min;\n",
        "\n",
        "long long eval(long long a, long long b, char op) {\n",
        "  if (op == '*') {\n",
        "    return a * b;\n",
        "  } else if (op == '+') {\n",
        "    return a + b;\n",
        "  } else if (op == '-') {\n",
        "    return a - b;\n",
        "  } else {\n",
        "    assert(0);\n",
        "  }\n",
        "}\n",
        "\n",
        "vector<int> MinAndMax(vector<vector<int> > matrix_max, vector<vector<int> > matrix_min, int i, int j, string signs[]) {\n",
        "  vector<int> values(2);\n",
        "  int min_value = std::numeric_limits<int>::max();\n",
        "  int max_value =  - std::numeric_limits<int>::max();\n",
        "  for(int k = i; k < j - 1; k++){\n",
        "      char character[2];\n",
        "      strcpy(character, signs[k].c_str());\n",
        "      int a = eval(matrix_max[i][k], matrix_max[k + 1][j],character[0]);\n",
        "      int b = eval(matrix_max[i][k], matrix_min[k + 1][j],character[0]);\n",
        "      int c = eval(matrix_min[i][k], matrix_max[k + 1][j],character[0]);\n",
        "      int d = eval(matrix_min[i][k], matrix_min[k + 1][j],character[0]);\n",
        "      min_value = min(min_value,min(a,min(b,min(c,d))));\n",
        "      max_value = max(max_value,max(a,max(b,max(c,d))));\n",
        "  }\n",
        "  values[0] = min_value;\n",
        "  values[1] = max_value;\n",
        "  return values;\n",
        "}\n",
        "\n",
        "long long get_maximum_value(const string &exp){\n",
        "  int n =(exp.size()+1)/2;\n",
        "  vector<vector<int> > matrix_max(n,vector<int>(n));\n",
        "  vector<vector<int> > matrix_min(n,vector<int>(n));\n",
        "  int numbers[n];\n",
        "  string signs[exp.size() - n];\n",
        "  int cont = 0; \n",
        "  for(int i = 0; i < exp.size(); i++){\n",
        "      if(i%2 == 0){\n",
        "       matrix_max[cont][cont] = exp[i];\n",
        "       matrix_min[cont][cont] = exp[i];\n",
        "       numbers[cont] = exp[i];\n",
        "      }else{\n",
        "          signs[cont] = exp[i];\n",
        "      }\n",
        "      cont++;\n",
        "  }\n",
        "  for(int s = 1; s < n - 1; s++){\n",
        "      for(int i = 1; i < n - s; s++){\n",
        "          int j = i + s;\n",
        "          vector<int> results = MinAndMax(matrix_max, matrix_min, i, j, signs);\n",
        "          matrix_min[i][j] = results[0];\n",
        "          matrix_max[i][j] = results[1];\n",
        "      }\n",
        "  }\n",
        "  return (long long)matrix_max[1][n - 1];\n",
        "}\n",
        "\n",
        "int main() {\n",
        "  string s;\n",
        "  std::cin >> s;\n",
        "  std::cout << get_maximum_value(s) << '\\n';\n",
        "  std::cout << \"Hola\" << '\\n';\n",
        "}"
      ]
    },
    {
      "cell_type": "code",
      "execution_count": null,
      "metadata": {
        "colab": {
          "base_uri": "https://localhost:8080/"
        },
        "id": "OPyHc39mTMR6",
        "outputId": "d4f22005-f3a6-43fb-eb2c-c1f04014f2fa"
      },
      "outputs": [
        {
          "name": "stdout",
          "output_type": "stream",
          "text": [
            "1+5\n"
          ]
        }
      ],
      "source": [
        "!g++ Maximum_Value_of_an_Arithmetic_Expression.cpp -o Maximum_Value_of_an_Arithmetic_Expression\n",
        "!./Maximum_Value_of_an_Arithmetic_Expression"
      ]
    },
    {
      "cell_type": "markdown",
      "metadata": {},
      "source": [
        "# Screenshots\n",
        "\n",
        "## Tania Quijano\n",
        "\n",
        "<img src='./tania.jpeg'>\n",
        "\n",
        "## Juan Santamaria \n",
        "\n",
        "<img src='./motta.jpeg'>\n",
        "\n",
        "## Nestor Garzon\n",
        "\n",
        "<img src='./sebastian.png'>"
      ]
    }
  ],
  "metadata": {
    "colab": {
      "collapsed_sections": [],
      "name": "CourseraWeek6Group13.ipynb",
      "provenance": []
    },
    "kernelspec": {
      "display_name": "Python 3",
      "name": "python3"
    },
    "language_info": {
      "name": "python"
    }
  },
  "nbformat": 4,
  "nbformat_minor": 0
}
