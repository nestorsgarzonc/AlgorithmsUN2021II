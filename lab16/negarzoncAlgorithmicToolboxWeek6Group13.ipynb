{
 "cells": [
  {
   "cell_type": "markdown",
   "metadata": {},
   "source": [
    "# Knapsack"
   ]
  },
  {
   "cell_type": "code",
   "execution_count": null,
   "metadata": {},
   "outputs": [],
   "source": [
    "import sys\n",
    "\n",
    "\n",
    "def optimal_weight(W, w):\n",
    "    n = len(w)\n",
    "    w.insert(0, 0)\n",
    "    val = [[0 for j in range(W+1)] for i in range(n+1)]\n",
    "    for i in range(1, n+1):\n",
    "        for j in range(1, W+1):\n",
    "            val[i][j] = val[i-1][j]\n",
    "            if w[i] <= j:\n",
    "                temp = val[i-1][j - w[i]] + w[i]\n",
    "                if temp > val[i][j]:\n",
    "                    val[i][j] = temp\n",
    "            # print(val)\n",
    "    return val[n][W]\n",
    "\n",
    "\n",
    "if __name__ == '__main__':\n",
    "    input = sys.stdin.read()\n",
    "    W, n, *w = list(map(int, input.split()))\n",
    "    # W = 10\n",
    "    # w = [3, 1, 8]\n",
    "    print(optimal_weight(W, w))\n"
   ]
  },
  {
   "cell_type": "markdown",
   "metadata": {},
   "source": [
    "# Partitioning souvenirs"
   ]
  },
  {
   "cell_type": "code",
   "execution_count": null,
   "metadata": {},
   "outputs": [],
   "source": [
    "import sys\n",
    "import itertools\n",
    "\n",
    "\n",
    "def partition3(A):\n",
    "    s = sum(A)\n",
    "    if s % 3 != 0:\n",
    "        return 0\n",
    "    avg = s // 3\n",
    "    n = len(A)\n",
    "    A.insert(0, 0)  # index 0\n",
    "    dp = [[[0 for j in range(avg+1)] for i in range(avg+1)]\n",
    "          for n in range(n+1)]\n",
    "    dp[0][0][0] = 1  # a0 = {} and x = 0, y = 0\n",
    "    # print(dp)\n",
    "    for ni in range(1, n+1):          # n items in\n",
    "        # print(\"A:\", A[ni])\n",
    "        for i in range(avg+1):     # set1: to sum to avg\n",
    "            for j in range(avg+1):  # set2: to sum to avg\n",
    "                if dp[ni-1][i][j] == 1:\n",
    "                    dp[ni][i][j] = 1\n",
    "                elif i >= A[ni] and dp[ni-1][i-A[ni]][j] == 1:\n",
    "                    dp[ni][i][j] = 1\n",
    "                elif j >= A[ni] and dp[ni-1][i][j-A[ni]] == 1:\n",
    "                    dp[ni][i][j] = 1\n",
    "                else:\n",
    "                    dp[ni][i][j] = 0\n",
    "        # print(dp)\n",
    "    return dp[n][avg][avg]\n",
    "\n",
    "\n",
    "if __name__ == '__main__':\n",
    "    input = sys.stdin.read()\n",
    "    n, *A = list(map(int, input.split()))\n",
    "    print(partition3(A))\n"
   ]
  },
  {
   "cell_type": "markdown",
   "metadata": {},
   "source": [
    "# Placing parentesis"
   ]
  },
  {
   "cell_type": "code",
   "execution_count": null,
   "metadata": {},
   "outputs": [],
   "source": [
    "def evalt(a, b, op):\n",
    "    if op == '+':\n",
    "        return a + b\n",
    "    elif op == '-':\n",
    "        return a - b\n",
    "    elif op == '*':\n",
    "        return a * b\n",
    "    else:\n",
    "        assert False\n",
    "\n",
    "\n",
    "def min_and_max(i, j, M, m, op):\n",
    "    minimum = float(\"inf\")\n",
    "    maximum = -float(\"inf\")\n",
    "    for k in range(i, j):\n",
    "        a = evalt(M[i][k], M[k+1][j], op[k])\n",
    "        b = evalt(M[i][k], m[k+1][j], op[k])\n",
    "        c = evalt(m[i][k], M[k+1][j], op[k])\n",
    "        d = evalt(m[i][k], m[k+1][j], op[k])\n",
    "        minimum = min(minimum, a, b, c, d)\n",
    "        maximum = max(maximum, a, b, c, d)\n",
    "\n",
    "    return (minimum, maximum)\n",
    "\n",
    "\n",
    "def get_maximum_value(dataset):\n",
    "    d = list(map(int, dataset[::2]))\n",
    "    op = list(dataset[1::2])\n",
    "    n = len(d)\n",
    "    M = [[-float(\"inf\") for i in range(n)] for j in range(n)]\n",
    "    m = [[float(\"inf\") for i in range(n)] for j in range(n)]\n",
    "    for i in range(n):\n",
    "        m[i][i] = d[i]\n",
    "        M[i][i] = d[i]\n",
    "    for s in range(1, n):\n",
    "        for i in range(n-s):\n",
    "            j = i + s\n",
    "            m[i][j], M[i][j] = min_and_max(i, j, M, m, op)\n",
    "    return M[0][n-1]\n",
    "\n",
    "\n",
    "if __name__ == \"__main__\":\n",
    "    print(get_maximum_value(input()))\n"
   ]
  },
  {
   "cell_type": "markdown",
   "metadata": {},
   "source": [
    "# Screenshots\n",
    "\n",
    "## Tania Quijano\n",
    "\n",
    "<img src='./tania.jpeg'>\n",
    "\n",
    "## Juan Santamaria \n",
    "\n",
    "<img src='./motta.jpeg'>\n",
    "\n",
    "## Nestor Garzon\n",
    "\n",
    "<img src='./sebastian.png'>"
   ]
  }
 ],
 "metadata": {
  "language_info": {
   "name": "python"
  },
  "orig_nbformat": 4
 },
 "nbformat": 4,
 "nbformat_minor": 2
}
