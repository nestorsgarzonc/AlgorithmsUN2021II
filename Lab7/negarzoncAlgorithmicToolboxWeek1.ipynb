{
  "cells": [
    {
      "cell_type": "markdown",
      "metadata": {
        "id": "N1ok_-56OjB1"
      },
      "source": [
        "# Programming Assignment 1: Sum of Two Digits"
      ]
    },
    {
      "cell_type": "markdown",
      "metadata": {
        "id": "zwwCFZTEvYrf"
      },
      "source": [
        "## Code explored:\n",
        "\n",
        "\n",
        "### C++\n",
        "\n",
        "```c++\n",
        "#include <iostream>\n",
        "\n",
        "int sum_of_two_digits(int first_digit, int second_digit) {\n",
        "    return first_digit + second_digit;\n",
        "}\n",
        "\n",
        "int main() {\n",
        "    int a = 0;\n",
        "    int b = 0;\n",
        "    std::cin >> a;\n",
        "    std::cin >> b;\n",
        "    std::cout << sum_of_two_digits(a, b);\n",
        "    return 0;\n",
        "}\n",
        "```\n",
        "\n",
        "### C#\n",
        "\n",
        "```cs\n",
        "\n",
        "using System;\n",
        "\n",
        "namespace APlusB\n",
        "{\n",
        "    class Program\n",
        "    {\n",
        "        static void Main(string[] args)\n",
        "        {\n",
        "            var input = Console.ReadLine();\n",
        "            var tokens = input.Split(' ');\n",
        "            var a = int.Parse(tokens[0]);\n",
        "            var b = int.Parse(tokens[1]);\n",
        "            Console.WriteLine(a + b);\n",
        "        }\n",
        "    }\n",
        "}\n",
        "```\n",
        "\n",
        "### Haskell\n",
        "\n",
        "```h\n",
        "main = do\n",
        "  s <- getLine\n",
        "  let w = words s\n",
        "      readInt :: String -> Int\n",
        "      readInt = read\n",
        "      x = map readInt w\n",
        "      t = sum x\n",
        "  putStrLn $ show t\n",
        "```\n",
        "\n",
        "### Java\n",
        "\n",
        "```java\n",
        "import java.util.Scanner;\n",
        "\n",
        "class APlusB {\n",
        "    static int sumOfTwoDigits(int first_digit, int second_digit) {\n",
        "        return first_digit + second_digit;\n",
        "    }\n",
        "\n",
        "    public static void main(String[] args) {\n",
        "        Scanner s = new Scanner(System.in);\n",
        "        int a = s.nextInt();\n",
        "        int b = s.nextInt();\n",
        "        System.out.println(sumOfTwoDigits(a, b));\n",
        "    }\n",
        "}\n",
        "```\n",
        "\n",
        "### JavaScript\n",
        "\n",
        "```js\n",
        "var readline = require(\"readline\");\n",
        "\n",
        "process.stdin.setEncoding(\"utf8\");\n",
        "var rl = readline.createInterface({\n",
        "  input: process.stdin,\n",
        "  terminal: false,\n",
        "});\n",
        "\n",
        "rl.on(\"line\", readLine);\n",
        "\n",
        "function readLine(line) {\n",
        "  if (line !== \"\\n\") {\n",
        "    var a = parseInt(line.toString().split(\" \")[0], 10);\n",
        "    var b = parseInt(line.toString().split(\" \")[1], 10);\n",
        "    console.log(a + b);\n",
        "    process.exit();\n",
        "  }\n",
        "}\n",
        "```\n",
        "\n",
        "### Kotlin\n",
        "\n",
        "```java\n",
        "import java.util.*\n",
        "\n",
        "fun main(args: Array<String>) {\n",
        "    val s = Scanner(System.`in`)\n",
        "    val a = s.nextInt()\n",
        "    val b = s.nextInt()\n",
        "    println(a + b)\n",
        "}\n",
        "```\n",
        "\n",
        "### Python\n",
        "\n",
        "```py\n",
        "def sum_of_two_digits(first_digit, second_digit):\n",
        "    return first_digit + second_digit\n",
        "\n",
        "\n",
        "if __name__ == '__main__':\n",
        "    a, b = map(int, input().split())\n",
        "    print(sum_of_two_digits(a, b))\n",
        "\n",
        "```\n",
        "\n",
        "### Ruby\n",
        "\n",
        "```rb\n",
        "a, b = gets.split(' ')\n",
        "puts a.to_i + b.to_i\n",
        "\n",
        "```\n",
        "\n",
        "### Rust\n",
        "\n",
        "```rs\n",
        "fn main() {\n",
        "    let mut buff = String::new();\n",
        "    ::std::io::stdin().read_line(&mut buff);\n",
        "    let mut words = buff.split_whitespace();\n",
        "    let a: i64 = words.next().unwrap().parse().unwrap();\n",
        "    let b: i64 = words.next().unwrap().parse().unwrap();\n",
        "\n",
        "    println!(\"{}\", a + b);\n",
        "}\n",
        "```\n",
        "\n",
        "### Scala\n",
        "\n",
        "```scala\n",
        "object APlusB extends App {\n",
        "  override def main(args: Array[String]): Unit = {\n",
        "    val scanner = new java.util.Scanner(System.in)\n",
        "    val line = scanner.nextLine()\n",
        "    val result = (line.split(\" \").map( x => BigInt(x)) take 2).sum\n",
        "      System.out.print(result )\n",
        "  }\n",
        "}\n",
        "\n",
        "```\n"
      ]
    },
    {
      "cell_type": "markdown",
      "metadata": {
        "id": "MMY7kmDSO0KM"
      },
      "source": [
        "## C++"
      ]
    },
    {
      "cell_type": "code",
      "execution_count": null,
      "metadata": {
        "colab": {
          "base_uri": "https://localhost:8080/"
        },
        "id": "2pGGf9BkPNIk",
        "outputId": "58cb9f65-8048-4901-a0af-33a73de7cce2"
      },
      "outputs": [
        {
          "name": "stdout",
          "output_type": "stream",
          "text": [
            "Writing APlusB.cpp\n"
          ]
        }
      ],
      "source": [
        "%%writefile APlusB.cpp\n",
        "#include <iostream>\n",
        "\n",
        "int sum_of_two_digits(int first_digit, int second_digit) {\n",
        "    return first_digit + second_digit;\n",
        "}\n",
        "\n",
        "int main() {\n",
        "    int a = 0;\n",
        "    int b = 0;\n",
        "    std::cin >> a;\n",
        "    std::cin >> b;\n",
        "    std::cout << sum_of_two_digits(a, b);\n",
        "    return 0;\n",
        "}"
      ]
    },
    {
      "cell_type": "code",
      "execution_count": null,
      "metadata": {
        "colab": {
          "base_uri": "https://localhost:8080/"
        },
        "id": "0G3ZKOYAPXSU",
        "outputId": "a0f6b679-a2bb-4ac5-9d27-a684be1c1412"
      },
      "outputs": [
        {
          "name": "stdout",
          "output_type": "stream",
          "text": [
            "10 30\n",
            "40"
          ]
        }
      ],
      "source": [
        "!g++ APlusB.cpp -o APlusB\n",
        "!./APlusB"
      ]
    },
    {
      "cell_type": "markdown",
      "metadata": {
        "id": "iNkG2HqfTl9c"
      },
      "source": [
        "### Test input output files"
      ]
    },
    {
      "cell_type": "code",
      "execution_count": null,
      "metadata": {
        "colab": {
          "base_uri": "https://localhost:8080/"
        },
        "id": "aTzU2efzMxly",
        "outputId": "089a7508-54ea-4fe8-9dc4-44ad19dfaf68"
      },
      "outputs": [
        {
          "name": "stdout",
          "output_type": "stream",
          "text": [
            "Overwriting input1.txt\n"
          ]
        }
      ],
      "source": [
        "%%writefile input1.txt\n",
        "4 8"
      ]
    },
    {
      "cell_type": "code",
      "execution_count": null,
      "metadata": {
        "colab": {
          "base_uri": "https://localhost:8080/"
        },
        "id": "zBJ0Gc0NQRet",
        "outputId": "dde00851-4c5d-4fbf-dd1d-65ffd10f9692"
      },
      "outputs": [
        {
          "name": "stdout",
          "output_type": "stream",
          "text": [
            "Writing output1.txt\n"
          ]
        }
      ],
      "source": [
        "%%writefile output1.txt\n",
        "12"
      ]
    },
    {
      "cell_type": "code",
      "execution_count": null,
      "metadata": {
        "colab": {
          "base_uri": "https://localhost:8080/"
        },
        "id": "IjEcIx63PJAN",
        "outputId": "e0e2f4e6-0648-4d24-ec23-9a98173ca575"
      },
      "outputs": [
        {
          "name": "stdout",
          "output_type": "stream",
          "text": [
            "Writing input2.txt\n"
          ]
        }
      ],
      "source": [
        "%%writefile input2.txt\n",
        "-5 9"
      ]
    },
    {
      "cell_type": "code",
      "execution_count": null,
      "metadata": {
        "colab": {
          "base_uri": "https://localhost:8080/"
        },
        "id": "Up9gOrxURTmd",
        "outputId": "f14b8082-3b75-456f-c1a0-d1203eb8d7b9"
      },
      "outputs": [
        {
          "name": "stdout",
          "output_type": "stream",
          "text": [
            "Writing output2.txt\n"
          ]
        }
      ],
      "source": [
        "%%writefile output2.txt\n",
        "4"
      ]
    },
    {
      "cell_type": "code",
      "execution_count": null,
      "metadata": {
        "colab": {
          "base_uri": "https://localhost:8080/"
        },
        "id": "PST6G-s-Pwgc",
        "outputId": "df0b4e5d-3ac4-4b47-b089-e9ba0480a911"
      },
      "outputs": [
        {
          "name": "stdout",
          "output_type": "stream",
          "text": [
            "12"
          ]
        }
      ],
      "source": [
        "!./APlusB < input1.txt"
      ]
    },
    {
      "cell_type": "markdown",
      "metadata": {
        "id": "-yfxqWX39WvA"
      },
      "source": [
        "Nuestro ejemplo"
      ]
    },
    {
      "cell_type": "code",
      "execution_count": null,
      "metadata": {
        "colab": {
          "base_uri": "https://localhost:8080/"
        },
        "id": "7lZtvHL29U48",
        "outputId": "607fa873-72b4-4b65-f7d1-a70a1800bea7"
      },
      "outputs": [
        {
          "name": "stdout",
          "output_type": "stream",
          "text": [
            "Writing input3.txt\n"
          ]
        }
      ],
      "source": [
        "%%writefile input3.txt\n",
        "798228 7129789"
      ]
    },
    {
      "cell_type": "code",
      "execution_count": null,
      "metadata": {
        "colab": {
          "base_uri": "https://localhost:8080/"
        },
        "id": "aZ91--az9VNC",
        "outputId": "e3811e6f-7383-4949-8dd0-67185204eda8"
      },
      "outputs": [
        {
          "name": "stdout",
          "output_type": "stream",
          "text": [
            "Writing output3.txt\n"
          ]
        }
      ],
      "source": [
        "%%writefile output3.txt\n",
        "7,928,017"
      ]
    },
    {
      "cell_type": "code",
      "execution_count": null,
      "metadata": {
        "colab": {
          "base_uri": "https://localhost:8080/"
        },
        "id": "r4sjcRC89VXC",
        "outputId": "d22a53a3-eb7c-45b4-9a7d-75280202b83b"
      },
      "outputs": [
        {
          "name": "stdout",
          "output_type": "stream",
          "text": [
            "7928017"
          ]
        }
      ],
      "source": [
        "!./APlusB < input3.txt"
      ]
    },
    {
      "cell_type": "markdown",
      "metadata": {
        "id": "Qw2TQWCCUwqk"
      },
      "source": [
        "### Comparing files with grep\n",
        "\n",
        "https://askubuntu.com/questions/546796/comparing-two-text-files"
      ]
    },
    {
      "cell_type": "code",
      "execution_count": null,
      "metadata": {
        "colab": {
          "base_uri": "https://localhost:8080/"
        },
        "id": "cKxZOjSlRfIN",
        "outputId": "791fb78d-eec6-45d0-fa11-85fc133c8485"
      },
      "outputs": [
        {
          "name": "stdout",
          "output_type": "stream",
          "text": [
            "4"
          ]
        }
      ],
      "source": [
        "!./APlusB < input2.txt"
      ]
    },
    {
      "cell_type": "code",
      "execution_count": null,
      "metadata": {
        "id": "WVIaAmMKU4QM"
      },
      "outputs": [],
      "source": [
        "!grep -xvFf output1.txt output1.txt "
      ]
    },
    {
      "cell_type": "code",
      "execution_count": null,
      "metadata": {
        "colab": {
          "base_uri": "https://localhost:8080/"
        },
        "id": "MQU8gPPjQuYO",
        "outputId": "d80d1d8e-a2c9-4429-bb06-4129470e7298"
      },
      "outputs": [
        {
          "name": "stdout",
          "output_type": "stream",
          "text": [
            "4\n"
          ]
        }
      ],
      "source": [
        "!grep -xvFf output1.txt output2.txt "
      ]
    },
    {
      "cell_type": "code",
      "execution_count": null,
      "metadata": {
        "colab": {
          "base_uri": "https://localhost:8080/"
        },
        "id": "jYL9OuYBTD_l",
        "outputId": "84e6ca5f-8bf2-4c1e-9fa0-d4909cc6e827"
      },
      "outputs": [
        {
          "name": "stdout",
          "output_type": "stream",
          "text": [
            "12\n"
          ]
        }
      ],
      "source": [
        "!grep -xvFf output2.txt output1.txt "
      ]
    },
    {
      "cell_type": "code",
      "execution_count": null,
      "metadata": {
        "id": "Jlja0Xm4TX9M"
      },
      "outputs": [],
      "source": [
        "!./APlusB < input1.txt> ctest1.txt\n",
        "!grep -xvFf output1.txt ctest1.txt"
      ]
    },
    {
      "cell_type": "code",
      "execution_count": null,
      "metadata": {
        "id": "g9OIUZA_QLCQ"
      },
      "outputs": [],
      "source": [
        "!./APlusB < input2.txt > ctest2.txt\n",
        "!grep -xvFf output2.txt ctest2.txt"
      ]
    },
    {
      "cell_type": "markdown",
      "metadata": {
        "id": "3BgOaDjUVJk6"
      },
      "source": [
        "## Python"
      ]
    },
    {
      "cell_type": "code",
      "execution_count": null,
      "metadata": {
        "colab": {
          "base_uri": "https://localhost:8080/"
        },
        "id": "DBvl-T0CTN_8",
        "outputId": "dc2a4267-7dbb-4291-977f-73ef835b6602"
      },
      "outputs": [
        {
          "name": "stdout",
          "output_type": "stream",
          "text": [
            "Writing sum.py\n"
          ]
        }
      ],
      "source": [
        "%%writefile sum.py\n",
        "# python3\n",
        "\n",
        "def sum_of_two_digits(first_digit, second_digit):\n",
        "    return first_digit + second_digit\n",
        "\n",
        "if __name__ == '__main__':\n",
        "    a, b = map(int, input().split())\n",
        "    print(sum_of_two_digits(a, b))"
      ]
    },
    {
      "cell_type": "code",
      "execution_count": null,
      "metadata": {
        "colab": {
          "base_uri": "https://localhost:8080/"
        },
        "id": "QKoKM11_WGyF",
        "outputId": "f481860c-210f-4f07-d53f-ec3a7bb5c245"
      },
      "outputs": [
        {
          "name": "stdout",
          "output_type": "stream",
          "text": [
            "555555 444444\n",
            "999999\n"
          ]
        }
      ],
      "source": [
        "!python sum.py"
      ]
    },
    {
      "cell_type": "code",
      "execution_count": null,
      "metadata": {
        "id": "cocFbPRTWrqt"
      },
      "outputs": [],
      "source": [
        "!python sum.py  < input1.txt> ptest1.txt\n",
        "!grep -xvFf output1.txt ptest1.txt"
      ]
    },
    {
      "cell_type": "code",
      "execution_count": null,
      "metadata": {
        "id": "MorKTa-XXASN"
      },
      "outputs": [],
      "source": [
        "!python sum.py  < input2.txt> ptest2.txt\n",
        "!grep -xvFf output2.txt ptest2.txt"
      ]
    },
    {
      "cell_type": "markdown",
      "metadata": {
        "id": "UiWxhwwz-8h2"
      },
      "source": [
        "Nuestro ejemplo\n"
      ]
    },
    {
      "cell_type": "code",
      "execution_count": null,
      "metadata": {
        "colab": {
          "base_uri": "https://localhost:8080/"
        },
        "id": "lh8qkpD8-7L6",
        "outputId": "04e6f545-e3bd-42b1-be2f-d3872480d5b8"
      },
      "outputs": [
        {
          "name": "stdout",
          "output_type": "stream",
          "text": [
            "7928017\n"
          ]
        }
      ],
      "source": [
        "!python sum.py  < input3.txt> ptest3.txt\n",
        "!grep -xvFf output3.txt ptest3.txt"
      ]
    },
    {
      "cell_type": "markdown",
      "metadata": {
        "id": "uvP-mOubW_5F"
      },
      "source": [
        "# II Solving The Maximum Pairwise Product Programming Challenge in C++"
      ]
    },
    {
      "cell_type": "markdown",
      "metadata": {
        "id": "1P578CD7yLVR"
      },
      "source": [
        "## Code explored:\n",
        "\n",
        "\n",
        "### C++\n",
        "\n",
        "```c++\n",
        "#include <iostream>\n",
        "#include <vector>\n",
        "#include <algorithm>\n",
        "\n",
        "int MaxPairwiseProduct(const std::vector<int>& numbers) {\n",
        "    int max_product = 0;\n",
        "    int n = numbers.size();\n",
        "\n",
        "    for (int first = 0; first < n; ++first) {\n",
        "        for (int second = first + 1; second < n; ++second) {\n",
        "            max_product = std::max(max_product,\n",
        "                numbers[first] * numbers[second]);\n",
        "        }\n",
        "    }\n",
        "\n",
        "    return max_product;\n",
        "}\n",
        "\n",
        "int main() {\n",
        "    int n;\n",
        "    std::cin >> n;\n",
        "    std::vector<int> numbers(n);\n",
        "    for (int i = 0; i < n; ++i) {\n",
        "        std::cin >> numbers[i];\n",
        "    }\n",
        "\n",
        "    std::cout << MaxPairwiseProduct(numbers); << \"\\n\";\n",
        "    return 0;\n",
        "}\n",
        "\n",
        "```\n",
        "\n",
        "### Java\n",
        "\n",
        "```java\n",
        "import java.util.*;\n",
        "import java.io.*;\n",
        "\n",
        "public class MaxPairwiseProduct {\n",
        "    static int getMaxPairwiseProduct(int[] numbers) {\n",
        "        int max_product = 0;\n",
        "        int n = numbers.length;\n",
        "\n",
        "        for (int first = 0; first < n; ++first) {\n",
        "            for (int second = first + 1; second < n; ++second) {\n",
        "                max_product = Math.max(max_product,\n",
        "                    numbers[first] * numbers[second]);\n",
        "            }\n",
        "        }\n",
        "\n",
        "        return max_product;\n",
        "    }\n",
        "\n",
        "    public static void main(String[] args) {\n",
        "        FastScanner scanner = new FastScanner(System.in);\n",
        "        int n = scanner.nextInt();\n",
        "        int[] numbers = new int[n];\n",
        "        for (int i = 0; i < n; i++) {\n",
        "            numbers[i] = scanner.nextInt();\n",
        "        }\n",
        "        System.out.println(getMaxPairwiseProduct(numbers));\n",
        "    }\n",
        "\n",
        "    static class FastScanner {\n",
        "        BufferedReader br;\n",
        "        StringTokenizer st;\n",
        "\n",
        "        FastScanner(InputStream stream) {\n",
        "            try {\n",
        "                br = new BufferedReader(new\n",
        "                    InputStreamReader(stream));\n",
        "            } catch (Exception e) {\n",
        "                e.printStackTrace();\n",
        "            }\n",
        "        }\n",
        "\n",
        "        String next() {\n",
        "            while (st == null || !st.hasMoreTokens()) {\n",
        "                try {\n",
        "                    st = new StringTokenizer(br.readLine());\n",
        "                } catch (IOException e) {\n",
        "                    e.printStackTrace();\n",
        "                }\n",
        "            }\n",
        "            return st.nextToken();\n",
        "        }\n",
        "\n",
        "        int nextInt() {\n",
        "            return Integer.parseInt(next());\n",
        "        }\n",
        "    }\n",
        "\n",
        "}\n",
        "\n",
        "```\n",
        "\n",
        "\n",
        "### Kotlin\n",
        "\n",
        "```java\n",
        "import java.io.BufferedReader\n",
        "import java.io.IOException\n",
        "import java.io.InputStream\n",
        "import java.io.InputStreamReader\n",
        "import java.util.*\n",
        "\n",
        "fun getMaxPairwiseProduct(numbers: IntArray): Int {\n",
        "    var result = 0\n",
        "    val n = numbers.size\n",
        "    for (i in 0 until n) {\n",
        "        for (j in i + 1 until n) {\n",
        "            if (numbers[i] * numbers[j] > result) {\n",
        "                result = numbers[i] * numbers[j]\n",
        "            }\n",
        "        }\n",
        "    }\n",
        "    return result\n",
        "}\n",
        "\n",
        "fun main(args: Array<String>) {\n",
        "    val scanner = FastScanner(System.`in`)\n",
        "    val n = scanner.nextInt()\n",
        "    val numbers = IntArray(n)\n",
        "    for (i in 0 until n) {\n",
        "        numbers[i] = scanner.nextInt()\n",
        "    }\n",
        "    println(getMaxPairwiseProduct(numbers))\n",
        "}\n",
        "\n",
        "class FastScanner(stream: InputStream) {\n",
        "    var br: BufferedReader = BufferedReader(InputStreamReader(stream))\n",
        "    var st: StringTokenizer? = null\n",
        "\n",
        "    fun next(): String {\n",
        "        while (st == null || !st!!.hasMoreTokens()) {\n",
        "            try {\n",
        "                st = StringTokenizer(br.readLine())\n",
        "            } catch (e: IOException) {\n",
        "                e.printStackTrace()\n",
        "            }\n",
        "        }\n",
        "        return st!!.nextToken()\n",
        "    }\n",
        "\n",
        "    fun nextInt() = next().toInt()\n",
        "}\n",
        "```\n",
        "\n",
        "### Python\n",
        "\n",
        "```py\n",
        "def max_pairwise_product(numbers):\n",
        "    n = len(numbers)\n",
        "    max_product = 0\n",
        "    for first in range(n):\n",
        "        for second in range(first + 1, n):\n",
        "            max_product = max(max_product,\n",
        "                numbers[first] * numbers[second])\n",
        "\n",
        "    return max_product\n",
        "\n",
        "\n",
        "if __name__ == '__main__':\n",
        "    input_n = int(input())\n",
        "    input_numbers = [int(x) for x in input().split()]\n",
        "    print(max_pairwise_product(input_numbers))\n",
        "\n",
        "```\n",
        "\n",
        "### Ruby\n",
        "\n",
        "```rb\n",
        "#!/usr/bin/env ruby\n",
        "# by Andronik Ordian\n",
        "\n",
        "def max_pairwise_product(a)\n",
        "  # naive implementation\n",
        "  # replace it\n",
        "  result = 0\n",
        "  n = a.size\n",
        "  (0..n-1).each do |i|\n",
        "    (i+1..n-1).each do |j|\n",
        "      if a[i]*a[j] > result\n",
        "        result = a[i]*a[j]\n",
        "      end\n",
        "    end\n",
        "  end\n",
        "  result\n",
        "end\n",
        "\n",
        "if __FILE__ == $0\n",
        "  data = STDIN.read.split().map(&:to_i)\n",
        "  n = data[0]\n",
        "  a = data[1..n]\n",
        "  puts \"#{max_pairwise_product(a)}\"\n",
        "end\n",
        "```\n",
        "\n"
      ]
    },
    {
      "cell_type": "markdown",
      "metadata": {
        "id": "C12yoFR6Xonl"
      },
      "source": [
        "## C++"
      ]
    },
    {
      "cell_type": "code",
      "execution_count": null,
      "metadata": {
        "colab": {
          "base_uri": "https://localhost:8080/"
        },
        "id": "YL4qJX3tXxdd",
        "outputId": "3f189c27-0c8a-4cdb-f303-6c2363fa1a66"
      },
      "outputs": [
        {
          "name": "stdout",
          "output_type": "stream",
          "text": [
            "Writing max_pairwise_product.cpp\n"
          ]
        }
      ],
      "source": [
        "%%writefile max_pairwise_product.cpp\n",
        "#include <iostream>\n",
        "#include <vector>\n",
        "#include <algorithm>\n",
        "\n",
        "int MaxPairwiseProduct(const std::vector<int>& numbers) {\n",
        "    int max_product = 0;\n",
        "    int n = numbers.size();\n",
        "\n",
        "    for (int first = 0; first < n; ++first) {\n",
        "        for (int second = first + 1; second < n; ++second) {\n",
        "            max_product = std::max(max_product,\n",
        "                numbers[first] * numbers[second]);\n",
        "        }\n",
        "    }\n",
        "\n",
        "    return max_product;\n",
        "}\n",
        "\n",
        "int main() {\n",
        "    int n;\n",
        "    std::cin >> n;\n",
        "    std::vector<int> numbers(n);\n",
        "    for (int i = 0; i < n; ++i) {\n",
        "        std::cin >> numbers[i];\n",
        "    }\n",
        "\n",
        "    std::cout << MaxPairwiseProduct(numbers) << \"\\n\";\n",
        "    return 0;\n",
        "}\n"
      ]
    },
    {
      "cell_type": "code",
      "execution_count": null,
      "metadata": {
        "colab": {
          "base_uri": "https://localhost:8080/"
        },
        "id": "KGxaEjvWX__O",
        "outputId": "8d403a96-703b-425a-c6f3-ea3ee16e78bd"
      },
      "outputs": [
        {
          "name": "stdout",
          "output_type": "stream",
          "text": [
            "2\n",
            "65\n",
            "74\n",
            "4810\n"
          ]
        }
      ],
      "source": [
        "!g++ max_pairwise_product.cpp -o max_pairwise_product\n",
        "!./max_pairwise_product"
      ]
    },
    {
      "cell_type": "markdown",
      "metadata": {
        "id": "e7KhxHGNS3i0"
      },
      "source": [
        "### Test 1: Small numbers"
      ]
    },
    {
      "cell_type": "code",
      "execution_count": null,
      "metadata": {
        "colab": {
          "base_uri": "https://localhost:8080/"
        },
        "id": "e1mmTzBgShT-",
        "outputId": "29af2c42-b114-49ee-cd80-a554d53b7adb"
      },
      "outputs": [
        {
          "name": "stdout",
          "output_type": "stream",
          "text": [
            "Overwriting input1.txt\n"
          ]
        }
      ],
      "source": [
        "%%writefile input1.txt\n",
        "10\n",
        "1 2 3 4 5 6 7 8 9 10"
      ]
    },
    {
      "cell_type": "code",
      "execution_count": null,
      "metadata": {
        "colab": {
          "base_uri": "https://localhost:8080/"
        },
        "id": "vy_uI0x7TCId",
        "outputId": "cfef20d5-e052-4b57-ed45-4fa8115ce4df"
      },
      "outputs": [
        {
          "name": "stdout",
          "output_type": "stream",
          "text": [
            "90\n"
          ]
        }
      ],
      "source": [
        "!./max_pairwise_product < input1.txt"
      ]
    },
    {
      "cell_type": "markdown",
      "metadata": {
        "id": "IeZ3kTjpYmR9"
      },
      "source": [
        "### Test 2: largest input numbers 200000 200000 in the input"
      ]
    },
    {
      "cell_type": "code",
      "execution_count": null,
      "metadata": {
        "colab": {
          "base_uri": "https://localhost:8080/"
        },
        "id": "LQNlZqaqYt7U",
        "outputId": "bbb68ea2-0d59-4721-c7ce-d994e8d66bb4"
      },
      "outputs": [
        {
          "name": "stdout",
          "output_type": "stream",
          "text": [
            "Overwriting input2.txt\n"
          ]
        }
      ],
      "source": [
        "%%writefile input2.txt\n",
        "6\n",
        "1 3 200000 9 200000 23"
      ]
    },
    {
      "cell_type": "code",
      "execution_count": null,
      "metadata": {
        "colab": {
          "base_uri": "https://localhost:8080/"
        },
        "id": "2Wad2VZUZDxR",
        "outputId": "dc7ec694-c242-4d22-c565-8914d162b5cd"
      },
      "outputs": [
        {
          "name": "stdout",
          "output_type": "stream",
          "text": [
            "1345294336\n"
          ]
        }
      ],
      "source": [
        "!./max_pairwise_product < input2.txt"
      ]
    },
    {
      "cell_type": "markdown",
      "metadata": {
        "id": "H2SC0Qt5HCzz"
      },
      "source": [
        "Changing the variables to long long"
      ]
    },
    {
      "cell_type": "code",
      "execution_count": null,
      "metadata": {
        "colab": {
          "base_uri": "https://localhost:8080/"
        },
        "id": "MPcmsxiQZSfE",
        "outputId": "121cbefe-5b1e-4344-e3f7-3e357951687f"
      },
      "outputs": [
        {
          "name": "stdout",
          "output_type": "stream",
          "text": [
            "Writing max_pairwise_product_long.cpp\n"
          ]
        }
      ],
      "source": [
        "%%writefile max_pairwise_product_long.cpp\n",
        "#include <iostream>\n",
        "#include <vector>\n",
        "#include <algorithm>\n",
        "\n",
        "long long MaxPairwiseProduct(const std::vector<int>& numbers) {\n",
        "    long long max_product = 0LL;\n",
        "\t  long long aux_product = 0LL;\n",
        "    int n = numbers.size();\n",
        "\n",
        "    for (int first = 0; first < n; ++first) {\n",
        "        for (int second = first + 1; second < n; ++second) {\n",
        "\t\t\t       aux_product =  (long long) numbers[first] * numbers[second];\n",
        "            if ( max_product < aux_product)  {\n",
        "\t\t\t\t        max_product = aux_product;\n",
        "             }\n",
        "        }\n",
        "    }\n",
        "\n",
        "    return max_product;\n",
        "}\n",
        "\n",
        "int main() {\n",
        "    int n;\n",
        "    std::cin >> n;\n",
        "    std::vector<int> numbers(n);\n",
        "    for (int i = 0; i < n; ++i) {\n",
        "        std::cin >> numbers[i];\n",
        "    }\n",
        "\n",
        "    std::cout << MaxPairwiseProduct(numbers) << \"\\n\";\n",
        "    return 0;\n",
        "}\n"
      ]
    },
    {
      "cell_type": "code",
      "execution_count": null,
      "metadata": {
        "colab": {
          "base_uri": "https://localhost:8080/"
        },
        "id": "I5pCeOG1Zm7s",
        "outputId": "d4e5d5ec-7e8d-4df7-f747-fcc62be2485e"
      },
      "outputs": [
        {
          "name": "stdout",
          "output_type": "stream",
          "text": [
            "90\n",
            "40000000000\n"
          ]
        }
      ],
      "source": [
        "!g++ max_pairwise_product_long.cpp -o max_pairwise_product_long\n",
        "!./max_pairwise_product_long < input1.txt\n",
        "!./max_pairwise_product_long < input2.txt"
      ]
    },
    {
      "cell_type": "markdown",
      "metadata": {
        "id": "XPVHkHxH6_7s"
      },
      "source": [
        "### Test 3  stress tests 20  times  random n in [2, 20] "
      ]
    },
    {
      "cell_type": "code",
      "execution_count": null,
      "metadata": {
        "colab": {
          "base_uri": "https://localhost:8080/"
        },
        "id": "PwqpBmYr69fu",
        "outputId": "d0379953-ba45-49a4-92e0-6252bb05ba41"
      },
      "outputs": [
        {
          "name": "stdout",
          "output_type": "stream",
          "text": [
            "Writing Test2Write.cpp\n"
          ]
        }
      ],
      "source": [
        "%%writefile Test2Write.cpp\n",
        "\n",
        "#include <iostream>\n",
        "#include <fstream>\n",
        "#include <cstdlib>\n",
        "\n",
        "using namespace std;\n",
        "\n",
        "int main() {\n",
        "  // Create and open a text file\n",
        "  ofstream MyFile(\"input3.txt\");\n",
        "  int max=20;\n",
        "  int min=2;\n",
        " MyFile << 20 <<\"\\n\";  // n \n",
        " for (int i=0; i < 20; i++){\n",
        "     MyFile <<  rand()%(max-min + 1) + min <<\" \";\n",
        " }\n",
        "  \n",
        "  // Close the file\n",
        "  MyFile.close();\n",
        "}"
      ]
    },
    {
      "cell_type": "code",
      "execution_count": null,
      "metadata": {
        "id": "bwnLNpZy5r3U"
      },
      "outputs": [],
      "source": [
        "!g++ Test2Write.cpp -o Test2Write\n",
        "!./Test2Write"
      ]
    },
    {
      "cell_type": "code",
      "execution_count": null,
      "metadata": {
        "colab": {
          "base_uri": "https://localhost:8080/"
        },
        "id": "zuQfzAot5xsn",
        "outputId": "afeb2877-1f46-4a31-b7a1-e2ac56dcad7a"
      },
      "outputs": [
        {
          "name": "stdout",
          "output_type": "stream",
          "text": [
            "323\n",
            "\n",
            "real\t0m0.007s\n",
            "user\t0m0.003s\n",
            "sys\t0m0.002s\n"
          ]
        }
      ],
      "source": [
        "!g++ max_pairwise_product_long.cpp -o max_pairwise_product_long\n",
        "!time ./max_pairwise_product_long < input3.txt"
      ]
    },
    {
      "cell_type": "markdown",
      "metadata": {
        "id": "9z9yr5QkeyJF"
      },
      "source": [
        "### Test 4  time test  measure the execution time running with the the largest worst case file (200000 increasing numbers, 200000 and 200000 the end) "
      ]
    },
    {
      "cell_type": "code",
      "execution_count": null,
      "metadata": {
        "colab": {
          "base_uri": "https://localhost:8080/"
        },
        "id": "oLiMjbAIfPlX",
        "outputId": "fecf9531-73ae-4a0d-e371-cca85ef2140f"
      },
      "outputs": [
        {
          "name": "stdout",
          "output_type": "stream",
          "text": [
            "Overwriting Test2Write.cpp\n"
          ]
        }
      ],
      "source": [
        "%%writefile Test2Write.cpp\n",
        "\n",
        "#include <iostream>\n",
        "#include <fstream>\n",
        "#include <cstdlib>\n",
        "\n",
        "using namespace std;\n",
        "\n",
        "int main() {\n",
        "  // Create and open a text file\n",
        "  ofstream MyFile(\"input3.txt\");\n",
        "\n",
        " MyFile << 200000 <<\"\\n\";  // n \n",
        " for (int i=1; i < 200001; i++){\n",
        "     MyFile << i <<\" \";\n",
        " }\n",
        "  \n",
        "  // Close the file\n",
        "  MyFile.close();\n",
        "}"
      ]
    },
    {
      "cell_type": "code",
      "execution_count": null,
      "metadata": {
        "id": "EH25TkOkZfD9"
      },
      "outputs": [],
      "source": [
        "!g++ Test2Write.cpp -o Test2Write\n",
        "!./Test2Write"
      ]
    },
    {
      "cell_type": "markdown",
      "metadata": {
        "id": "JB6f03qO-lj9"
      },
      "source": [
        "Measure time\n",
        "\n",
        "https://askubuntu.com/questions/53444/how-can-i-measure-the-execution-time-of-a-terminal-process"
      ]
    },
    {
      "cell_type": "code",
      "execution_count": null,
      "metadata": {
        "colab": {
          "base_uri": "https://localhost:8080/"
        },
        "id": "6p2QLEr576zk",
        "outputId": "ba64a52e-7ac7-4b38-c51f-92d9db416248"
      },
      "outputs": [
        {
          "name": "stdout",
          "output_type": "stream",
          "text": [
            "5\n",
            "5\n",
            "41\n",
            "56\n",
            "56\n",
            "1\n",
            "^C\n"
          ]
        }
      ],
      "source": [
        "!g++ max_pairwise_product_long.cpp -o max_pairwise_product_long\n",
        "!time ./max_pairwise_product_long < input3.txt"
      ]
    },
    {
      "cell_type": "markdown",
      "metadata": {
        "id": "AmZeB2wYjxy5"
      },
      "source": [
        "##### Calculate  the number of instructions executed by the algorithm as a function of n, add in each line a comment with the number of instructions that are executed in that line \n",
        "\n",
        "```cpp\n",
        " int main() {                         //N inst exec by line executed  \n",
        "   \n",
        "    int n;                            //1                      \n",
        "    std::cin >> n;                    //1\n",
        "                                              \n",
        "    std::vector<int> numbers(n);      //n    init vector\n",
        "    .\n",
        "    .\n",
        " }\n",
        "\n",
        "```"
      ]
    },
    {
      "cell_type": "code",
      "execution_count": null,
      "metadata": {
        "colab": {
          "base_uri": "https://localhost:8080/"
        },
        "id": "djGX3FL13g9b",
        "outputId": "fdb8fa8e-cd09-4f25-dc23-46e7dbd93f6c"
      },
      "outputs": [
        {
          "name": "stdout",
          "output_type": "stream",
          "text": [
            "Writing test_init_vectors.cpp\n"
          ]
        }
      ],
      "source": [
        "%%writefile test_init_vectors.cpp\n",
        "#include <iostream>\n",
        "#include <vector>\n",
        "#include <algorithm>\n",
        "int main() {                                                               \n",
        "    int n = 10;                                                                                                                            //1\n",
        "    std::vector<int> numbers(n);                                            \n",
        "    for (int i = 0; i < n; ++i) {                                           \n",
        "        std::cout << numbers[i];                                             \n",
        "    }\n",
        "\n",
        "    std::cout << \"\\n\";                       \n",
        "    return 0;                                                              \n",
        "}  "
      ]
    },
    {
      "cell_type": "code",
      "execution_count": null,
      "metadata": {
        "colab": {
          "base_uri": "https://localhost:8080/"
        },
        "id": "44gZcuE237-1",
        "outputId": "da09396e-0ee1-43f3-9403-2b445cee20e5"
      },
      "outputs": [
        {
          "name": "stdout",
          "output_type": "stream",
          "text": [
            "0000000000\n"
          ]
        }
      ],
      "source": [
        "!g++ test_init_vectors.cpp -o test_init_vectors\n",
        "!./test_init_vectors"
      ]
    },
    {
      "cell_type": "code",
      "execution_count": null,
      "metadata": {
        "colab": {
          "base_uri": "https://localhost:8080/"
        },
        "id": "uG6Mv-Pwlkii",
        "outputId": "5e6fa3b4-63e4-47ac-a87a-000cfd26a520"
      },
      "outputs": [
        {
          "name": "stdout",
          "output_type": "stream",
          "text": [
            "Overwriting max_pairwise_product_long.cpp\n"
          ]
        }
      ],
      "source": [
        "%%writefile max_pairwise_product_long.cpp\n",
        "#include <iostream>\n",
        "#include <vector>\n",
        "#include <algorithm>\n",
        "\n",
        "long long MaxPairwiseProduct(const std::vector<int>& numbers) {              //N inst exec by line executed \n",
        "    long long max_product = 0LL;                                             //1                                          \n",
        "\t  long long aux_product = 0LL;                                             //1 \n",
        "    int n = numbers.size();                                                  //1 \n",
        "                                                                             \n",
        "    for (int first = 0; first < n; ++first) {                                //1+2n  \n",
        "        for (int second = first + 1; second < n; ++second) {                 //n + (n-1)n \n",
        "\t\t\t       aux_product =  (long long) numbers[first] * numbers[second];    //(n-1)n/2 \n",
        "            if (max_product < aux_product)  {                                //(n-1)n/2 \n",
        "\t\t\t\t        max_product = aux_product;                                   //[0, (n-1)n/2] \n",
        "             }\n",
        "        }\n",
        "    }\n",
        "                                                                             // -------------- \n",
        "    return max_product;                                                      // 4 + 3n + [2(n-1)n, 2.5 (n-1)n] \n",
        "}\n",
        "\n",
        "int main() {                                              //N inst exec by line executed \n",
        "    int n;                                                //1  \n",
        "    std::cin >> n;                                        //1\n",
        "    std::vector<int> numbers(n);                          //n\n",
        "    for (int i = 0; i < n; ++i) {                         //1 + 2n\n",
        "        std::cin >> numbers[i];                           //n\n",
        "    }\n",
        "\n",
        "    std::cout << MaxPairwiseProduct(numbers) << \"\\n\";     //1 + 1  + 4 + 3n + [2(n-1)n, 2.5 (n-1)n]\n",
        "    return 0;                                             // -------------- \n",
        "}                                                         // 9 + 7n + [2(n-1)n, 2.5 (n-1)n]\n"
      ]
    },
    {
      "cell_type": "markdown",
      "metadata": {
        "id": "0vTsUg8OwcHs"
      },
      "source": [
        "Count executed intructions in code and verify with inputs 1, 2 and 3"
      ]
    },
    {
      "cell_type": "code",
      "execution_count": null,
      "metadata": {
        "colab": {
          "base_uri": "https://localhost:8080/"
        },
        "id": "CuRKkqQc137V",
        "outputId": "e1a602d2-a027-4891-d38a-21e033b4b890"
      },
      "outputs": [
        {
          "name": "stdout",
          "output_type": "stream",
          "text": [
            "Writing max_pairwise_product_long_execints.cpp\n"
          ]
        }
      ],
      "source": [
        "%%writefile max_pairwise_product_long_execints.cpp\n",
        "#include <iostream>\n",
        "#include <vector>\n",
        "#include <algorithm>\n",
        "\n",
        "long long MaxPairwiseProduct(const std::vector<int>& numbers, long long &execints) {              //N inst exec by line executed \n",
        "    \n",
        "    long long m = 0LL;                                                       //1\n",
        "    \n",
        "    long long max_product = 0LL;                                             //1\n",
        "    execints++;\n",
        "\n",
        "\t  long long aux_product = 0LL;                                             //1\n",
        "    execints++;\n",
        "\n",
        "    int n = numbers.size();                                                  //1 \n",
        "    execints++;\n",
        "\n",
        "    execints++;                                                                         \n",
        "    for (int first = 0; first < n; ++first) {                                //1+2n  \n",
        "        execints += 2;\n",
        "\n",
        "        long long m = 0LL;\n",
        "\n",
        "        execints++;                                    \n",
        "        for (int second = first + 1; second < n; ++second) {                 //n+ (n-1)n \n",
        "            execints += 2;                                                \n",
        "\n",
        "\t\t\t      aux_product =  (long long) numbers[first] * numbers[second];    //(n-1)n/2 \n",
        "            execints++; \n",
        "\n",
        "            execints++; \n",
        "            if ( max_product < aux_product)  {                               //(n-1)n/2 \n",
        "                       \n",
        "\t\t\t\t        max_product = aux_product;                                   //[0, (n-1)n/2] \n",
        "                execints++; \n",
        "                m++;\n",
        "             }\n",
        "        }\n",
        "        if ( (first <= 10) || (n- first <= 10)) std::cout << m << \"\\n\";\n",
        "    }\n",
        "                                                                            // -------------- \n",
        "    return max_product;                                                     // 4 + 3n + [2(n-1)n, 2.5 (n-1)n] \n",
        "}\n",
        "\n",
        "int main() {                                                 //N inst exec by line executed \n",
        "    long long execints =0LL;\n",
        "\n",
        "    int n;                                                   //1\n",
        "    execints++;                                                              \n",
        "    \n",
        "    std::cin >> n;                                           //1\n",
        "    execints++;\n",
        "\n",
        "    std::vector<int> numbers(n);                             //n\n",
        "    execints += n;\n",
        "    \n",
        "    execints++;\n",
        "    for (int i = 0; i < n; ++i) {                            //1 + 2n\n",
        "        execints += 2;\n",
        "\n",
        "        std::cin >> numbers[i];\n",
        "        execints++;                                          //n\n",
        "    }\n",
        "    \n",
        "    //std::cout << MaxPairwiseProduct(numbers) << \"\\n\";      //1 + 1  + 4 + 3n + [2(n-1)n, 2.5 (n-1)n]\n",
        "\n",
        "    execints++;\n",
        "    int M = MaxPairwiseProduct(numbers,execints);\n",
        "\n",
        "    execints++;\n",
        "    std::cout <<  execints << \"\\n\";                       \n",
        "    return 0;                                                // -------------- \n",
        "}                                                            // 9 + 7n + [2(n-1)n, 2.5 (n-1)n]"
      ]
    },
    {
      "cell_type": "code",
      "execution_count": null,
      "metadata": {
        "colab": {
          "base_uri": "https://localhost:8080/"
        },
        "id": "Kuvm1C05ly2a",
        "outputId": "533594b1-609e-4d84-b43e-28ef2fdfeb0e"
      },
      "outputs": [
        {
          "name": "stdout",
          "output_type": "stream",
          "text": [
            "9\n",
            "5\n",
            "4\n",
            "3\n",
            "2\n",
            "2\n",
            "2\n",
            "2\n",
            "1\n",
            "0\n",
            "289\n",
            "2\n",
            "1\n",
            "2\n",
            "0\n",
            "0\n",
            "0\n",
            "116\n",
            "199999\n",
            "100000\n",
            "66667\n",
            "50000\n",
            "40000\n",
            "33334\n",
            "28572\n",
            "25000\n",
            "22223\n",
            "20000\n",
            "18182\n",
            "^C\n"
          ]
        }
      ],
      "source": [
        "!g++ max_pairwise_product_long_execints.cpp -o max_pairwise_product_long_execints\n",
        "!./max_pairwise_product_long_execints < input1.txt\n",
        "!./max_pairwise_product_long_execints < input2.txt\n",
        "!./max_pairwise_product_long_execints < input3.txt"
      ]
    },
    {
      "cell_type": "markdown",
      "metadata": {
        "id": "L_uaamxeAHK7"
      },
      "source": [
        "The number of instructions executed by the algooirithm with a list of size $n$ is  \n",
        "\n",
        "$$T = 9 + 7n + [2(n-1)n, 2.5 (n-1)n]$$\n",
        "\n",
        "It depends on the size of the lists and  the order of the list.\n",
        "\n",
        "For the input1.txt \n",
        "```\n",
        "10\n",
        "1 2 3 4 5 6 7 8 9 10\n",
        "```\n",
        "$$T = 9 + 7(10) + 2(9)(10) +  9 + 5 + 4 + 3 + 2 + 2 + 2 + 2 + 1 + 0  = 289 $$\n",
        "\n",
        "For the input2.txt \n",
        "```\n",
        "6\n",
        "1 3 200000 9 200000 23\n",
        "```\n",
        "$$T = 9 + 7(6) + 2(5)(6)  +  2 + 1 + 2 + 0 + 0 + 0 = 116 $$\n",
        "\n",
        "\n",
        "For the input3.txt that is the worst case (n=200000 and list in incresing order)\n",
        "\n",
        "```\n",
        "200000\n",
        "1 2 3 4 5 6 7 8 9 10 ... 199998 199999 200000\n",
        "```\n",
        "\n",
        "$$\n",
        "\\begin{array}{ll}\n",
        "T &= 9 + 7(200000) + (2)(199999)(200000)  + (199999 +\n",
        "100000 + 66667 +50000 \\cdots 2 + 2 + 1)\\\\\n",
        "&= 80003672077  \\\\\n",
        "  &< 9 + 7(200000) + (2.5)(199999)(200000) \\\\\n",
        "  & = 100000900009\n",
        "\\end{array}\n",
        "  $$"
      ]
    },
    {
      "cell_type": "markdown",
      "metadata": {
        "id": "NXW7QkoBL6xH"
      },
      "source": [
        "Calculate estimated time by instruction and number of instructions by second"
      ]
    },
    {
      "cell_type": "code",
      "execution_count": null,
      "metadata": {
        "colab": {
          "base_uri": "https://localhost:8080/"
        },
        "id": "pKqB3i7dIxnc",
        "outputId": "38547675-18c0-479f-ece9-6ce593bcf294"
      },
      "outputs": [
        {
          "data": {
            "text/plain": [
              "1.5999265618308827e-09"
            ]
          },
          "execution_count": 48,
          "metadata": {},
          "output_type": "execute_result"
        }
      ],
      "source": [
        "# Estimated time by instruction\n",
        "\n",
        "128/80003672077 \n"
      ]
    },
    {
      "cell_type": "code",
      "execution_count": null,
      "metadata": {
        "colab": {
          "base_uri": "https://localhost:8080/"
        },
        "id": "18N1ouqeMhE1",
        "outputId": "12ce6c4f-6a36-477a-ce7d-3d722636c779"
      },
      "outputs": [
        {
          "data": {
            "text/plain": [
              "625028688.1015625"
            ]
          },
          "execution_count": 49,
          "metadata": {},
          "output_type": "execute_result"
        }
      ],
      "source": [
        "# Estimated number of instructions by second\n",
        "\n",
        "1/(128/80003672077) "
      ]
    },
    {
      "cell_type": "markdown",
      "metadata": {
        "id": "CQufozXLNJwO"
      },
      "source": [
        "### Efficient solution"
      ]
    },
    {
      "cell_type": "markdown",
      "metadata": {
        "id": "nLcKBwbU0QsE"
      },
      "source": [
        "Add in each line a coment with the number of intstrcution that are executed in that line"
      ]
    },
    {
      "cell_type": "code",
      "execution_count": null,
      "metadata": {
        "colab": {
          "base_uri": "https://localhost:8080/"
        },
        "id": "knls5Fh3NSt_",
        "outputId": "46a3ea8a-3678-4553-dabc-b17edb13ce5d"
      },
      "outputs": [
        {
          "name": "stdout",
          "output_type": "stream",
          "text": [
            "Overwriting ef_max_pairwise_product.cpp\n"
          ]
        }
      ],
      "source": [
        "%%writefile ef_max_pairwise_product.cpp\n",
        "#include <cstdlib>\n",
        "#include <iostream>\n",
        "#include <vector>\n",
        "#include <algorithm>\n",
        "#include <math.h> \n",
        "\n",
        "using namespace std;\n",
        "using std::vector;\n",
        "using std::cout;\n",
        "\n",
        "vector<int> a;\n",
        "\n",
        "long long MaxPairwiseProductFast(const vector<int> &numbers) {\n",
        "    int n = numbers.size();\n",
        "    vector<int> tempNumbers = numbers;\n",
        "    sort(tempNumbers.begin(), tempNumbers.end());\n",
        "    int index0 = n - 1;\n",
        "    int index1 = n - 2;\n",
        "    return ((long long) (tempNumbers[index0])) * tempNumbers[index1];\n",
        "}\n",
        "\n",
        "\n",
        "int main() {\n",
        "    int n;\n",
        "    cin >> n;\n",
        "    vector<int> numbers(n);\n",
        "    for (int i = 0; i < n; ++i) {\n",
        "        cin >> numbers[i];\n",
        "    }\n",
        "    long long result = MaxPairwiseProductFast(numbers);\n",
        "    cout << result << \"\\n\";\n",
        "    return 0;\n",
        "}"
      ]
    },
    {
      "cell_type": "markdown",
      "metadata": {
        "id": "-JCijbWxNSii"
      },
      "source": [
        "Test with inputs 1 and 2\n",
        "\n"
      ]
    },
    {
      "cell_type": "code",
      "execution_count": null,
      "metadata": {
        "colab": {
          "base_uri": "https://localhost:8080/"
        },
        "id": "E7UWgocZ8Ex6",
        "outputId": "9ad458de-b14e-4b84-975e-eb4f12f3cbb8"
      },
      "outputs": [
        {
          "name": "stdout",
          "output_type": "stream",
          "text": [
            "90\n",
            "40000000000\n"
          ]
        }
      ],
      "source": [
        "!g++ ef_max_pairwise_product.cpp -o ef_max_pairwise_product\n",
        "!./ef_max_pairwise_product < input1.txt\n",
        "\n",
        "!./ef_max_pairwise_product < input2.txt"
      ]
    },
    {
      "cell_type": "markdown",
      "metadata": {
        "id": "PRX51wADNR8b"
      },
      "source": [
        "Test and time it with input 3"
      ]
    },
    {
      "cell_type": "code",
      "execution_count": null,
      "metadata": {
        "colab": {
          "base_uri": "https://localhost:8080/"
        },
        "id": "i81UW8FV8Ex6",
        "outputId": "360c5478-5dfa-4cbe-ad27-c32c20c22a7c"
      },
      "outputs": [
        {
          "name": "stdout",
          "output_type": "stream",
          "text": [
            "39999800000\n"
          ]
        }
      ],
      "source": [
        "!g++ ef_max_pairwise_product.cpp -o ef_max_pairwise_product\n",
        "!./ef_max_pairwise_product < input3.txt"
      ]
    },
    {
      "cell_type": "code",
      "execution_count": null,
      "metadata": {
        "colab": {
          "base_uri": "https://localhost:8080/"
        },
        "id": "v4z7-Is_NRt7",
        "outputId": "fb304aac-d854-40ca-90d0-6e594e047f55"
      },
      "outputs": [
        {
          "name": "stdout",
          "output_type": "stream",
          "text": [
            "39999800000\n",
            "\n",
            "real\t0m0.114s\n",
            "user\t0m0.108s\n",
            "sys\t0m0.004s\n"
          ]
        }
      ],
      "source": [
        "!time ./ef_max_pairwise_product < input3.txt"
      ]
    },
    {
      "cell_type": "markdown",
      "metadata": {
        "id": "rpdfs0_TNZJf"
      },
      "source": [
        "20 stress tests"
      ]
    },
    {
      "cell_type": "code",
      "execution_count": null,
      "metadata": {
        "colab": {
          "base_uri": "https://localhost:8080/"
        },
        "id": "u4gGruPd8Ex6",
        "outputId": "5812c140-184b-458f-e253-a2dca92f1ac3"
      },
      "outputs": [
        {
          "name": "stdout",
          "output_type": "stream",
          "text": [
            "1 2 3 4 5 6\n"
          ]
        }
      ],
      "source": [
        "def get_max(arr):\n",
        "    sorted_arr = sorted(arr)\n",
        "    return sorted_arr[-1] * sorted_arr[-2]\n",
        "\n",
        "\n",
        "values = list(map(int, input().split()))\n"
      ]
    },
    {
      "cell_type": "code",
      "execution_count": null,
      "metadata": {
        "colab": {
          "base_uri": "https://localhost:8080/"
        },
        "id": "b3_Rgpge8Ex6",
        "outputId": "49c1525b-8c56-4d6e-d5ae-d91d39dfbf2e"
      },
      "outputs": [
        {
          "name": "stdout",
          "output_type": "stream",
          "text": [
            "30\n",
            "CPU times: user 309 µs, sys: 551 µs, total: 860 µs\n",
            "Wall time: 870 µs\n"
          ]
        }
      ],
      "source": [
        "%%time\n",
        "print(get_max(values))\n"
      ]
    },
    {
      "cell_type": "markdown",
      "metadata": {
        "id": "L8U4151JNbxk"
      },
      "source": [
        "Count executed instructions in code and verify with inputs 1,2 and 3\n"
      ]
    },
    {
      "cell_type": "code",
      "execution_count": null,
      "metadata": {
        "colab": {
          "base_uri": "https://localhost:8080/"
        },
        "id": "dh85RM8vNhFz",
        "outputId": "e35e9ca7-1c38-4557-e0cb-75c6295cf21c"
      },
      "outputs": [
        {
          "name": "stdout",
          "output_type": "stream",
          "text": [
            "Overwriting ef_max_pairwise_product_count.cpp\n"
          ]
        }
      ],
      "source": [
        "%%writefile ef_max_pairwise_product_count.cpp\n",
        "#include <cstdlib>\n",
        "#include <iostream>\n",
        "#include <vector>\n",
        "#include <algorithm>\n",
        "#include <math.h> \n",
        "\n",
        "using namespace std;\n",
        "using std::vector;\n",
        "using std::cout;\n",
        "\n",
        "vector<int> a;\n",
        "\n",
        "int count=0;\n",
        "long long MaxPairwiseProductFast(const vector<int> &numbers) {\n",
        "    int n = numbers.size();\n",
        "    vector<int> tempNumbers = numbers;\n",
        "    sort(tempNumbers.begin(), tempNumbers.end());\n",
        "    count +=n*log(n);\n",
        "    int index0 = n - 1;\n",
        "    int index1 = n - 2;\n",
        "    count +=2;\n",
        "    return ((long long) (tempNumbers[index0])) * tempNumbers[index1];\n",
        "}\n",
        "\n",
        "int main() {\n",
        "    int n;\n",
        "    cin >> n;\n",
        "    vector<int> numbers(n);\n",
        "    for (int i = 0; i < n; ++i) {\n",
        "        cin >> numbers[i];\n",
        "    }\n",
        "    long long result = MaxPairwiseProductFast(numbers);\n",
        "    cout << result << \"\\n\";\n",
        "    cout <<\"Cuenta de instrucciones: \"<<count<< \"\\n\";\n",
        "    return 0;\n",
        "}"
      ]
    },
    {
      "cell_type": "code",
      "execution_count": null,
      "metadata": {
        "colab": {
          "base_uri": "https://localhost:8080/"
        },
        "id": "JzAXsA23JU_i",
        "outputId": "c672725d-5c96-4d77-8514-ff08d2c49806"
      },
      "outputs": [
        {
          "name": "stdout",
          "output_type": "stream",
          "text": [
            "BASE OPTIM: 10 9\n",
            "90\n",
            "Cuenta de instrucciones: 33\n",
            "BASE OPTIM: 200000 200000\n",
            "40000000000\n",
            "Cuenta de instrucciones: 17\n",
            "BASE OPTIM: 200000 199999\n",
            "39999800000\n",
            "Cuenta de instrucciones: 600003\n"
          ]
        }
      ],
      "source": [
        "!g++ ef_max_pairwise_product_count.cpp -o ef_max_pairwise_product_count\n",
        "!./ef_max_pairwise_product_count < input1.txt\n",
        "!./ef_max_pairwise_product_count < input2.txt\n",
        "!./ef_max_pairwise_product_count < input3.txt"
      ]
    },
    {
      "cell_type": "markdown",
      "metadata": {
        "id": "K6ybgCmpNygr"
      },
      "source": [
        "Calculate estimated time by instruction and number of instructions by second"
      ]
    },
    {
      "cell_type": "code",
      "execution_count": null,
      "metadata": {
        "colab": {
          "base_uri": "https://localhost:8080/"
        },
        "id": "kwe3G1O3Nz1w",
        "outputId": "8479fa5e-a1dd-411a-d053-0a70034ac3d2"
      },
      "outputs": [
        {
          "name": "stdout",
          "output_type": "stream",
          "text": [
            "Tiempo por instrucción:  1.362437462809111e-09\n",
            "Número de instrucciones por segundo:  733978642.9082569\n"
          ]
        }
      ],
      "source": [
        "# Input1.txt\n",
        "print(\"Tiempo por instrucción: \", 109/80003672077)\n",
        "print(\"Número de instrucciones por segundo: \", 1/(109/80003672077))"
      ]
    },
    {
      "cell_type": "code",
      "execution_count": null,
      "metadata": {
        "colab": {
          "base_uri": "https://localhost:8080/"
        },
        "id": "TrTGAfqlNVXT",
        "outputId": "eb73436d-10e1-41f5-fb18-09449f1a66e4"
      },
      "outputs": [
        {
          "name": "stdout",
          "output_type": "stream",
          "text": [
            "Tiempo por instrucción:  8.12462707179745e-10\n",
            "Número de instrucciones por segundo:  1230825724.2615385\n"
          ]
        }
      ],
      "source": [
        "# Input2.txt\n",
        "print(\"Tiempo por instrucción: \", 65/80003672077)\n",
        "print(\"Número de instrucciones por segundo: \", 1/(65/80003672077))"
      ]
    },
    {
      "cell_type": "code",
      "execution_count": null,
      "metadata": {
        "colab": {
          "base_uri": "https://localhost:8080/"
        },
        "id": "4hA_b-A7RP_v",
        "outputId": "7d3570ab-2897-4d22-d175-65ed8feaab1b"
      },
      "outputs": [
        {
          "name": "stdout",
          "output_type": "stream",
          "text": [
            "Tiempo por instrucción:  2.499896502344392e-05\n",
            "Número de instrucciones por segundo:  40001.65603104786\n"
          ]
        }
      ],
      "source": [
        "# Input3.txt\n",
        "print(\"Tiempo por instrucción: \", 2000009/80003672077)\n",
        "print(\"Número de instrucciones por segundo: \", 1/(2000009/80003672077))"
      ]
    },
    {
      "cell_type": "markdown",
      "metadata": {
        "id": "sc9nOLQrfTm0"
      },
      "source": [
        "### Super efficient solution\n",
        "\n",
        "Whitout storing the list in memory and whitout calling a function, add in each line a coment with the number of intstrcution that are executed in that line "
      ]
    },
    {
      "cell_type": "code",
      "execution_count": null,
      "metadata": {
        "colab": {
          "base_uri": "https://localhost:8080/"
        },
        "id": "hBLt_xBQLy8E",
        "outputId": "991e4a96-e9bf-4d86-ee8a-d8a59e0844ee"
      },
      "outputs": [
        {
          "name": "stdout",
          "output_type": "stream",
          "text": [
            "Overwriting MaxPairwiseProductSuperEfficient.cpp\n"
          ]
        }
      ],
      "source": [
        "%%writefile MaxPairwiseProductSuperEfficient.cpp\n",
        "\n",
        "#include <cstdlib>\n",
        "#include <iostream>\n",
        "#include <vector>\n",
        "#include <algorithm>\n",
        "\n",
        "using namespace std;\n",
        "using std::vector;\n",
        "using std::cout;\n",
        "\n",
        "vector<int> a;\n",
        "\n",
        "long long MaxPairwiseProductFast(const vector<int> &numbers) {\n",
        "    int n = numbers.size();\n",
        "\n",
        "    int index0 = -1;\n",
        "    int index1 = -1;\n",
        "    for (int i = 0; i < n; ++i) {\n",
        "        if (numbers[i] > index0) {\n",
        "            index1 = index0;\n",
        "            index0 = numbers[i];\n",
        "        } else if (numbers[i] > index1) {\n",
        "            index1 = numbers[i];\n",
        "        }\n",
        "    }\n",
        "    cout << \"BASE OPTIM: \" << index0 << \" \" << index1 << \"\\n\";\n",
        "    return ((long long) (index0)) * index1;\n",
        "}\n",
        "\n",
        "int main() {\n",
        "    int n;\n",
        "    cin >> n;\n",
        "    vector<int> numbers(n);\n",
        "    for (int i = 0; i < n; ++i) {\n",
        "        cin >> numbers[i];\n",
        "    }\n",
        "    long long result = MaxPairwiseProductFast(numbers);\n",
        "    cout << result << \"\\n\";\n",
        "    return 0;\n",
        "}\n"
      ]
    },
    {
      "cell_type": "markdown",
      "metadata": {
        "id": "683gc3roHqzb"
      },
      "source": [
        "Test with inputs 1 and 2\n",
        "\n",
        "\n",
        " "
      ]
    },
    {
      "cell_type": "code",
      "execution_count": null,
      "metadata": {
        "colab": {
          "base_uri": "https://localhost:8080/"
        },
        "id": "b7d4LA8OIc2_",
        "outputId": "81008076-e249-4967-8dcb-6e94645827ad"
      },
      "outputs": [
        {
          "name": "stdout",
          "output_type": "stream",
          "text": [
            "BASE OPTIM: 10 9\n",
            "90\n",
            "BASE OPTIM: 200000 200000\n",
            "40000000000\n",
            "BASE OPTIM: 200000 199999\n",
            "39999800000\n"
          ]
        }
      ],
      "source": [
        "!g++ MaxPairwiseProductSuperEfficient.cpp -o MaxPairwiseProductSuperEfficient\n",
        "!./MaxPairwiseProductSuperEfficient < input1.txt\n",
        "!./MaxPairwiseProductSuperEfficient < input2.txt\n",
        "!./MaxPairwiseProductSuperEfficient < input3.txt"
      ]
    },
    {
      "cell_type": "markdown",
      "metadata": {
        "id": "36Ugn1odIeJz"
      },
      "source": [
        "Test and time it with input 3"
      ]
    },
    {
      "cell_type": "code",
      "execution_count": null,
      "metadata": {
        "colab": {
          "base_uri": "https://localhost:8080/"
        },
        "id": "jDyMbCnxHqSN",
        "outputId": "bad9bc67-461f-46ea-af7e-ee9ad1f6f276"
      },
      "outputs": [
        {
          "name": "stdout",
          "output_type": "stream",
          "text": [
            "BASE OPTIM: 200000 199999\n",
            "39999800000\n"
          ]
        }
      ],
      "source": [
        "!g++ MaxPairwiseProductSuperEfficient.cpp -o MaxPairwiseProductSuperEfficient\n",
        "!./MaxPairwiseProductSuperEfficient < input3.txt"
      ]
    },
    {
      "cell_type": "markdown",
      "metadata": {
        "id": "fEXj8GHJH5p1"
      },
      "source": [
        "Count executed instructions in code and verify with inputs 1,2 and 3"
      ]
    },
    {
      "cell_type": "code",
      "execution_count": null,
      "metadata": {
        "colab": {
          "base_uri": "https://localhost:8080/"
        },
        "id": "LF1DHjKXIAsF",
        "outputId": "209d437c-b062-4b46-f8f7-37ca7040ecbf"
      },
      "outputs": [
        {
          "name": "stdout",
          "output_type": "stream",
          "text": [
            "Overwriting MaxPairwiseProductSuperEfficient_count.cpp\n"
          ]
        }
      ],
      "source": [
        "%%writefile MaxPairwiseProductSuperEfficient_count.cpp\n",
        "\n",
        "#include <cstdlib>\n",
        "#include <iostream>\n",
        "#include <vector>\n",
        "#include <algorithm>\n",
        "\n",
        "using namespace std;\n",
        "using std::vector;\n",
        "using std::cout;\n",
        "\n",
        "vector<int> a;\n",
        "long long MaxPairwiseProductFast(const vector<int> &numbers) {\n",
        "    int count =0;\n",
        "    int n = numbers.size();\n",
        "    int index0 = -1;\n",
        "    int index1 = -1;\n",
        "    count+=3;\n",
        "    for (int i = 0; i < n; ++i) {\n",
        "        if (numbers[i] > index0) {\n",
        "            index1 = index0;\n",
        "            index0 = numbers[i];\n",
        "            count+=2;\n",
        "        } else if (numbers[i] > index1) {\n",
        "            index1 = numbers[i];\n",
        "            count+=1;\n",
        "        }\n",
        "    }\n",
        "    cout << \"BASE OPTIM: \" << index0 << \" \" << index1 << \"\\n\";\n",
        "    cout <<\"Cuenta de instrucciones: \"<<count<< \"\\n\";\n",
        "    return ((long long) (index0)) * index1;\n",
        "}\n",
        "\n",
        "int main() {\n",
        "    int n;\n",
        "    cin >> n;\n",
        "    vector<int> numbers(n);\n",
        "    for (int i = 0; i < n; ++i) {\n",
        "        cin >> numbers[i];\n",
        "    }\n",
        "    long long result = MaxPairwiseProductFast(numbers);\n",
        "    cout << result << \"\\n\";\n",
        "    return 0;\n",
        "}"
      ]
    },
    {
      "cell_type": "code",
      "execution_count": null,
      "metadata": {
        "colab": {
          "base_uri": "https://localhost:8080/"
        },
        "id": "TWGi1ErjQIqP",
        "outputId": "94cdda8f-3b34-4d72-970b-0cc7ea410f1a"
      },
      "outputs": [
        {
          "name": "stdout",
          "output_type": "stream",
          "text": [
            "BASE OPTIM: 10 9\n",
            "Cuenta de instrucciones: 23\n",
            "90\n",
            "BASE OPTIM: 200000 200000\n",
            "Cuenta de instrucciones: 11\n",
            "40000000000\n",
            "BASE OPTIM: 200000 199999\n",
            "Cuenta de instrucciones: 400003\n",
            "39999800000\n"
          ]
        }
      ],
      "source": [
        "!g++ MaxPairwiseProductSuperEfficient_count.cpp -o MaxPairwiseProductSuperEfficient_count\n",
        "!./MaxPairwiseProductSuperEfficient_count < input1.txt\n",
        "!./MaxPairwiseProductSuperEfficient_count < input2.txt\n",
        "!./MaxPairwiseProductSuperEfficient_count < input3.txt"
      ]
    },
    {
      "cell_type": "markdown",
      "metadata": {
        "id": "yae7sSm2IG9U"
      },
      "source": [
        "Calculate estimated time by instruction and number of instructions by second"
      ]
    },
    {
      "cell_type": "code",
      "execution_count": null,
      "metadata": {
        "colab": {
          "base_uri": "https://localhost:8080/"
        },
        "id": "suouY7BYL2dz",
        "outputId": "f6a18cbe-cfe8-40b7-d8ab-4b860ca2c2c4"
      },
      "outputs": [
        {
          "name": "stdout",
          "output_type": "stream",
          "text": [
            "Tiempo por instrucción:  8.249621334440489e-10\n",
            "Número de instrucciones por segundo:  1212176849.6515152\n"
          ]
        }
      ],
      "source": [
        "# Input1.txt\n",
        "print(\"Tiempo por instrucción: \", 66/80003672077)\n",
        "print(\"Número de instrucciones por segundo: \", 1/(66/80003672077))"
      ]
    },
    {
      "cell_type": "code",
      "execution_count": null,
      "metadata": {
        "colab": {
          "base_uri": "https://localhost:8080/"
        },
        "id": "u4E8-5cEQ5pq",
        "outputId": "80a1b8e7-2131-4a96-fcc4-6a4bfba42e2e"
      },
      "outputs": [
        {
          "name": "stdout",
          "output_type": "stream",
          "text": [
            "Tiempo por instrucción:  4.6247877177923953e-10\n",
            "Número de instrucciones por segundo:  2162261407.4864864\n"
          ]
        }
      ],
      "source": [
        "# Input2.txt\n",
        "print(\"Tiempo por instrucción: \", 37/80003672077)\n",
        "print(\"Número de instrucciones por segundo: \", 1/(37/80003672077))"
      ]
    },
    {
      "cell_type": "code",
      "execution_count": null,
      "metadata": {
        "colab": {
          "base_uri": "https://localhost:8080/"
        },
        "id": "coFeKg7zQ5y3",
        "outputId": "097cd08f-3f2c-4248-b5b0-50c6fdabe154"
      },
      "outputs": [
        {
          "name": "stdout",
          "output_type": "stream",
          "text": [
            "Tiempo por instrucción:  1.499938651372211e-05\n",
            "Número de instrucciones por segundo:  66669.39338386641\n"
          ]
        }
      ],
      "source": [
        "# Input3.txt\n",
        "print(\"Tiempo por instrucción: \", 1200006/80003672077)\n",
        "print(\"Número de instrucciones por segundo: \", 1/(1200006/80003672077))"
      ]
    },
    {
      "cell_type": "markdown",
      "metadata": {
        "id": "rydCU4bFfrhG"
      },
      "source": [
        "## Python"
      ]
    },
    {
      "cell_type": "markdown",
      "metadata": {
        "id": "6n707zUXO0N0"
      },
      "source": [
        "Efficient cython file reading, string parsing, and array building\n",
        "\n",
        "https://stackoverflow.com/questions/37219875/efficient-cython-file-reading-string-parsing-and-array-building\n",
        "\n",
        "\n",
        "\n",
        "File PreProcessing With C and Cython\n",
        "\n",
        "https://github.com/EveryTimeIWill18/Cython_Repo/blob/master/FastFileProcessingWithCython.ipynb\n",
        "\n"
      ]
    },
    {
      "cell_type": "code",
      "execution_count": null,
      "metadata": {
        "colab": {
          "base_uri": "https://localhost:8080/"
        },
        "id": "xwq0n_b4L3ML",
        "outputId": "44557773-309b-4d1f-84f5-7407e209dd61"
      },
      "outputs": [
        {
          "name": "stdout",
          "output_type": "stream",
          "text": [
            "Writing maxPro.py\n"
          ]
        }
      ],
      "source": [
        "%%writefile maxPro.py\n",
        "# python3\n",
        "\n",
        "def MaxPro(numbers):\n",
        "  max1 = 0\n",
        "  max2 = 0\n",
        "  for number in numbers:\n",
        "      if max1<number:\n",
        "        max2 = max1\n",
        "        max1 = number\n",
        "      elif max2<number:\n",
        "        max2=number\n",
        "  return max2*max1\n",
        "\n",
        "\n",
        "if __name__ == '__main__':\n",
        "    input_n = int(input())\n",
        "    input_numbers = [int(x) for x in input().split()]\n",
        "    print(MaxPro(input_numbers))"
      ]
    },
    {
      "cell_type": "code",
      "execution_count": null,
      "metadata": {
        "colab": {
          "base_uri": "https://localhost:8080/"
        },
        "id": "xhxWjNFLRIja",
        "outputId": "3da184a0-73a3-4cc0-8184-6fbd323f0544"
      },
      "outputs": [
        {
          "name": "stdout",
          "output_type": "stream",
          "text": [
            "90\n",
            "CPU times: user 8.39 ms, sys: 6.29 ms, total: 14.7 ms\n",
            "Wall time: 113 ms\n",
            "40000000000\n",
            "CPU times: user 9.45 ms, sys: 2.01 ms, total: 11.5 ms\n",
            "Wall time: 114 ms\n",
            "39999800000\n",
            "CPU times: user 8.12 ms, sys: 8.24 ms, total: 16.4 ms\n",
            "Wall time: 216 ms\n"
          ]
        }
      ],
      "source": [
        "%time !python maxPro.py < input1.txt\n",
        "%time !python maxPro.py < input2.txt\n",
        "%time !python maxPro.py < input3.txt"
      ]
    },
    {
      "cell_type": "markdown",
      "metadata": {
        "id": "LkVxxlhl9H98"
      },
      "source": [
        "# Screenhsoots of the Coursera Submissions in C++ and Python"
      ]
    },
    {
      "cell_type": "markdown",
      "metadata": {
        "id": "FRsK_FZ_BNJE"
      },
      "source": [
        "### Nestor Garzon\n",
        "<img src='lab6_res.png'>\n",
        "<img src='lab6_res0.png'>"
      ]
    },
    {
      "cell_type": "markdown",
      "metadata": {},
      "source": [
        "### Tania Quijano\n",
        "<img src='./tan.jpeg'>\n",
        "<img src='./tan0.jpeg'>\n"
      ]
    },
    {
      "cell_type": "markdown",
      "metadata": {},
      "source": []
    }
  ],
  "metadata": {
    "colab": {
      "collapsed_sections": [],
      "name": "Copia de negarzoncAlgorithmicToolboxWeek1.ipynb",
      "provenance": []
    },
    "kernelspec": {
      "display_name": "Python 3",
      "name": "python3"
    },
    "language_info": {
      "codemirror_mode": {
        "name": "ipython",
        "version": 3
      },
      "file_extension": ".py",
      "mimetype": "text/x-python",
      "name": "python",
      "nbconvert_exporter": "python",
      "pygments_lexer": "ipython3",
      "version": "3.8.8"
    }
  },
  "nbformat": 4,
  "nbformat_minor": 0
}
