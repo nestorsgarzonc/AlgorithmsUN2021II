{
  "cells": [
    {
      "cell_type": "markdown",
      "metadata": {
        "id": "kJ7j2w0mPTNh"
      },
      "source": [
        "## Money Change"
      ]
    },
    {
      "cell_type": "code",
      "execution_count": null,
      "metadata": {
        "colab": {
          "base_uri": "https://localhost:8080/"
        },
        "id": "RHFXi6LBLpmA",
        "outputId": "e61b878f-614d-454a-9f83-e5af8c7f0da1"
      },
      "outputs": [
        {
          "name": "stdout",
          "output_type": "stream",
          "text": [
            "Overwriting punto1.cpp\n"
          ]
        }
      ],
      "source": [
        "%%writefile punto1.cpp\n",
        "#include <iostream>\n",
        "using namespace std;\n",
        "int get_change(int m) {\n",
        "  //write your code here\n",
        "  int totalCoins = 0;\n",
        "\n",
        "  \n",
        "    totalCoins += m/10;\n",
        "    m = m%10;\n",
        "  \n",
        "    totalCoins += m/5;\n",
        "    m = m%5;  \n",
        "  \n",
        "    totalCoins += m/1;\n",
        "    m = m%1;\n",
        "  \n",
        "  return totalCoins;\n",
        "}\n",
        "\n",
        "int main() {\n",
        "  int m;\n",
        "  cin >> m;\n",
        "  cout << get_change(m) << '\\n';\n",
        "}\n"
      ]
    },
    {
      "cell_type": "code",
      "execution_count": null,
      "metadata": {
        "colab": {
          "base_uri": "https://localhost:8080/"
        },
        "id": "rmC8QtMmMAYo",
        "outputId": "bf123fdb-29d9-40bb-bf90-2ec5d47400a0"
      },
      "outputs": [
        {
          "name": "stdout",
          "output_type": "stream",
          "text": [
            "28\n",
            "6\n"
          ]
        }
      ],
      "source": [
        "!g++ punto1.cpp -o executable\n",
        "!./executable"
      ]
    },
    {
      "cell_type": "markdown",
      "metadata": {
        "id": "0IxD-orbPZHN"
      },
      "source": [
        "## Maximum Value of the Loot"
      ]
    },
    {
      "cell_type": "code",
      "execution_count": null,
      "metadata": {
        "colab": {
          "base_uri": "https://localhost:8080/"
        },
        "id": "VvhQbR0_Mthi",
        "outputId": "3a75a669-5fc8-43f2-9bb8-4af7899059ce"
      },
      "outputs": [
        {
          "name": "stdout",
          "output_type": "stream",
          "text": [
            "Writing punto2.cpp\n"
          ]
        }
      ],
      "source": [
        "%%writefile punto2.cpp\n",
        "#include <iostream>\n",
        "#include <vector>\n",
        "\n",
        "using std::vector;\n",
        "using namespace std;\n",
        "int getMax(vector<int> weights, vector<int> values){\n",
        "  double max = 0.0;\n",
        "  int maxIndex = 0;\n",
        "  for(int i = 0; i< values.size();i++){\n",
        "    if((values[i]+0.0)/(weights[i]+0.0) > max ){\n",
        "      maxIndex = i;\n",
        "      max = (values[i]+0.0)/(weights[i]+0.0);\n",
        "    } \n",
        "  }\n",
        "  if(max == 0){\n",
        "    return -1;\n",
        "  }\n",
        "  return maxIndex;\n",
        "}\n",
        "double get_optimal_value(int capacity, vector<int> weights, vector<int> values) {\n",
        "  double value = 0.0;\n",
        "\n",
        "  // write your code here\n",
        "  while(capacity>0){\n",
        "    int maxIndex = getMax(weights, values);\n",
        "    if(maxIndex == -1) return value;\n",
        "    double prop = (values[maxIndex]+0.0)/(weights[maxIndex]+0.0);\n",
        "    if(capacity <= weights[maxIndex]){\n",
        "      value += prop * capacity;\n",
        "      //out<<prop<<endl;\n",
        "      return value;\n",
        "    }\n",
        "    else{\n",
        "      value += prop * weights[maxIndex]; \n",
        "      capacity -= weights[maxIndex];\n",
        "      //cout<<capacity<<endl;\n",
        "    }\n",
        "    values[maxIndex] = 0;\n",
        "  }\n",
        "  return value;\n",
        "}\n",
        "\n",
        "\n",
        "int main() {\n",
        "  int n;\n",
        "  int capacity;\n",
        "  std::cin >> n >> capacity;\n",
        "  vector<int> values(n);\n",
        "  vector<int> weights(n);\n",
        "  for (int i = 0; i < n; i++) {\n",
        "    std::cin >> values[i] >> weights[i];\n",
        "  }\n",
        "\n",
        "  double optimal_value = get_optimal_value(capacity, weights, values);\n",
        "\n",
        "  std::cout.precision(10);\n",
        "  std::cout << optimal_value << std::endl;\n",
        "  return 0;\n",
        "}\n"
      ]
    },
    {
      "cell_type": "code",
      "execution_count": null,
      "metadata": {
        "colab": {
          "base_uri": "https://localhost:8080/"
        },
        "id": "QHY7DgmjNrCn",
        "outputId": "96921ead-cd3e-4f3c-e5d6-ed101c2810f4"
      },
      "outputs": [
        {
          "name": "stdout",
          "output_type": "stream",
          "text": [
            "1 10 500 30\n",
            "166.6666667\n"
          ]
        }
      ],
      "source": [
        "!g++ punto2.cpp -o executable\n",
        "!./executable"
      ]
    },
    {
      "cell_type": "markdown",
      "metadata": {
        "id": "4aw3jGawPeqA"
      },
      "source": [
        "## Car Fueling"
      ]
    },
    {
      "cell_type": "code",
      "execution_count": null,
      "metadata": {
        "colab": {
          "base_uri": "https://localhost:8080/"
        },
        "id": "xU5YGClhM5OK",
        "outputId": "d6a32848-0c72-43b3-d8d3-7a590d7e9a97"
      },
      "outputs": [
        {
          "name": "stdout",
          "output_type": "stream",
          "text": [
            "Overwriting punto3.cpp\n"
          ]
        }
      ],
      "source": [
        "%%writefile punto3.cpp\n",
        "#include <iostream>\n",
        "#include <vector>\n",
        "\n",
        "using std::cin;\n",
        "using std::cout;\n",
        "using std::vector;\n",
        "using std::max;\n",
        "using std::endl;\n",
        "\n",
        "int compute_min_refills(int dist, int tank, vector<int> & stops) {\n",
        "    // write your code here\n",
        "    int totalFuel = tank;\n",
        "    int i = 0;\n",
        "    int recorrido = 0;\n",
        "    int totalSteps = 0;\n",
        "    //cout<<stops[0]<<endl;\n",
        "    while(recorrido<dist){\n",
        "        while(i<(stops.size()) && stops[i]<=totalFuel){\n",
        "            recorrido = stops[i];\n",
        "            i++;\n",
        "            //cout<<i<<endl;\n",
        "        }\n",
        "        if(i == stops.size()) return totalSteps;\n",
        "        totalSteps++;\n",
        "        totalFuel = recorrido  + tank;\n",
        "        //cout<<totalFuel<<endl;\n",
        "        if((stops[i])>totalFuel) return -1;\n",
        "    }\n",
        "    return -1;\n",
        "}\n",
        "\n",
        "\n",
        "int main() {\n",
        "    int d = 0;\n",
        "    cin >> d;\n",
        "    int m = 0;\n",
        "    cin >> m;\n",
        "    int n = 0;\n",
        "    cin >> n;\n",
        "\n",
        "    vector<int> stops(n+1);\n",
        "    for (size_t i = 0; i < n; ++i)\n",
        "        cin >> stops.at(i);\n",
        "    stops[stops.size()-1] = d;\n",
        "    //cout<<stops[stops.size()-1];\n",
        "    cout << compute_min_refills(d, m, stops) << \"\\n\";\n",
        "\n",
        "    return 0;\n",
        "}\n",
        "\n"
      ]
    },
    {
      "cell_type": "code",
      "execution_count": null,
      "metadata": {
        "colab": {
          "base_uri": "https://localhost:8080/"
        },
        "id": "zvZiT7I5NsnY",
        "outputId": "a0b9b4e3-9bd2-4183-f86d-ea1ec1f458d6"
      },
      "outputs": [
        {
          "name": "stdout",
          "output_type": "stream",
          "text": [
            "950 400 4 200 375 550 750\n",
            "2\n"
          ]
        }
      ],
      "source": [
        "!g++ punto3.cpp -o executable\n",
        "!./executable"
      ]
    },
    {
      "cell_type": "markdown",
      "metadata": {
        "id": "tO-y14TmPkZU"
      },
      "source": [
        "## Maximum Advertisement Revenue"
      ]
    },
    {
      "cell_type": "code",
      "execution_count": null,
      "metadata": {
        "colab": {
          "base_uri": "https://localhost:8080/"
        },
        "id": "NXx4F88sM-f2",
        "outputId": "da48d110-6f99-47bd-86a2-b23027e7e8e3"
      },
      "outputs": [
        {
          "name": "stdout",
          "output_type": "stream",
          "text": [
            "Writing punto4.cpp\n"
          ]
        }
      ],
      "source": [
        "%%writefile punto4.cpp\n",
        "\n",
        "#include <algorithm>\n",
        "#include <iostream>\n",
        "#include <vector>\n",
        "\n",
        "using std::vector;\n",
        "int max(vector<long> vector){\n",
        "  int max = 1000000;\n",
        "  int index = 1000000;\n",
        "  for(int i = 0; i<vector.size(); i++){\n",
        "    if(vector[i] < max){ \n",
        "      max = vector[i];\n",
        "      index = i;\n",
        "      //std::cout<<\"Max en: \"<< i<<std::endl;\n",
        "    }\n",
        "  }\n",
        "  return index;\n",
        "}\n",
        "long long max_dot_product(vector<long> a, vector<long> b) {\n",
        "  // write your code here\n",
        "  long long sumProducts = 0;\n",
        "  for (size_t i = 0; i < a.size(); i++) {\n",
        "    int maxa = max(a);\n",
        "    int maxb = max(b);\n",
        "    sumProducts += a[maxa]*b[maxb];\n",
        "    //std::cout<<sumProducts<<std::endl;\n",
        "    a[maxa] =  1000000;\n",
        "    b[maxb] =  1000000;\n",
        "  }\n",
        "  return sumProducts;\n",
        "}\n",
        "\n",
        "int main() {\n",
        "  size_t n;\n",
        "  std::cin >> n;\n",
        "  vector<long> a(n), b(n);\n",
        "  for (size_t i = 0; i < n; i++) {\n",
        "    std::cin >> a[i];\n",
        "  }\n",
        "  for (size_t i = 0; i < n; i++) {\n",
        "    std::cin >> b[i];\n",
        "  }\n",
        "  std::cout << max_dot_product(a, b) << std::endl;\n",
        "}\n",
        "\n"
      ]
    },
    {
      "cell_type": "code",
      "execution_count": null,
      "metadata": {
        "colab": {
          "base_uri": "https://localhost:8080/"
        },
        "id": "D2tiUehZNt-j",
        "outputId": "51f29c38-c4ef-4caf-cc2c-28495c9d3378"
      },
      "outputs": [
        {
          "name": "stdout",
          "output_type": "stream",
          "text": [
            " 1 23 39\n",
            "897\n"
          ]
        }
      ],
      "source": [
        "!g++ punto4.cpp -o executable\n",
        "!./executable"
      ]
    },
    {
      "cell_type": "markdown",
      "metadata": {
        "id": "uCTLL0k8Pu-E"
      },
      "source": [
        "##Collecting Signatures##"
      ]
    },
    {
      "cell_type": "code",
      "execution_count": null,
      "metadata": {
        "colab": {
          "base_uri": "https://localhost:8080/"
        },
        "id": "UNQvt7erNLSz",
        "outputId": "aa9c2069-5fb8-4265-852a-bcbc5fc18c12"
      },
      "outputs": [
        {
          "name": "stdout",
          "output_type": "stream",
          "text": [
            "Writing punto5.cpp\n"
          ]
        }
      ],
      "source": [
        "%%writefile punto5.cpp\n",
        "#include <algorithm>\n",
        "#include <iostream>\n",
        "#include <climits>\n",
        "#include <vector>\n",
        "\n",
        "using std::vector;\n",
        "\n",
        "struct Segment {\n",
        "  int start, end;\n",
        "};\n",
        "\n",
        "vector<int> optimal_points(vector<Segment> &segments) {\n",
        "  vector<int> points;\n",
        "  //write your code here\n",
        "  for (size_t i = 0; i < segments.size(); ) {\n",
        "      points.push_back(segments[i].end);\n",
        "      int point = segments[i].end;\n",
        "      segments.erase(segments.begin()+i);\n",
        "      int j = i;\n",
        "      while(j < segments.size()){\n",
        "        if(point >= segments[j].start){\n",
        "          segments.erase(segments.begin()+j);\n",
        "        }\n",
        "        else{\n",
        "          j++;\n",
        "        }\n",
        "      }\n",
        "  }\n",
        "  return points;\n",
        "}\n",
        "\n",
        "int main() {\n",
        "  int n;\n",
        "  std::cin >> n;\n",
        "  vector<Segment> segments(n);\n",
        "  for (size_t i = 0; i < segments.size(); ++i) {\n",
        "    std::cin >> segments[i].start >> segments[i].end;\n",
        "  }\n",
        "  for (size_t i = 0; i < segments.size(); ++i) {\n",
        "    for (size_t j = 0; j < segments.size()-1; ++j) {\n",
        "      if(segments[j].end > segments[j+1].end){\n",
        "        Segment aux1 = segments[j];\n",
        "        segments[j] = segments[j+1];\n",
        "        segments[j+1] = aux1;\n",
        "      }\n",
        "    }\n",
        "  }\n",
        "  /*for (size_t i = 0; i < segments.size(); ++i) {\n",
        "    std::cout << segments[i].end << \" \";\n",
        "  }\n",
        "  std::cout<<\"\\n\";\n",
        "  std::cout <<segments.size() <<\"\\n\";\n",
        "  */\n",
        "  vector<int> points = optimal_points(segments);\n",
        "  std::cout << points.size() << \"\\n\";\n",
        "  for (size_t i = 0; i < points.size(); ++i) {\n",
        "    std::cout << points[i] << \" \";\n",
        "  }\n",
        "  \n",
        "}\n"
      ]
    },
    {
      "cell_type": "code",
      "execution_count": null,
      "metadata": {
        "colab": {
          "base_uri": "https://localhost:8080/"
        },
        "id": "fmQ_3xRZNvdY",
        "outputId": "770f4c11-1b77-4190-d414-918791b61bfd"
      },
      "outputs": [
        {
          "name": "stdout",
          "output_type": "stream",
          "text": [
            "3 1 3 2 5 3 6\n",
            "1\n",
            "3 "
          ]
        }
      ],
      "source": [
        "!g++ punto5.cpp -o executable\n",
        "!./executable"
      ]
    },
    {
      "cell_type": "markdown",
      "metadata": {
        "id": "usZwBUlKP2Aa"
      },
      "source": [
        "##Maximum number of prizes##"
      ]
    },
    {
      "cell_type": "code",
      "execution_count": null,
      "metadata": {
        "colab": {
          "base_uri": "https://localhost:8080/"
        },
        "id": "HbfrndwENW_-",
        "outputId": "a05a1241-fac3-4dc1-cb58-d4ded5bf381b"
      },
      "outputs": [
        {
          "name": "stdout",
          "output_type": "stream",
          "text": [
            "Writing punto6.cpp\n"
          ]
        }
      ],
      "source": [
        "%%writefile punto6.cpp\n",
        "\n",
        "#include <iostream>\n",
        "#include <vector>\n",
        "\n",
        "using std::vector;\n",
        "\n",
        "vector<int> optimal_summands(int n) {\n",
        "  vector<int> summands;\n",
        "  //write your code here\n",
        "  int prePrize = 0;\n",
        "  int prize = n;\n",
        "  while(prize > 0){\n",
        "    if(prize - prePrize - 1 <= prePrize + 1){\n",
        "      summands.push_back(prize);\n",
        "      //std:: cout<<\"Estuve aquí\"<<std::endl;\n",
        "      break;\n",
        "    }\n",
        "    prePrize = prePrize + 1;\n",
        "    prize = prize - prePrize;\n",
        "    summands.push_back(prePrize);\n",
        "  }\n",
        "  return summands;\n",
        "}\n",
        "\n",
        "int main() {\n",
        "  int n;\n",
        "  std::cin >> n;\n",
        "  vector<int> summands = optimal_summands(n);\n",
        "  std::cout << summands.size() << '\\n';\n",
        "  for (size_t i = 0; i < summands.size(); ++i) {\n",
        "    std::cout << summands[i] << ' ';\n",
        "  }\n",
        "}\n"
      ]
    },
    {
      "cell_type": "code",
      "execution_count": null,
      "metadata": {
        "colab": {
          "base_uri": "https://localhost:8080/"
        },
        "id": "fSf--lSeNw4t",
        "outputId": "c724ead2-e100-4e8b-8885-1bcc1127a7aa"
      },
      "outputs": [
        {
          "name": "stdout",
          "output_type": "stream",
          "text": [
            "8\n",
            "3\n",
            "1 2 5 "
          ]
        }
      ],
      "source": [
        "!g++ punto6.cpp -o executable\n",
        "!./executable"
      ]
    },
    {
      "cell_type": "markdown",
      "metadata": {
        "id": "OXiPRMQTP9n5"
      },
      "source": [
        "##Maximum Salary##"
      ]
    },
    {
      "cell_type": "code",
      "execution_count": null,
      "metadata": {
        "colab": {
          "base_uri": "https://localhost:8080/"
        },
        "id": "8OhjduDiNiqE",
        "outputId": "513bff5e-f44f-4d4a-fc8a-5c88d5596f5c"
      },
      "outputs": [
        {
          "name": "stdout",
          "output_type": "stream",
          "text": [
            "Writing punto7.cpp\n"
          ]
        }
      ],
      "source": [
        "%%writefile punto7.cpp\n",
        "\n",
        "#include <algorithm>\n",
        "#include <sstream>\n",
        "#include <iostream>\n",
        "#include <vector>\n",
        "#include <string>\n",
        "\n",
        "using std::vector;\n",
        "using std::string;\n",
        "\n",
        "string largest_number(vector<string> a) {\n",
        "  //write your code here\n",
        "  std::stringstream ret;\n",
        "  ret << \"\";\n",
        "  while(a.size()>0){\n",
        "    string maxInt = \"-1\";\n",
        "    int maxIndex = -1;\n",
        "    for (size_t i = 0; i < a.size(); i++) {\n",
        "      if(maxInt.at(0) == a[i].at(0)){\n",
        "        \n",
        "        std::stringstream aux1;\n",
        "        std::stringstream aux2;\n",
        "        aux1 << maxInt<<a[i];\n",
        "        aux2 << a[i]<<maxInt;\n",
        "        string aux12;\n",
        "        string aux22;\n",
        "        \n",
        "        aux1 >> aux12;\n",
        "        aux2 >> aux22;\n",
        "        if(std::stoi(aux12) < std::stoi(aux22)){\n",
        "          maxInt = a[i];\n",
        "          maxIndex = i;\n",
        "        }\n",
        "      }\n",
        "      if(maxInt.at(0)<a[i].at(0)){\n",
        "        maxInt = a[i];\n",
        "        maxIndex = i;\n",
        "        \n",
        "      }\n",
        "      \n",
        "    }\n",
        "    //std::cout<< \"Max: \"<< maxInt<<std::endl;\n",
        "    ret << maxInt;\n",
        "    a.erase(a.begin()+maxIndex);\n",
        "  }\n",
        "  \n",
        "  string result;\n",
        "  ret >> result;\n",
        "  return result;\n",
        "}\n",
        "\n",
        "int main() {\n",
        "  int n;\n",
        "  std::cin >> n;\n",
        "  vector<string> a(n);\n",
        "  for (size_t i = 0; i < a.size(); i++) {\n",
        "    std::cin >> a[i];\n",
        "  }\n",
        "  std::cout << largest_number(a);\n",
        "}\n"
      ]
    },
    {
      "cell_type": "markdown",
      "metadata": {},
      "source": []
    },
    {
      "cell_type": "code",
      "execution_count": null,
      "metadata": {
        "colab": {
          "base_uri": "https://localhost:8080/"
        },
        "id": "kgxxvsYyOAPb",
        "outputId": "7c237e86-b8df-432b-9823-568e378205a7"
      },
      "outputs": [
        {
          "name": "stdout",
          "output_type": "stream",
          "text": [
            " 2 21 2\n",
            "221"
          ]
        }
      ],
      "source": [
        "!g++ punto7.cpp -o executable\n",
        "!./executable"
      ]
    },
    {
      "cell_type": "markdown",
      "metadata": {},
      "source": [
        "# Screenshots\n",
        "\n",
        "## Tania Quijano\n",
        "\n",
        "<img src='./tania.jpeg'>\n",
        "\n",
        "## Juan Santamaria \n",
        "\n",
        "<img src='./motta.jpeg'>\n",
        "\n",
        "## Nestor Garzon\n",
        "\n",
        "<img src='./sebastian.png'>"
      ]
    }
  ],
  "metadata": {
    "colab": {
      "collapsed_sections": [],
      "name": "AlgorithmicToolboxWeek3Group13",
      "provenance": []
    },
    "kernelspec": {
      "display_name": "Python 3",
      "name": "python3"
    },
    "language_info": {
      "name": "python"
    }
  },
  "nbformat": 4,
  "nbformat_minor": 0
}
