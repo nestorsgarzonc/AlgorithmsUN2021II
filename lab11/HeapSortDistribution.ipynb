{
  "cells": [
    {
      "cell_type": "markdown",
      "metadata": {
        "id": "y904d12Y43aB"
      },
      "source": [
        "# heap_sort sort CLRS\n"
      ]
    },
    {
      "cell_type": "markdown",
      "metadata": {
        "id": "fhN5fOn8GtzR"
      },
      "source": [
        "# Experimental analysis of the heap Sort execution time\n"
      ]
    },
    {
      "cell_type": "code",
      "execution_count": 1,
      "metadata": {
        "id": "okoDn4138BuH"
      },
      "outputs": [],
      "source": [
        "def heapify(arr, n, i):\n",
        "    largest = i  # Initialize largest as root\n",
        "    l = 2 * i + 1     # left = 2*i + 1\n",
        "    r = 2 * i + 2     # right = 2*i + 2\n",
        "\n",
        "    # See if left child of root exists and is\n",
        "    # greater than root\n",
        "    if l < n and arr[largest] < arr[l]:\n",
        "        largest = l\n",
        "\n",
        "    # See if right child of root exists and is\n",
        "    # greater than root\n",
        "    if r < n and arr[largest] < arr[r]:\n",
        "        largest = r\n",
        "\n",
        "    # Change root, if needed\n",
        "    if largest != i:\n",
        "        arr[i], arr[largest] = arr[largest], arr[i]  # swap\n",
        "\n",
        "        # Heapify the root.\n",
        "        heapify(arr, n, largest)\n",
        "\n",
        "# The main function to sort an array of given size\n",
        "\n",
        "\n",
        "def heap_sort(arr):\n",
        "    n = len(arr)\n",
        "\n",
        "    # Build a maxheap.\n",
        "    for i in range(n//2 - 1, -1, -1):\n",
        "        heapify(arr, n, i)\n",
        "\n",
        "    # One by one extract elements\n",
        "    for i in range(n-1, 0, -1):\n",
        "        arr[i], arr[0] = arr[0], arr[i]  # swap\n",
        "        heapify(arr, i, 0)\n"
      ]
    },
    {
      "cell_type": "code",
      "execution_count": 2,
      "metadata": {
        "colab": {
          "base_uri": "https://localhost:8080/"
        },
        "id": "YYN7XbqayeU4",
        "outputId": "61eb3069-c8b6-43d1-bc48-5586cb0cdd24"
      },
      "outputs": [
        {
          "name": "stdout",
          "output_type": "stream",
          "text": [
            "[1, 2, 3, 4, 5, 6, 7, 8]\n",
            "[1, 2, 3, 4, 5, 6, 7, 8]\n",
            "[1, 2, 3, 4, 5, 6, 7, 8]\n"
          ]
        }
      ],
      "source": [
        "A = [1, 2, 3, 4, 5, 6, 7, 8]\n",
        "heap_sort(A)\n",
        "print(A)\n",
        "\n",
        "A = [6, 7, 2, 5, 4, 3, 8, 1]\n",
        "heap_sort(A)\n",
        "print(A)\n",
        "\n",
        "A = [8, 7, 6, 5, 4, 3, 2, 1]\n",
        "heap_sort(A)\n",
        "print(A)\n"
      ]
    },
    {
      "cell_type": "code",
      "execution_count": 3,
      "metadata": {
        "colab": {
          "base_uri": "https://localhost:8080/",
          "height": 307
        },
        "id": "3W4AVrGyXa_c",
        "outputId": "73924fc8-57bf-4201-e807-bbe8ea7cc7f9"
      },
      "outputs": [
        {
          "data": {
            "text/plain": [
              "<matplotlib.legend.Legend at 0x10b58f2e0>"
            ]
          },
          "execution_count": 3,
          "metadata": {},
          "output_type": "execute_result"
        },
        {
          "data": {
            "image/png": "[encoded data removed]",
            "text/plain": [
              "<Figure size 432x288 with 1 Axes>"
            ]
          },
          "metadata": {
            "needs_background": "light"
          },
          "output_type": "display_data"
        }
      ],
      "source": [
        "import numpy as np\n",
        "import matplotlib.pyplot as plt\n",
        "import time\n",
        "\n",
        "sizes = np.arange(1, 200, 1)\n",
        "results_heap = []\n",
        "for i in sizes:\n",
        "    list1 = list(range(i))\n",
        "    tic = time.time()\n",
        "    heap_sort(list1)\n",
        "    toc = time.time()\n",
        "    timesum = toc - tic\n",
        "    results_heap.append(timesum)\n",
        "plt.plot(sizes, results_heap, 'bx', label='heap sort')\n",
        "plt.xlabel('Array size')\n",
        "plt.ylabel('Seconds')\n",
        "plt.legend(loc='upper left')\n"
      ]
    },
    {
      "cell_type": "code",
      "execution_count": 4,
      "metadata": {
        "colab": {
          "base_uri": "https://localhost:8080/",
          "height": 297
        },
        "id": "MAEtgnhgZkAk",
        "outputId": "facf2ab2-1e88-4ce4-c253-2e074e1c9ba5"
      },
      "outputs": [
        {
          "data": {
            "text/plain": [
              "<matplotlib.legend.Legend at 0x10b51ec10>"
            ]
          },
          "execution_count": 4,
          "metadata": {},
          "output_type": "execute_result"
        },
        {
          "data": {
            "image/png": "[encoded data removed]",
            "text/plain": [
              "<Figure size 432x288 with 1 Axes>"
            ]
          },
          "metadata": {
            "needs_background": "light"
          },
          "output_type": "display_data"
        }
      ],
      "source": [
        "import numpy as np\n",
        "import matplotlib.pyplot as plt\n",
        "import time\n",
        "\n",
        "sizes = np.arange(1, 200, 1)\n",
        "results_heap = []\n",
        "for i in sizes:\n",
        "    list1 = list(range(i, 1, -1))\n",
        "    tic = time.time()\n",
        "    heap_sort(list1)\n",
        "    toc = time.time()\n",
        "    timesum = toc - tic\n",
        "    results_heap.append(timesum)\n",
        "plt.plot(sizes, results_heap, 'bx', label='heap sort')\n",
        "plt.xlabel('Array size')\n",
        "plt.ylabel('Seconds')\n",
        "plt.legend(loc='upper left')\n"
      ]
    },
    {
      "cell_type": "code",
      "execution_count": 5,
      "metadata": {
        "colab": {
          "base_uri": "https://localhost:8080/",
          "height": 297
        },
        "id": "rxXIV4TbZzHU",
        "outputId": "5364d8d1-12ea-4505-fc44-bd2ed99fab52"
      },
      "outputs": [
        {
          "data": {
            "text/plain": [
              "<matplotlib.legend.Legend at 0x10b52dbe0>"
            ]
          },
          "execution_count": 5,
          "metadata": {},
          "output_type": "execute_result"
        },
        {
          "data": {
            "image/png": "[encoded data removed]",
            "text/plain": [
              "<Figure size 432x288 with 1 Axes>"
            ]
          },
          "metadata": {
            "needs_background": "light"
          },
          "output_type": "display_data"
        }
      ],
      "source": [
        "import numpy as np\n",
        "import matplotlib.pyplot as plt\n",
        "import time\n",
        "import random as rnd\n",
        "\n",
        "sizes = np.arange(1, 200, 1)\n",
        "results_heap = []\n",
        "sizes_heap = []\n",
        "for i in sizes:\n",
        "    for j in range(20):\n",
        "        list1 = list(range(i))\n",
        "        rnd.shuffle(list1)\n",
        "        tic = time.time()\n",
        "        heap_sort(list1)\n",
        "        toc = time.time()\n",
        "        timesum = toc - tic\n",
        "        results_heap.append(timesum)\n",
        "        sizes_heap.append(i)\n",
        "plt.plot(sizes_heap, results_heap, 'bx', label='heap sort')\n",
        "plt.xlabel('Array size')\n",
        "plt.ylabel('Seconds')\n",
        "plt.legend(loc='upper left')\n"
      ]
    },
    {
      "cell_type": "code",
      "execution_count": 6,
      "metadata": {
        "colab": {
          "base_uri": "https://localhost:8080/",
          "height": 307
        },
        "id": "-YDLqtvn9F-n",
        "outputId": "736055e4-442e-426d-ef5f-ade33aa881f2"
      },
      "outputs": [
        {
          "data": {
            "text/plain": [
              "<matplotlib.legend.Legend at 0x11974f3d0>"
            ]
          },
          "execution_count": 6,
          "metadata": {},
          "output_type": "execute_result"
        },
        {
          "data": {
            "image/png": "[encoded data removed]",
            "text/plain": [
              "<Figure size 432x288 with 1 Axes>"
            ]
          },
          "metadata": {
            "needs_background": "light"
          },
          "output_type": "display_data"
        }
      ],
      "source": [
        "import numpy as np\n",
        "import matplotlib.pyplot as plt\n",
        "import time\n",
        "import random as rnd\n",
        "\n",
        "sizes = np.arange(1, 21, 1)\n",
        "results_heap = []\n",
        "sizes_heap = []\n",
        "for i in sizes:\n",
        "\n",
        "    list1 = list(range(i))\n",
        "    tic = time.time()\n",
        "    heap_sort(list1)\n",
        "    toc = time.time()\n",
        "    timesum = toc - tic\n",
        "    results_heap.append(timesum)\n",
        "    sizes_heap.append(i)\n",
        "\n",
        "    list1 = list(range(i, 1, -1))\n",
        "    tic = time.time()\n",
        "    heap_sort(list1)\n",
        "    toc = time.time()\n",
        "    timesum = toc - tic\n",
        "    results_heap.append(timesum)\n",
        "    sizes_heap.append(i)\n",
        "\n",
        "    for j in range(23):\n",
        "        list1 = list(range(i))\n",
        "        rnd.shuffle(list1)\n",
        "        tic = time.time()\n",
        "        heap_sort(list1)\n",
        "        toc = time.time()\n",
        "        timesum = toc - tic\n",
        "        results_heap.append(timesum)\n",
        "        sizes_heap.append(i)\n",
        "\n",
        "plt.plot(sizes_heap, results_heap, 'bx', label='heap sort')\n",
        "plt.xlabel('Array size')\n",
        "plt.ylabel('Seconds')\n",
        "plt.legend(loc='upper left')\n"
      ]
    },
    {
      "cell_type": "code",
      "execution_count": 7,
      "metadata": {
        "colab": {
          "base_uri": "https://localhost:8080/",
          "height": 296
        },
        "id": "3CMJ1Uh0brT0",
        "outputId": "9bf8fe9c-bc0a-43ea-dd68-61f1211a5790"
      },
      "outputs": [
        {
          "data": {
            "text/plain": [
              "<matplotlib.legend.Legend at 0x119787d90>"
            ]
          },
          "execution_count": 7,
          "metadata": {},
          "output_type": "execute_result"
        },
        {
          "data": {
            "image/png": "[encoded data removed]",
            "text/plain": [
              "<Figure size 432x288 with 1 Axes>"
            ]
          },
          "metadata": {
            "needs_background": "light"
          },
          "output_type": "display_data"
        }
      ],
      "source": [
        "import numpy as np\n",
        "import matplotlib.pyplot as plt\n",
        "import time\n",
        "import random as rnd\n",
        "\n",
        "sizes = np.arange(1, 200, 1)\n",
        "results_heap = []\n",
        "sizes_heap = []\n",
        "for i in sizes:\n",
        "\n",
        "    list1 = list(range(i))\n",
        "    tic = time.time()\n",
        "    heap_sort(list1)\n",
        "    toc = time.time()\n",
        "    timesum = toc - tic\n",
        "    results_heap.append(timesum)\n",
        "    sizes_heap.append(i)\n",
        "\n",
        "    list1 = list(range(i, 1, -1))\n",
        "    tic = time.time()\n",
        "    heap_sort(list1)\n",
        "    toc = time.time()\n",
        "    timesum = toc - tic\n",
        "    results_heap.append(timesum)\n",
        "    sizes_heap.append(i)\n",
        "\n",
        "    for j in range(20):\n",
        "        list1 = list(range(i))\n",
        "        rnd.shuffle(list1)\n",
        "        tic = time.time()\n",
        "        heap_sort(list1)\n",
        "        toc = time.time()\n",
        "        timesum = toc - tic\n",
        "        results_heap.append(timesum)\n",
        "        sizes_heap.append(i)\n",
        "\n",
        "plt.plot(sizes_heap, results_heap, 'bx', label='heap sort')\n",
        "plt.xlabel('Array size')\n",
        "plt.ylabel('Seconds')\n",
        "plt.legend(loc='upper left')\n"
      ]
    },
    {
      "cell_type": "markdown",
      "metadata": {
        "id": "oI9mVQ6O5s16"
      },
      "source": [
        "# heap sort time complexity histograms for permutations of $n$ different elements counting steps like CLRS I.2.1\n",
        "\n",
        "$$t (n) =  2n - 1  + 3 \\sum_{j=2,..,n} t_j $$\n",
        "\n",
        "## Best case - increasingly sorted array\n",
        "\n",
        "$$t_b(n) =  5n - 4 = \\Theta(n)$$\n",
        "\n",
        "## Worst case - de creasingly sorted array\n",
        "\n",
        "$$t_w(n) = \\frac{3}{2} n^2 + \\frac{7}{2} n  - 4 = \\Theta(n^2)$$\n",
        "\n",
        "## Average case - expected number of comparisons + swaps on random unifrom permutation of $n$ different elements\n",
        "\n",
        "$$t_a(n) = \\frac{3}{4} n^2 + \\frac{17}{4} n  - 4  = \\Theta(n^2)$$\n"
      ]
    },
    {
      "cell_type": "code",
      "execution_count": 8,
      "metadata": {
        "colab": {
          "base_uri": "https://localhost:8080/",
          "height": 297
        },
        "id": "scmCThyk2myO",
        "outputId": "5432fec5-e44d-4346-95bd-a003fdfa88ee"
      },
      "outputs": [
        {
          "data": {
            "text/plain": [
              "<matplotlib.legend.Legend at 0x11990dbb0>"
            ]
          },
          "execution_count": 8,
          "metadata": {},
          "output_type": "execute_result"
        },
        {
          "data": {
            "image/png": "[encoded data removed]",
            "text/plain": [
              "<Figure size 432x288 with 1 Axes>"
            ]
          },
          "metadata": {
            "needs_background": "light"
          },
          "output_type": "display_data"
        }
      ],
      "source": [
        "import matplotlib.pyplot as plt\n",
        "import numpy as np\n",
        "\n",
        "n = np.arange(1, 21, 1)\n",
        "\n",
        "plt.plot(n, 5*n-4,  label='heap sort best time $5n-4$')\n",
        "plt.plot(n, 3/4*n**2+17/4*n-4,\n",
        "         label='heap average time $3/4 n*^2+17/4 n - 4$')\n",
        "plt.plot(n, 3/2*n**2+7/2*n-4, label='heap average time $3/2 n*^2+7/2 n - 4$')\n",
        "plt.xlabel('Array size')\n",
        "plt.ylabel('Steps')\n",
        "plt.legend(loc='upper left')\n"
      ]
    },
    {
      "cell_type": "code",
      "execution_count": 9,
      "metadata": {
        "id": "9jtIbWEuICvE"
      },
      "outputs": [],
      "source": [
        "def heapify_steps(arr, n, i, steps):\n",
        "    largest = i  # Initialize largest as root\n",
        "    l = 2 * i + 1     # left = 2*i + 1\n",
        "    r = 2 * i + 2     # right = 2*i + 2\n",
        "    steps += 3\n",
        "    # See if left child of root exists and is\n",
        "    # greater than root\n",
        "    if l < n and arr[largest] < arr[l]:\n",
        "        largest = l\n",
        "        steps += 1\n",
        "    steps += 1\n",
        "\n",
        "    # See if right child of root exists and is\n",
        "    # greater than root\n",
        "    if r < n and arr[largest] < arr[r]:\n",
        "        largest = r\n",
        "        steps += 1\n",
        "    steps += 1\n",
        "    # Change root, if needed\n",
        "    if largest != i:\n",
        "        arr[i], arr[largest] = arr[largest], arr[i]  # swap\n",
        "        steps += 1\n",
        "        # Heapify the root.\n",
        "        steps+=heapify_steps(arr, n, largest, steps)\n",
        "    steps += 1\n",
        "    return steps\n",
        "\n",
        "# The main function to sort an array of given size\n",
        "\n",
        "\n",
        "def heap_sort_steps(arr):\n",
        "    steps=0\n",
        "    n = len(arr) # n=[1,2,3] -> n=3\n",
        "    # Build a maxheap.\n",
        "    for i in range(n//2 - 1, -1, -1):  # [1,2,3,4,5,6]-> 1,2,(3)->1,(2),3->(1),2,3\n",
        "        steps+=heapify_steps(arr, n, i, steps)\n",
        "    steps+=1\n",
        "\n",
        "    # One by one extract elements\n",
        "    for i in range(n-1, 0, -1): \n",
        "        arr[i], arr[0] = arr[0], arr[i]  # swap \n",
        "        # [1,2,3]\n",
        "        # 1,2,(3)->3,2,1\n",
        "        # 3,(2),1-> 3,2,1\n",
        "        steps+=heapify_steps(arr, i, 0, steps)\n",
        "    steps += 1\n",
        "    return steps\n",
        "\n"
      ]
    },
    {
      "cell_type": "code",
      "execution_count": 10,
      "metadata": {},
      "outputs": [
        {
          "name": "stdout",
          "output_type": "stream",
          "text": [
            "1639\n",
            "[1, 2, 4, 5]\n"
          ]
        }
      ],
      "source": [
        "arr=[1,4,2,5]\n",
        "steps=heap_sort_steps(arr)\n",
        "print(steps)\n",
        "print(arr)"
      ]
    },
    {
      "cell_type": "code",
      "execution_count": 11,
      "metadata": {
        "colab": {
          "base_uri": "https://localhost:8080/"
        },
        "id": "fUv1bwZszblg",
        "outputId": "db58de3f-791f-4b14-fa24-e982ad028537"
      },
      "outputs": [
        {
          "name": "stdout",
          "output_type": "stream",
          "text": [
            "5559289\n",
            "[1, 2, 3, 4, 5, 6, 7, 8]\n",
            "1045303\n",
            "[1, 2, 3, 4, 5, 6, 7, 8]\n",
            "364471\n",
            "[1, 2, 3, 4, 5, 6, 7, 8]\n"
          ]
        }
      ],
      "source": [
        "A = [1, 2, 3, 4, 5, 6, 7, 8]\n",
        "print(heap_sort_steps(A))\n",
        "print(A)\n",
        "\n",
        "A = [6, 7, 2, 5, 4, 3, 8, 1]\n",
        "print(heap_sort_steps(A))\n",
        "print(A)\n",
        "\n",
        "A = [8, 7, 6, 5, 4, 3, 2, 1]\n",
        "print(heap_sort_steps(A))\n",
        "print(A)\n"
      ]
    },
    {
      "cell_type": "code",
      "execution_count": 12,
      "metadata": {
        "colab": {
          "base_uri": "https://localhost:8080/"
        },
        "id": "bVMt0tTv6ps-",
        "outputId": "85afcc5f-b00a-4b34-b115-d796747d200a"
      },
      "outputs": [
        {
          "name": "stdout",
          "output_type": "stream",
          "text": [
            "(1, 2, 3)\n",
            "(1, 3, 2)\n",
            "(2, 1, 3)\n",
            "(2, 3, 1)\n",
            "(3, 1, 2)\n",
            "(3, 2, 1)\n"
          ]
        }
      ],
      "source": [
        "from itertools import permutations\n",
        "\n",
        "n = 3\n",
        "perm = permutations(range(1, n+1))\n",
        "\n",
        "ls = []\n",
        "# Print the obtained permutations\n",
        "for i in list(perm):\n",
        "    print(i)\n"
      ]
    },
    {
      "cell_type": "markdown",
      "metadata": {
        "id": "MfVzfDUnIJMT"
      },
      "source": [
        "Generate all permutations without repetitions of size _n_ (for small _n_), plot the \"exact\" time distribution (number of steps), and print the media and the standar deviation\n"
      ]
    },
    {
      "cell_type": "code",
      "execution_count": 13,
      "metadata": {
        "colab": {
          "base_uri": "https://localhost:8080/",
          "height": 451
        },
        "id": "6OlufEV-IJoK",
        "outputId": "accc6bf9-8144-4621-8b99-f35b9b9cd1c4"
      },
      "outputs": [
        {
          "data": {
            "image/png": "[encoded data removed]",
            "text/plain": [
              "<Figure size 432x288 with 1 Axes>"
            ]
          },
          "metadata": {
            "needs_background": "light"
          },
          "output_type": "display_data"
        },
        {
          "name": "stdout",
          "output_type": "stream",
          "text": [
            "n 3\n",
            "number of permutations n! = 6\n",
            "exp min = 47\n",
            "min formula 5*n-4 = 11\n",
            "exp max = 193\n",
            "max formula 3/2*n**2+7/2*n-4 = 20.0\n",
            "exp mean = 121.0\n",
            "mean formula 3/4*n**2+17/4*n-4 = 15.5\n",
            "stdev 50.91168824543142\n"
          ]
        }
      ],
      "source": [
        "from itertools import permutations\n",
        "import matplotlib.pyplot as plt\n",
        "import numpy as np\n",
        "import math\n",
        "\n",
        "n = 3\n",
        "X = range(n)\n",
        "times = []\n",
        "\n",
        "for P in permutations(X):\n",
        "    t = heap_sort_steps(list(P))\n",
        "    times.append(t)\n",
        "b = np.array(range(min(times)-1, max(times)+1))+0.5\n",
        "plt.hist(times, bins=b)\n",
        "plt.title(\"Heap Sort\")\n",
        "plt.xlabel(\"Steps\")\n",
        "plt.ylabel(\"Frequency\")\n",
        "plt.show()\n",
        "\n",
        "print(\"n\", n)\n",
        "print(\"number of permutations n! =\", math.factorial(n))\n",
        "print(\"exp min =\", min(times))\n",
        "print(\"min formula 5*n-4 =\", 5*n-4)\n",
        "print(\"exp max =\", max(times))\n",
        "print(\"max formula 3/2*n**2+7/2*n-4 =\", 3/2*n**2+7/2*n-4)\n",
        "print(\"exp mean =\", np.mean(times))\n",
        "print(\"mean formula 3/4*n**2+17/4*n-4 =\", 3/4*n**2+17/4*n-4)\n",
        "print(\"stdev\", np.std(times))\n"
      ]
    },
    {
      "cell_type": "code",
      "execution_count": 14,
      "metadata": {
        "colab": {
          "base_uri": "https://localhost:8080/",
          "height": 451
        },
        "id": "syZeILJdwNFD",
        "outputId": "812deaab-9b93-4f99-e04c-ae5c653b25b0"
      },
      "outputs": [
        {
          "data": {
            "image/png": "[encoded data removed]",
            "text/plain": [
              "<Figure size 432x288 with 1 Axes>"
            ]
          },
          "metadata": {
            "needs_background": "light"
          },
          "output_type": "display_data"
        },
        {
          "name": "stdout",
          "output_type": "stream",
          "text": [
            "n 4\n",
            "number of permutations n! = 24\n",
            "exp min = 331\n",
            "min formula 5*n-4 = 16\n",
            "exp max = 2491\n",
            "max formula 3/2*n**2+7/2*n-4 = 34.0\n",
            "exp mean = 1188.0\n",
            "mean formula 3/4*n**2+17/4*n-4 = 25.0\n",
            "stdev 569.4989025450357\n"
          ]
        }
      ],
      "source": [
        "from itertools import permutations\n",
        "import matplotlib.pyplot as plt\n",
        "import numpy as np\n",
        "import math\n",
        "\n",
        "n = 4\n",
        "X = range(n)\n",
        "times = []\n",
        "\n",
        "for P in permutations(X):\n",
        "    t = heap_sort_steps(list(P))\n",
        "    times.append(t)\n",
        "\n",
        "b = np.array(range(min(times)-1, max(times)+1))+0.5\n",
        "plt.hist(times, bins=b)\n",
        "plt.title(\"Heap Sort\")\n",
        "plt.xlabel(\"Steps\")\n",
        "plt.ylabel(\"Frequency\")\n",
        "plt.show()\n",
        "\n",
        "print(\"n\", n)\n",
        "print(\"number of permutations n! =\", math.factorial(n))\n",
        "print(\"exp min =\", min(times))\n",
        "print(\"min formula 5*n-4 =\", 5*n-4)\n",
        "print(\"exp max =\", max(times))\n",
        "print(\"max formula 3/2*n**2+7/2*n-4 =\", 3/2*n**2+7/2*n-4)\n",
        "print(\"exp mean =\", np.mean(times))\n",
        "print(\"mean formula 3/4*n**2+17/4*n-4 =\", 3/4*n**2+17/4*n-4)\n",
        "print(\"stdev\", np.std(times))\n"
      ]
    },
    {
      "cell_type": "code",
      "execution_count": 15,
      "metadata": {
        "colab": {
          "base_uri": "https://localhost:8080/",
          "height": 451
        },
        "id": "I-5RT7J6wQ54",
        "outputId": "0d8ca1cc-8adc-4585-c721-a8de7b69d433"
      },
      "outputs": [
        {
          "data": {
            "image/png": "[encoded data removed]",
            "text/plain": [
              "<Figure size 432x288 with 1 Axes>"
            ]
          },
          "metadata": {
            "needs_background": "light"
          },
          "output_type": "display_data"
        },
        {
          "name": "stdout",
          "output_type": "stream",
          "text": [
            "n 5\n",
            "number of permutations n! = 120\n",
            "exp min = 1039\n",
            "min formula 5*n-4 = 21\n",
            "exp max = 10753\n",
            "max formula 3/2*n**2+7/2*n-4 = 51.0\n",
            "exp mean = 4918.3\n",
            "mean formula 3/4*n**2+17/4*n-4 = 36.0\n",
            "stdev 2346.354046174618\n"
          ]
        }
      ],
      "source": [
        "from itertools import permutations\n",
        "import matplotlib.pyplot as plt\n",
        "import numpy as np\n",
        "import math\n",
        "\n",
        "n = 5\n",
        "X = range(n)\n",
        "times = []\n",
        "\n",
        "for P in permutations(X):\n",
        "    t = heap_sort_steps(list(P))\n",
        "    times.append(t)\n",
        "\n",
        "b = np.array(range(min(times)-1, max(times)+1))+0.5\n",
        "plt.hist(times, bins=b)\n",
        "plt.title(\"Heap Sort\")\n",
        "plt.xlabel(\"Steps\")\n",
        "plt.ylabel(\"Frequency\")\n",
        "plt.show()\n",
        "\n",
        "print(\"n\", n)\n",
        "print(\"number of permutations n! =\", math.factorial(n))\n",
        "print(\"exp min =\", min(times))\n",
        "print(\"min formula 5*n-4 =\", 5*n-4)\n",
        "print(\"exp max =\", max(times))\n",
        "print(\"max formula 3/2*n**2+7/2*n-4 =\", 3/2*n**2+7/2*n-4)\n",
        "print(\"exp mean =\", np.mean(times))\n",
        "print(\"mean formula 3/4*n**2+17/4*n-4 =\", 3/4*n**2+17/4*n-4)\n",
        "print(\"stdev\", np.std(times))\n"
      ]
    },
    {
      "cell_type": "code",
      "execution_count": 16,
      "metadata": {
        "colab": {
          "base_uri": "https://localhost:8080/",
          "height": 451
        },
        "id": "yXlJ8bscwT3_",
        "outputId": "61e2dcf8-eee9-4fb8-d25d-2d9616fb4c07"
      },
      "outputs": [
        {
          "data": {
            "image/png": "[encoded data removed]",
            "text/plain": [
              "<Figure size 432x288 with 1 Axes>"
            ]
          },
          "metadata": {
            "needs_background": "light"
          },
          "output_type": "display_data"
        },
        {
          "name": "stdout",
          "output_type": "stream",
          "text": [
            "n 6\n",
            "number of permutations n! = 720\n",
            "exp min = 5779\n",
            "min formula 5*n-4 = 26\n",
            "exp max = 116665\n",
            "max formula 3/2*n**2+7/2*n-4 = 71.0\n",
            "exp mean = 39471.21666666667\n",
            "mean formula 3/4*n**2+17/4*n-4 = 48.5\n",
            "stdev 21940.47570556274\n"
          ]
        }
      ],
      "source": [
        "from itertools import permutations\n",
        "import matplotlib.pyplot as plt\n",
        "import numpy as np\n",
        "import math\n",
        "\n",
        "n = 6\n",
        "X = range(n)\n",
        "times = []\n",
        "\n",
        "for P in permutations(X):\n",
        "    t = heap_sort_steps(list(P))\n",
        "    times.append(t)\n",
        "\n",
        "b = np.array(range(min(times)-1, max(times)+1))+0.5\n",
        "plt.hist(times, bins=b)\n",
        "plt.title(\"Heap Sort\")\n",
        "plt.xlabel(\"Steps\")\n",
        "plt.ylabel(\"Frequency\")\n",
        "plt.show()\n",
        "\n",
        "print(\"n\", n)\n",
        "print(\"number of permutations n! =\", math.factorial(n))\n",
        "print(\"exp min =\", min(times))\n",
        "print(\"min formula 5*n-4 =\", 5*n-4)\n",
        "print(\"exp max =\", max(times))\n",
        "print(\"max formula 3/2*n**2+7/2*n-4 =\", 3/2*n**2+7/2*n-4)\n",
        "print(\"exp mean =\", np.mean(times))\n",
        "print(\"mean formula 3/4*n**2+17/4*n-4 =\", 3/4*n**2+17/4*n-4)\n",
        "print(\"stdev\", np.std(times))\n"
      ]
    },
    {
      "cell_type": "code",
      "execution_count": 17,
      "metadata": {
        "colab": {
          "base_uri": "https://localhost:8080/",
          "height": 451
        },
        "id": "IZzSy0ArmQg7",
        "outputId": "81fda651-3710-4d61-873e-ee0b97440fdd"
      },
      "outputs": [
        {
          "data": {
            "image/png": "[encoded data removed]",
            "text/plain": [
              "<Figure size 432x288 with 1 Axes>"
            ]
          },
          "metadata": {
            "needs_background": "light"
          },
          "output_type": "display_data"
        },
        {
          "name": "stdout",
          "output_type": "stream",
          "text": [
            "n 7\n",
            "number of permutations n! = 5040\n",
            "exp min = 17335\n",
            "min formula 5*n-4 = 31\n",
            "exp max = 495385\n",
            "max formula 3/2*n**2+7/2*n-4 = 94.0\n",
            "exp mean = 161934.46547619047\n",
            "mean formula 3/4*n**2+17/4*n-4 = 62.5\n",
            "stdev 87879.23721525872\n"
          ]
        }
      ],
      "source": [
        "from itertools import permutations\n",
        "import matplotlib.pyplot as plt\n",
        "import numpy as np\n",
        "import math\n",
        "\n",
        "n = 7\n",
        "X = range(n)\n",
        "times = []\n",
        "\n",
        "for P in permutations(X):\n",
        "    t = heap_sort_steps(list(P))\n",
        "    times.append(t)\n",
        "\n",
        "b = np.array(range(min(times)-1, max(times)+1))+0.5\n",
        "plt.hist(times, bins=b)\n",
        "plt.title(\"Heap Sort\")\n",
        "plt.xlabel(\"Steps\")\n",
        "plt.ylabel(\"Frequency\")\n",
        "plt.show()\n",
        "\n",
        "print(\"n\", n)\n",
        "print(\"number of permutations n! =\", math.factorial(n))\n",
        "print(\"exp min =\", min(times))\n",
        "print(\"min formula 5*n-4 =\", 5*n-4)\n",
        "print(\"exp max =\", max(times))\n",
        "print(\"max formula 3/2*n**2+7/2*n-4 =\", 3/2*n**2+7/2*n-4)\n",
        "print(\"exp mean =\", np.mean(times))\n",
        "print(\"mean formula 3/4*n**2+17/4*n-4 =\", 3/4*n**2+17/4*n-4)\n",
        "print(\"stdev\", np.std(times))\n"
      ]
    },
    {
      "cell_type": "code",
      "execution_count": 18,
      "metadata": {
        "colab": {
          "base_uri": "https://localhost:8080/",
          "height": 451
        },
        "id": "IXzjXmURmSbU",
        "outputId": "9c02716c-0794-463b-cc6e-7752a656357e"
      },
      "outputs": [
        {
          "data": {
            "image/png": "[encoded data removed]",
            "text/plain": [
              "<Figure size 432x288 with 1 Axes>"
            ]
          },
          "metadata": {
            "needs_background": "light"
          },
          "output_type": "display_data"
        },
        {
          "name": "stdout",
          "output_type": "stream",
          "text": [
            "n 3\n",
            "number of permutations n! = 6\n",
            "exp min = 47\n",
            "min formula 5*n-4 = 11\n",
            "exp max = 193\n",
            "max formula 3/2*n**2+7/2*n-4 = 20.0\n",
            "exp mean = 121.0\n",
            "mean formula 3/4*n**2+17/4*n-4 = 15.5\n",
            "stdev 50.91168824543142\n"
          ]
        }
      ],
      "source": [
        "from itertools import permutations\n",
        "import matplotlib.pyplot as plt\n",
        "import numpy as np\n",
        "import math\n",
        "\n",
        "n = 3\n",
        "X = range(n)\n",
        "times = []\n",
        "\n",
        "for P in permutations(X):\n",
        "    t = heap_sort_steps(list(P))\n",
        "    times.append(t)\n",
        "\n",
        "b = np.array(range(min(times)-1, max(times)+1))+0.5\n",
        "plt.hist(times, bins=b)\n",
        "plt.title(\"Heap Sort\")\n",
        "plt.xlabel(\"Steps\")\n",
        "plt.ylabel(\"Frequency\")\n",
        "plt.show()\n",
        "\n",
        "print(\"n\", n)\n",
        "print(\"number of permutations n! =\", math.factorial(n))\n",
        "print(\"exp min =\", min(times))\n",
        "print(\"min formula 5*n-4 =\", 5*n-4)\n",
        "print(\"exp max =\", max(times))\n",
        "print(\"max formula 3/2*n**2+7/2*n-4 =\", 3/2*n**2+7/2*n-4)\n",
        "print(\"exp mean =\", np.mean(times))\n",
        "print(\"mean formula 3/4*n**2+17/4*n-4 =\", 3/4*n**2+17/4*n-4)\n",
        "print(\"stdev\", np.std(times))\n"
      ]
    },
    {
      "cell_type": "code",
      "execution_count": 19,
      "metadata": {
        "colab": {
          "base_uri": "https://localhost:8080/",
          "height": 451
        },
        "id": "xXBBldkSmUSK",
        "outputId": "43089871-b820-4c15-8248-4be08d0bc77f"
      },
      "outputs": [],
      "source": [
        "from itertools import permutations\n",
        "import matplotlib.pyplot as plt\n",
        "import numpy as np\n",
        "import math\n",
        "\n",
        "n = 9\n",
        "X = range(n)\n",
        "times = []\n",
        "\n",
        "for P in permutations(X):\n",
        "    t = heap_sort_steps(list(P))\n",
        "    times.append(t)\n",
        "\n",
        "b = np.array(range(min(times)-1, max(times)+1))+0.5\n",
        "plt.hist(times, bins=b)\n",
        "plt.title(\"Heap Sort\")\n",
        "plt.xlabel(\"Steps\")\n",
        "plt.ylabel(\"Frequency\")\n",
        "plt.show()\n",
        "\n",
        "print(\"n\", n)\n",
        "print(\"number of permutations n! =\", math.factorial(n))\n",
        "print(\"exp min =\", min(times))\n",
        "print(\"min formula 5*n-4 =\", 5*n-4)\n",
        "print(\"exp max =\", max(times))\n",
        "print(\"max formula 3/2*n**2+7/2*n-4 =\", 3/2*n**2+7/2*n-4)\n",
        "print(\"exp mean =\", np.mean(times))\n",
        "print(\"mean formula 3/4*n**2+17/4*n-4 =\", 3/4*n**2+17/4*n-4)\n",
        "print(\"stdev\", np.std(times))\n"
      ]
    },
    {
      "cell_type": "code",
      "execution_count": null,
      "metadata": {
        "colab": {
          "base_uri": "https://localhost:8080/",
          "height": 451
        },
        "id": "RaMDOzJ_mVtb",
        "outputId": "f7a0285a-65e3-468c-a657-55e691f137ec"
      },
      "outputs": [],
      "source": [
        "from itertools import permutations\n",
        "import matplotlib.pyplot as plt\n",
        "import numpy as np\n",
        "import math\n",
        "\n",
        "n = 10\n",
        "X = range(n)\n",
        "times = []\n",
        "\n",
        "for P in permutations(X):\n",
        "    t = heap_sort_steps(list(P))\n",
        "    times.append(t)\n",
        "\n",
        "b = np.array(range(min(times)-1, max(times)+1))+0.5\n",
        "plt.hist(times, bins=b)\n",
        "plt.title(\"Heap Sort\")\n",
        "plt.xlabel(\"Steps\")\n",
        "plt.ylabel(\"Frequency\")\n",
        "plt.show()\n",
        "\n",
        "print(\"n\", n)\n",
        "print(\"number of permutations n! =\", math.factorial(n))\n",
        "print(\"exp min =\", min(times))\n",
        "print(\"min formula 5*n-4 =\", 5*n-4)\n",
        "print(\"exp max =\", max(times))\n",
        "print(\"max formula 3/2*n**2+7/2*n-4 =\", 3/2*n**2+7/2*n-4)\n",
        "print(\"exp mean =\", np.mean(times))\n",
        "print(\"mean formula 3/4*n**2+17/4*n-4 =\", 3/4*n**2+17/4*n-4)\n",
        "print(\"stdev\", np.std(times))\n"
      ]
    },
    {
      "cell_type": "code",
      "execution_count": null,
      "metadata": {
        "colab": {
          "base_uri": "https://localhost:8080/",
          "height": 451
        },
        "id": "a_k-rk43mdOb",
        "outputId": "4f11234f-a694-4830-bad7-84a497b62d4a"
      },
      "outputs": [],
      "source": [
        "from itertools import permutations\n",
        "import matplotlib.pyplot as plt\n",
        "import numpy as np\n",
        "import math\n",
        "\n",
        "n = 11\n",
        "X = range(n)\n",
        "times = []\n",
        "\n",
        "for P in permutations(X):\n",
        "    t = heap_sort_steps(list(P))\n",
        "    times.append(t)\n",
        "\n",
        "b = np.array(range(min(times)-1, max(times)+1))+0.5\n",
        "plt.hist(times, bins=b)\n",
        "plt.title(\"Heap Sort\")\n",
        "plt.xlabel(\"Steps\")\n",
        "plt.ylabel(\"Frequency\")\n",
        "plt.show()\n",
        "\n",
        "print(\"n\", n)\n",
        "print(\"number of permutations n! =\", math.factorial(n))\n",
        "print(\"exp min =\", min(times))\n",
        "print(\"min formula 5*n-4 =\", 5*n-4)\n",
        "print(\"exp max =\", max(times))\n",
        "print(\"max formula 3/2*n**2+7/2*n-4 =\", 3/2*n**2+7/2*n-4)\n",
        "print(\"exp mean =\", np.mean(times))\n",
        "print(\"mean formula 3/4*n**2+17/4*n-4 =\", 3/4*n**2+17/4*n-4)\n",
        "print(\"stdev\", np.std(times))\n"
      ]
    },
    {
      "cell_type": "code",
      "execution_count": null,
      "metadata": {
        "colab": {
          "base_uri": "https://localhost:8080/",
          "height": 248
        },
        "id": "0Atsk5f7hDbJ",
        "outputId": "d58479d6-361b-43bf-90d1-cb1864bf77bb"
      },
      "outputs": [],
      "source": [
        "# https://towardsdatascience.com/an-easy-introduction-to-3d-plotting-with-matplotlib-801561999725\n",
        "\n",
        "import numpy as np\n",
        "import matplotlib.pyplot as plt\n",
        "from mpl_toolkits import mplot3d\n",
        "\n",
        "fig = plt.figure()\n",
        "ax = plt.axes(projection=\"3d\")\n",
        "\n",
        "plt.show()\n"
      ]
    },
    {
      "cell_type": "code",
      "execution_count": null,
      "metadata": {
        "colab": {
          "base_uri": "https://localhost:8080/",
          "height": 248
        },
        "id": "n2BQLgVahOMK",
        "outputId": "838a884f-b210-46fa-b451-eaa7e95e8263"
      },
      "outputs": [],
      "source": [
        "# https://stackoverflow.com/questions/24736758/parameters-required-by-bar3d-with-python\n",
        "\n",
        "import numpy as np\n",
        "import matplotlib.pyplot as plt\n",
        "from mpl_toolkits.mplot3d import Axes3D\n",
        "\n",
        "fig = plt.figure()\n",
        "ax = plt.axes(projection=\"3d\")\n",
        "\n",
        "x = [1, 2, 3, 10]  # x coordinates of each bar\n",
        "y = [0, 0, 0, 10]  # y coordinates of each bar\n",
        "z = [0, 0, 0, 0]  # z coordinates of each bar\n",
        "dx = [0.5, 0.5, 0.5, 0.5]  # Width of each bar\n",
        "dy = [0.5, 0.5, 0.5, 0.5]  # Depth of each bar\n",
        "dz = [5, 4, 7, 3]        # Height of each bar\n",
        "\n",
        "ax.bar3d(x, y, z, dx, dy, dz, color='b', zsort='average')\n",
        "plt.show()\n"
      ]
    },
    {
      "cell_type": "code",
      "execution_count": null,
      "metadata": {
        "colab": {
          "base_uri": "https://localhost:8080/",
          "height": 285
        },
        "id": "FkOMRk7RlTqQ",
        "outputId": "425e3d1f-862e-410d-8d90-921901bffdcc"
      },
      "outputs": [],
      "source": [
        "# https://towardsdatascience.com/an-easy-introduction-to-3d-plotting-with-matplotlib-801561999725\n",
        "from itertools import permutations\n",
        "import numpy as np\n",
        "import matplotlib.pyplot as plt\n",
        "from mpl_toolkits.mplot3d import Axes3D\n",
        "import random\n",
        "\n",
        "fig = plt.figure()\n",
        "ax = plt.axes(projection=\"3d\")\n",
        "\n",
        "N = 10\n",
        "\n",
        "x = []\n",
        "y = []\n",
        "z = []\n",
        "dx = []\n",
        "dy = []\n",
        "dz = []\n",
        "\n",
        "for n in np.arange(3, N+1, 1):\n",
        "    A = range(n)\n",
        "    times = []\n",
        "\n",
        "    for P in permutations(A):\n",
        "        t = heap_sort_steps(list(P))\n",
        "        times.append(t)\n",
        "\n",
        "    b = np.array(range(min(times)-1, max(times)+1))+0.5\n",
        "    H = np.array(np.histogram(times, b))\n",
        "    H[0] = H[0]/np.sum(H[0])\n",
        "    for i in range(len(H[0])):\n",
        "        x.append(n)\n",
        "        y.append(H[1][i])\n",
        "        z.append(0)\n",
        "        dx.append(0.1)\n",
        "        dy.append(0.1)\n",
        "        dz.append(H[0][i])\n",
        "\n",
        "ax.bar3d(x, y, z, dx, dy, dz, color='aqua', zsort='average')\n",
        "plt.show()\n"
      ]
    },
    {
      "cell_type": "code",
      "execution_count": null,
      "metadata": {
        "colab": {
          "base_uri": "https://localhost:8080/",
          "height": 285
        },
        "id": "maZmHz6FWsJ7",
        "outputId": "e3de2b7e-f984-43d6-ff6d-018b2edef3fb"
      },
      "outputs": [],
      "source": [
        "# https://towardsdatascience.com/an-easy-introduction-to-3d-plotting-with-matplotlib-801561999725\n",
        "from itertools import permutations\n",
        "import numpy as np\n",
        "import matplotlib.pyplot as plt\n",
        "from mpl_toolkits.mplot3d import Axes3D\n",
        "import random\n",
        "\n",
        "fig = plt.figure()\n",
        "ax = plt.axes(projection=\"3d\")\n",
        "\n",
        "N = 10\n",
        "\n",
        "x = []\n",
        "y = []\n",
        "z = []\n",
        "dx = []\n",
        "dy = []\n",
        "dz = []\n",
        "\n",
        "for n in np.arange(3, N+1, 1):\n",
        "    A = range(n)\n",
        "    times = []\n",
        "\n",
        "    for P in permutations(A):\n",
        "        t = heap_sort_steps(list(P))\n",
        "        times.append(t)\n",
        "\n",
        "    b = np.array(range(min(times)-1, max(times)+1))+0.5\n",
        "    H = np.array(np.histogram(times, b))\n",
        "    H[0] = H[0]/np.sum(H[0])\n",
        "    for i in range(len(H[0])):\n",
        "        x.append(n)\n",
        "        y.append(H[1][i])\n",
        "        z.append(0)\n",
        "        dx.append(0.1)\n",
        "        dy.append(0.1)\n",
        "        dz.append(H[0][i])\n",
        "\n",
        "ax.view_init(30, 10)\n",
        "ax.bar3d(x, y, z, dx, dy, dz, color='aqua', zsort='average')\n",
        "plt.show()\n"
      ]
    },
    {
      "cell_type": "code",
      "execution_count": null,
      "metadata": {
        "colab": {
          "base_uri": "https://localhost:8080/",
          "height": 297
        },
        "id": "xGglfsdU29d7",
        "outputId": "3418ca1a-e61a-4e89-d494-e0e50bb1257f"
      },
      "outputs": [],
      "source": [
        "import matplotlib.pyplot as plt\n",
        "import numpy as np\n",
        "\n",
        "n = np.arange(1, 21, 1)\n",
        "\n",
        "plt.plot(n, 5*n-4,  label='heap sort best time $5n-4$', color='aqua')\n",
        "plt.plot(n, 3/4*n**2+17/4*n-4,\n",
        "         label='heap sortaverage time $3/4 n*^2+17/4 n - 4$', color='royalblue')\n",
        "plt.plot(n, 3/2*n**2+7/2*n-4,\n",
        "         label='heap sort worst time $3/2 n*^2+7/2 n - 4$', color='blue')\n",
        "plt.xlabel('Array size')\n",
        "plt.ylabel('Steps')\n",
        "plt.legend(loc='upper left')\n"
      ]
    },
    {
      "cell_type": "markdown",
      "metadata": {
        "id": "j-so_gwTISPr"
      },
      "source": [
        "# Sample of runs (montecarlo)\n",
        "\n",
        "Generate a sample of _runs=1000,10000_ random permutations of size _n=3,4,30,100_ (for large _n_), plot the \"approximated o estimated\" time distribution (number of steps), and print the media and the standar deviation.\n"
      ]
    },
    {
      "cell_type": "code",
      "execution_count": null,
      "metadata": {
        "colab": {
          "base_uri": "https://localhost:8080/",
          "height": 451
        },
        "id": "qnVa_8aLIVMD",
        "outputId": "22de2004-28ac-4ac6-cd8a-54e97801e455"
      },
      "outputs": [],
      "source": [
        "import matplotlib.pyplot as plt\n",
        "import numpy as np\n",
        "\n",
        "n = 3\n",
        "runs = 1000\n",
        "times = []\n",
        "for r in range(1, runs+1):\n",
        "    P = np.random.permutation(n)\n",
        "    t = heap_sort_steps(P)\n",
        "    times.append(t)\n",
        "\n",
        "b = np.array(range(min(times)-1, max(times)+1))+0.5\n",
        "plt.hist(times, bins=b)\n",
        "plt.title(\"Heap Sort\")\n",
        "plt.xlabel(\"Steps\")\n",
        "plt.ylabel(\"Frequency\")\n",
        "plt.show()\n",
        "\n",
        "print(\"n\", n)\n",
        "print(\"runs\", runs)\n",
        "print(\"min\", min(times))\n",
        "print(\"min formula ,5*n-4 =\", 5*n-4)\n",
        "print(\"max\", max(times))\n",
        "print(\"max formula 3/2*n**2+7/2*n-4 =\", 3/2*n**2+7/2*n-4)\n",
        "print(\"mean\", np.mean(times))\n",
        "print(\"mean formula 3/4*n**2+17/4*n-4 = \", 3/4*n**2+17/4*n-4)\n",
        "print(\"stdev\", np.std(times))\n"
      ]
    },
    {
      "cell_type": "code",
      "execution_count": null,
      "metadata": {
        "colab": {
          "base_uri": "https://localhost:8080/",
          "height": 451
        },
        "id": "TGXIVcQTxgh6",
        "outputId": "42db048d-2868-49b1-bda1-631e443b8051"
      },
      "outputs": [],
      "source": [
        "import matplotlib.pyplot as plt\n",
        "import numpy as np\n",
        "\n",
        "n = 4\n",
        "runs = 10000\n",
        "times = []\n",
        "for r in range(1, runs+1):\n",
        "    P = np.random.permutation(n)\n",
        "    t = heap_sort_steps(P)\n",
        "    times.append(t)\n",
        "\n",
        "b = np.array(range(min(times)-1, max(times)+1))+0.5\n",
        "plt.hist(times, bins=b)\n",
        "plt.title(\"Heap Sort\")\n",
        "plt.xlabel(\"Steps\")\n",
        "plt.ylabel(\"Frequency\")\n",
        "plt.show()\n",
        "\n",
        "print(\"n\", n)\n",
        "print(\"runs\", runs)\n",
        "print(\"min\", min(times))\n",
        "print(\"min formula ,5*n-4 =\", 5*n-4)\n",
        "print(\"max\", max(times))\n",
        "print(\"max formula 3/2*n**2+7/2*n-4 =\", 3/2*n**2+7/2*n-4)\n",
        "print(\"mean\", np.mean(times))\n",
        "print(\"mean formula 3/4*n**2+17/4*n-4 = \", 3/4*n**2+17/4*n-4)\n",
        "print(\"stdev\", np.std(times))\n"
      ]
    },
    {
      "cell_type": "code",
      "execution_count": null,
      "metadata": {
        "colab": {
          "base_uri": "https://localhost:8080/",
          "height": 451
        },
        "id": "gJ2_5RdTxpfE",
        "outputId": "4c4f5220-a283-4116-80f3-e18055dec357"
      },
      "outputs": [],
      "source": [
        "import matplotlib.pyplot as plt\n",
        "import numpy as np\n",
        "\n",
        "n = 30\n",
        "runs = 10000\n",
        "times = []\n",
        "for r in range(1, runs+1):\n",
        "    P = np.random.permutation(n)\n",
        "    t = heap_sort_steps(P)\n",
        "    times.append(t)\n",
        "\n",
        "b = np.array(range(min(times)-1, max(times)+1))+0.5\n",
        "plt.hist(times, bins=b)\n",
        "plt.title(\"Heap Sort\")\n",
        "plt.xlabel(\"Steps\")\n",
        "plt.ylabel(\"Frequency\")\n",
        "plt.show()\n",
        "\n",
        "print(\"n\", n)\n",
        "print(\"runs\", runs)\n",
        "print(\"min\", min(times))\n",
        "print(\"min formula ,5*n-4 =\", 5*n-4)\n",
        "print(\"max\", max(times))\n",
        "print(\"max formula 3/2*n**2+7/2*n-4 =\", 3/2*n**2+7/2*n-4)\n",
        "print(\"mean\", np.mean(times))\n",
        "print(\"mean formula 3/4*n**2+17/4*n-4 = \", 3/4*n**2+17/4*n-4)\n",
        "print(\"stdev\", np.std(times))\n"
      ]
    },
    {
      "cell_type": "code",
      "execution_count": null,
      "metadata": {
        "colab": {
          "base_uri": "https://localhost:8080/",
          "height": 451
        },
        "id": "DaKKHOES1LDB",
        "outputId": "223bc584-6f44-4439-9505-b029141ec33a"
      },
      "outputs": [],
      "source": [
        "import matplotlib.pyplot as plt\n",
        "import numpy as np\n",
        "\n",
        "n = 100\n",
        "runs = 100000\n",
        "times = []\n",
        "for r in range(1, runs+1):\n",
        "    P = np.random.permutation(n)\n",
        "    t = heap_sort_steps(P)\n",
        "    times.append(t)\n",
        "\n",
        "b = np.array(range(min(times)-1, max(times)+1))+0.5\n",
        "plt.hist(times, bins=b)\n",
        "plt.title(\"Heap Sort\")\n",
        "plt.xlabel(\"Steps\")\n",
        "plt.ylabel(\"Frequency\")\n",
        "plt.show()\n",
        "\n",
        "print(\"n\", n)\n",
        "print(\"runs\", runs)\n",
        "print(\"min\", min(times))\n",
        "print(\"min formula ,5*n-4 =\", 5*n-4)\n",
        "print(\"max\", max(times))\n",
        "print(\"max formula 3/2*n**2+7/2*n-4 =\", 3/2*n**2+7/2*n-4)\n",
        "print(\"mean\", np.mean(times))\n",
        "print(\"mean formula 3/4*n**2+17/4*n-4 = \", 3/4*n**2+17/4*n-4)\n",
        "print(\"stdev\", np.std(times))\n"
      ]
    },
    {
      "cell_type": "markdown",
      "metadata": {
        "id": "lbH_V04H8nKf"
      },
      "source": [
        "# heap sort time complexity histograms for permutations of $n$ elements with repetitions counting steps like CLRS I.2.1\n",
        "\n",
        "$$t (n) =  2n - 1  + 3 \\sum_{j=2,..,n} t_j $$\n",
        "\n",
        "## Best case - increasingly sorted array\n",
        "\n",
        "$$t_b(n) =  5n - 4$$\n",
        "\n",
        "## Worst case - de creasingly sorted array\n",
        "\n",
        "$$t_w(n) = \\frac{3}{2} n^2 + \\frac{7}{2} n  - 4$$\n",
        "\n",
        "## Average case - expected number of comparisons + swaps on random unifrom permutation of $n$ different elements\n",
        "\n",
        "$$t_a(n) = \\frac{3}{4}n^2 + \\frac{7}{2}n -\\frac{13}{4}= \\Theta(n^2)$$\n"
      ]
    },
    {
      "cell_type": "code",
      "execution_count": null,
      "metadata": {
        "colab": {
          "base_uri": "https://localhost:8080/"
        },
        "id": "YJtCAuQ-5fbv",
        "outputId": "8cac1eae-86be-4511-9a86-b13a13c1e0b8"
      },
      "outputs": [],
      "source": [
        "from itertools import product\n",
        "\n",
        "n = 3\n",
        "perm = product(range(1, n+1), repeat=n)\n",
        "\n",
        "c = 0\n",
        "for i in perm:\n",
        "    print(i)\n",
        "    c += 1\n",
        "\n",
        "print(c)\n"
      ]
    },
    {
      "cell_type": "code",
      "execution_count": null,
      "metadata": {
        "colab": {
          "base_uri": "https://localhost:8080/",
          "height": 451
        },
        "id": "-DZDCLvh9XzP",
        "outputId": "d9d991f9-dac3-4f01-f0e6-5225178e1590"
      },
      "outputs": [],
      "source": [
        "from itertools import product\n",
        "import matplotlib.pyplot as plt\n",
        "import numpy as np\n",
        "\n",
        "n = 3\n",
        "\n",
        "times = []\n",
        "for P in product(range(1, n+1), repeat=n):\n",
        "    t = heap_sort_steps(list(P))\n",
        "    times.append(t)\n",
        "\n",
        "b = np.array(range(min(times)-1, max(times)+1))+0.5\n",
        "plt.hist(times, bins=b)\n",
        "plt.title(\"Heap Sort\")\n",
        "plt.xlabel(\"Steps\")\n",
        "plt.ylabel(\"Frequency\")\n",
        "plt.show()\n",
        "\n",
        "print(\"n\", n)\n",
        "print(\"number of permutations with repetion =\", n**n)\n",
        "print(\"exp min =\", min(times))\n",
        "print(\"min formula 5*n-4 =\", 5*n-4)\n",
        "print(\"exp max =\", max(times))\n",
        "print(\"max formula 3/2*n**2+7/2*n-4 =\", 3/2*n**2+7/2*n-4)\n",
        "print(\"exp mean =\", np.mean(times))\n",
        "print(\"mean formula 3/4*n**2+17/4*n-4 =\", 3/4*n**2+17/4*n-4)\n",
        "print(\"stdev\", np.std(times))\n"
      ]
    },
    {
      "cell_type": "code",
      "execution_count": null,
      "metadata": {
        "colab": {
          "base_uri": "https://localhost:8080/",
          "height": 451
        },
        "id": "Fk02wx5c-fb-",
        "outputId": "0484eb6d-1416-4a03-ef5b-5347d7861c4f"
      },
      "outputs": [],
      "source": [
        "from itertools import product\n",
        "import matplotlib.pyplot as plt\n",
        "import numpy as np\n",
        "\n",
        "n = 4\n",
        "\n",
        "times = []\n",
        "for P in product(range(1, n+1), repeat=n):\n",
        "    t = heap_sort_steps(list(P))\n",
        "    times.append(t)\n",
        "\n",
        "b = np.array(range(min(times)-1, max(times)+1))+0.5\n",
        "plt.hist(times, bins=b)\n",
        "plt.title(\"Heap Sort\")\n",
        "plt.xlabel(\"Steps\")\n",
        "plt.ylabel(\"Frequency\")\n",
        "plt.show()\n",
        "\n",
        "print(\"n\", n)\n",
        "print(\"number of permutations with repetion =\", n**n)\n",
        "print(\"exp min =\", min(times))\n",
        "print(\"min formula 5*n-4 =\", 5*n-4)\n",
        "print(\"exp max =\", max(times))\n",
        "print(\"max formula 3/2*n**2+7/2*n-4 =\", 3/2*n**2+7/2*n-4)\n",
        "print(\"exp mean =\", np.mean(times))\n",
        "print(\"mean formula 3/4*n**2+7/2*n-13/4 =\", 3/4*n**2+7/2*n-13/4)\n",
        "print(\"stdev\", np.std(times))\n"
      ]
    },
    {
      "cell_type": "code",
      "execution_count": null,
      "metadata": {
        "colab": {
          "base_uri": "https://localhost:8080/",
          "height": 451
        },
        "id": "_X_A0sC6-h8N",
        "outputId": "19c3be22-5a78-4fc9-f05b-26f43b1cc642"
      },
      "outputs": [],
      "source": [
        "from itertools import product\n",
        "import matplotlib.pyplot as plt\n",
        "import numpy as np\n",
        "\n",
        "n = 5\n",
        "\n",
        "times = []\n",
        "for P in product(range(1, n+1), repeat=n):\n",
        "    t = heap_sort_steps(list(P))\n",
        "    times.append(t)\n",
        "\n",
        "b = np.array(range(min(times)-1, max(times)+1))+0.5\n",
        "plt.hist(times, bins=b)\n",
        "plt.title(\"Heap Sort\")\n",
        "plt.xlabel(\"Steps\")\n",
        "plt.ylabel(\"Frequency\")\n",
        "plt.show()\n",
        "\n",
        "print(\"n\", n)\n",
        "print(\"number of permutations with repetion =\", n**n)\n",
        "print(\"exp min =\", min(times))\n",
        "print(\"min formula 5*n-4 =\", 5*n-4)\n",
        "print(\"exp max =\", max(times))\n",
        "print(\"max formula 3/2*n**2+7/2*n-4 =\", 3/2*n**2+7/2*n-4)\n",
        "print(\"exp mean =\", np.mean(times))\n",
        "print(\"mean formula 3/4*n**2+7/2*n-13/4 =\", 3/4*n**2+7/2*n-13/4)\n",
        "print(\"stdev\", np.std(times))\n"
      ]
    },
    {
      "cell_type": "code",
      "execution_count": null,
      "metadata": {
        "colab": {
          "base_uri": "https://localhost:8080/",
          "height": 451
        },
        "id": "Cwygx1D4ER9O",
        "outputId": "ab21cecb-7cff-437a-ca72-52bf7f2b8e5d"
      },
      "outputs": [],
      "source": [
        "from itertools import product\n",
        "import matplotlib.pyplot as plt\n",
        "import numpy as np\n",
        "\n",
        "n = 6\n",
        "\n",
        "times = []\n",
        "for P in product(range(1, n+1), repeat=n):\n",
        "    t = heap_sort_steps(list(P))\n",
        "    times.append(t)\n",
        "\n",
        "b = np.array(range(min(times)-1, max(times)+1))+0.5\n",
        "plt.hist(times, bins=b)\n",
        "plt.title(\"Heap Sort\")\n",
        "plt.xlabel(\"Steps\")\n",
        "plt.ylabel(\"Frequency\")\n",
        "plt.show()\n",
        "\n",
        "print(\"n\", n)\n",
        "print(\"number of permutations with repetion =\", n**n)\n",
        "print(\"exp min =\", min(times))\n",
        "print(\"min formula 5*n-4 =\", 5*n-4)\n",
        "print(\"exp max =\", max(times))\n",
        "print(\"max formula 3/2*n**2+7/2*n-4 =\", 3/2*n**2+7/2*n-4)\n",
        "print(\"exp mean =\", np.mean(times))\n",
        "print(\"mean formula 3/4*n**2+7/2*n-13/4 =\", 3/4*n**2+7/2*n-13/4)\n",
        "print(\"stdev\", np.std(times))\n"
      ]
    },
    {
      "cell_type": "code",
      "execution_count": null,
      "metadata": {
        "colab": {
          "base_uri": "https://localhost:8080/",
          "height": 451
        },
        "id": "nhIYAqUQFwjP",
        "outputId": "501ded87-d67d-4e52-f4e5-95d9bc814266"
      },
      "outputs": [],
      "source": [
        "from itertools import product\n",
        "import matplotlib.pyplot as plt\n",
        "import numpy as np\n",
        "\n",
        "n = 7\n",
        "\n",
        "times = []\n",
        "for P in product(range(1, n+1), repeat=n):\n",
        "    t = heap_sort_steps(list(P))\n",
        "    times.append(t)\n",
        "\n",
        "b = np.array(range(min(times)-1, max(times)+1))+0.5\n",
        "plt.hist(times, bins=b)\n",
        "plt.title(\"Heap Sort\")\n",
        "plt.xlabel(\"Steps\")\n",
        "plt.ylabel(\"Frequency\")\n",
        "plt.show()\n",
        "\n",
        "print(\"n\", n)\n",
        "print(\"number of permutations with repetion =\", n**n)\n",
        "print(\"exp min =\", min(times))\n",
        "print(\"min formula 5*n-4 =\", 5*n-4)\n",
        "print(\"exp max =\", max(times))\n",
        "print(\"max formula 3/2*n**2+7/2*n-4 =\", 3/2*n**2+7/2*n-4)\n",
        "print(\"exp mean =\", np.mean(times))\n",
        "print(\"mean formula 3/4*n**2+7/2*n-13/4 =\", 3/4*n**2+7/2*n-13/4)\n",
        "print(\"stdev\", np.std(times))\n"
      ]
    },
    {
      "cell_type": "code",
      "execution_count": null,
      "metadata": {
        "colab": {
          "base_uri": "https://localhost:8080/",
          "height": 451
        },
        "id": "m33aojDdF5rp",
        "outputId": "dda3db3b-11d4-4f3c-dbe1-b7050017d59c"
      },
      "outputs": [],
      "source": [
        "from itertools import product\n",
        "import matplotlib.pyplot as plt\n",
        "import numpy as np\n",
        "\n",
        "n = 8\n",
        "\n",
        "times = []\n",
        "for P in product(range(1, n+1), repeat=n):\n",
        "    t = heap_sort_steps(list(P))\n",
        "    times.append(t)\n",
        "\n",
        "b = np.array(range(min(times)-1, max(times)+1))+0.5\n",
        "plt.hist(times, bins=b)\n",
        "plt.title(\"Heap Sort\")\n",
        "plt.xlabel(\"Steps\")\n",
        "plt.ylabel(\"Frequency\")\n",
        "plt.show()\n",
        "\n",
        "print(\"n\", n)\n",
        "print(\"number of permutations with repetion =\", n**n)\n",
        "print(\"exp min =\", min(times))\n",
        "print(\"min formula 5*n-4 =\", 5*n-4)\n",
        "print(\"exp max =\", max(times))\n",
        "print(\"max formula 3/2*n**2+7/2*n-4 =\", 3/2*n**2+7/2*n-4)\n",
        "print(\"exp mean =\", np.mean(times))\n",
        "print(\"mean formula 3/4*n**2+7/2*n-13/4 =\", 1/4*n**2+7/2*n-13/4)\n",
        "print(\"stdev\", np.std(times))\n"
      ]
    },
    {
      "cell_type": "code",
      "execution_count": null,
      "metadata": {
        "colab": {
          "base_uri": "https://localhost:8080/",
          "height": 285
        },
        "id": "RFWcVt39GBkd",
        "outputId": "012633a3-70fa-4980-8e80-e51c7e7b4bad"
      },
      "outputs": [],
      "source": [
        "# https://towardsdatascience.com/an-easy-introduction-to-3d-plotting-with-matplotlib-801561999725\n",
        "from itertools import product\n",
        "import numpy as np\n",
        "import matplotlib.pyplot as plt\n",
        "from mpl_toolkits.mplot3d import Axes3D\n",
        "import random\n",
        "\n",
        "fig = plt.figure()\n",
        "ax = plt.axes(projection=\"3d\")\n",
        "\n",
        "N = 8\n",
        "\n",
        "x = []\n",
        "y = []\n",
        "z = []\n",
        "dx = []\n",
        "dy = []\n",
        "dz = []\n",
        "\n",
        "for n in np.arange(3, N+1, 1):\n",
        "\n",
        "    times = []\n",
        "\n",
        "    for P in product(range(1, n+1), repeat=n):\n",
        "        t = heap_sort_steps(list(P))\n",
        "        times.append(t)\n",
        "\n",
        "    b = np.array(range(min(times)-1, max(times)+1))+0.5\n",
        "    H = np.array(np.histogram(times, b))\n",
        "    H[0] = H[0]/np.sum(H[0])\n",
        "    for i in range(len(H[0])):\n",
        "        x.append(n)\n",
        "        y.append(H[1][i])\n",
        "        z.append(0)\n",
        "        dx.append(0.1)\n",
        "        dy.append(0.1)\n",
        "        dz.append(H[0][i])\n",
        "\n",
        "ax.bar3d(x, y, z, dx, dy, dz, color='aqua', zsort='average')\n",
        "plt.show()\n"
      ]
    },
    {
      "cell_type": "code",
      "execution_count": null,
      "metadata": {
        "colab": {
          "base_uri": "https://localhost:8080/",
          "height": 285
        },
        "id": "zCIJ07GqklOx",
        "outputId": "89f68e3b-3427-49b1-8b4a-2992cb41d0d3"
      },
      "outputs": [],
      "source": [
        "# https://towardsdatascience.com/an-easy-introduction-to-3d-plotting-with-matplotlib-801561999725\n",
        "from itertools import product\n",
        "import numpy as np\n",
        "import matplotlib.pyplot as plt\n",
        "from mpl_toolkits.mplot3d import Axes3D\n",
        "import random\n",
        "\n",
        "fig = plt.figure()\n",
        "ax = plt.axes(projection=\"3d\")\n",
        "\n",
        "N = 8\n",
        "\n",
        "x = []\n",
        "y = []\n",
        "z = []\n",
        "dx = []\n",
        "dy = []\n",
        "dz = []\n",
        "\n",
        "for n in np.arange(3, N+1, 1):\n",
        "\n",
        "    times = []\n",
        "\n",
        "    for P in product(range(1, n+1), repeat=n):\n",
        "        t = heap_sort_steps(list(P))\n",
        "        times.append(t)\n",
        "\n",
        "    b = np.array(range(min(times)-1, max(times)+1))+0.5\n",
        "    H = np.array(np.histogram(times, b))\n",
        "    H[0] = H[0]/np.sum(H[0])\n",
        "    for i in range(len(H[0])):\n",
        "        x.append(n)\n",
        "        y.append(H[1][i])\n",
        "        z.append(0)\n",
        "        dx.append(0.1)\n",
        "        dy.append(0.1)\n",
        "        dz.append(H[0][i])\n",
        "\n",
        "ax.view_init(30, 10)\n",
        "ax.bar3d(x, y, z, dx, dy, dz, color='aqua', zsort='average')\n",
        "plt.show()\n"
      ]
    },
    {
      "cell_type": "markdown",
      "metadata": {
        "id": "wfg90NPdEzll"
      },
      "source": [
        "# Average case - expected number of comparisons + swaps on random unifrom permtation of $n$ elements with repetitions $t_a(n) = \\frac{3}{4}n^2 + \\frac{7}{2}n - \\frac{13}{4} = \\Theta(n^2) $\n"
      ]
    },
    {
      "cell_type": "code",
      "execution_count": null,
      "metadata": {
        "colab": {
          "base_uri": "https://localhost:8080/",
          "height": 175
        },
        "id": "UPoRscjA-nQe",
        "outputId": "2c35a1f1-6cb1-4d6d-906e-7431728ae1b9"
      },
      "outputs": [],
      "source": [
        "# Average case on random uniform permtations with repetitions of  $n$   elements  $t_a(n) = \\frac{3}{4}n^2 + \\frac{7}{2}n -\\frac{13}{4}= \\Theta(n^2) $\n",
        "import numpy as np\n",
        "import pandas as pd\n",
        "import scipy.linalg as la\n",
        "\n",
        "n = np.array([3.0, 4.0, 5.0, 6.0])    # Number n of sorted elments\n",
        "# Average comparisons + swaps for the corresponding n\n",
        "t = np.array([14.0, 22.75, 33.0, 44.75])\n",
        "\n",
        "data = pd.DataFrame({'n': n, 't': t})\n",
        "data\n"
      ]
    },
    {
      "cell_type": "code",
      "execution_count": null,
      "metadata": {
        "colab": {
          "base_uri": "https://localhost:8080/"
        },
        "id": "Tm7oxC0t-qid",
        "outputId": "1ba5cb49-e552-4bfb-906c-463446dee4f5"
      },
      "outputs": [],
      "source": [
        "X = np.column_stack([n**0, n**1, n**2, n**3])\n",
        "a = la.solve(X, t)\n",
        "a\n"
      ]
    },
    {
      "cell_type": "code",
      "execution_count": null,
      "metadata": {
        "colab": {
          "base_uri": "https://localhost:8080/",
          "height": 143
        },
        "id": "owW3K50-FWkI",
        "outputId": "8ae99a7a-f0e5-42e2-ddc2-58cb2befb8f0"
      },
      "outputs": [],
      "source": [
        "# Average case on random uniform permtations with repetitions of  $n$   elements  $t_a(n) = \\frac{3}{4}n^2 + \\frac{7}{2}n -\\frac{13}{4}= \\Theta(n^2) $\n",
        "import numpy as np\n",
        "import pandas as pd\n",
        "import scipy.linalg as la\n",
        "\n",
        "n = np.array([3.0, 4.0, 5.0])    # Number n of sorted elments\n",
        "# Average comparisons + swaps for the corresponding n\n",
        "t = np.array([14.0, 22.75, 33.0])\n",
        "\n",
        "data = pd.DataFrame({'n': n, 't': t})\n",
        "data\n"
      ]
    },
    {
      "cell_type": "code",
      "execution_count": null,
      "metadata": {
        "colab": {
          "base_uri": "https://localhost:8080/"
        },
        "id": "qssCjaWwFaFl",
        "outputId": "e7aa77de-58a4-4d74-99c6-7a662cf9da34"
      },
      "outputs": [],
      "source": [
        "X = np.column_stack([n**0, n**1, n**2])\n",
        "a = la.solve(X, t)\n",
        "a\n"
      ]
    }
  ],
  "metadata": {
    "colab": {
      "authorship_tag": "ABX9TyOFyKzrefSSege0rpUgM+qA",
      "collapsed_sections": [],
      "name": "heapSortTimeComplexityHistograms.ipynb",
      "provenance": []
    },
    "kernelspec": {
      "display_name": "Python 3",
      "name": "python3"
    },
    "language_info": {
      "codemirror_mode": {
        "name": "ipython",
        "version": 3
      },
      "file_extension": ".py",
      "mimetype": "text/x-python",
      "name": "python",
      "nbconvert_exporter": "python",
      "pygments_lexer": "ipython3",
      "version": "3.8.9"
    }
  },
  "nbformat": 4,
  "nbformat_minor": 0
}
