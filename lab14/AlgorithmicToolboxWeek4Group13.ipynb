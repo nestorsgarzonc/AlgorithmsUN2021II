{
  "cells": [
    {
      "cell_type": "markdown",
      "metadata": {
        "id": "view-in-github"
      },
      "source": [
        "<a href=\"https://colab.research.google.com/github/Dicarvajalb/AlgorithmsUN2021I/blob/main/Laboratories/Lab12/AlgorithmicToolboxWeek4Group14.ipynb\" target=\"_parent\"><img src=\"https://colab.research.google.com/assets/colab-badge.svg\" alt=\"Open In Colab\"/></a>"
      ]
    },
    {
      "cell_type": "markdown",
      "metadata": {
        "id": "H7Xk4Z1t7D8T"
      },
      "source": [
        "# Binary Search"
      ]
    },
    {
      "cell_type": "code",
      "execution_count": null,
      "metadata": {
        "colab": {
          "base_uri": "https://localhost:8080/"
        },
        "id": "Hr_lT8J66m5E",
        "outputId": "5f3f121e-28b7-4f61-84fd-1575342a5a1d"
      },
      "outputs": [
        {
          "name": "stdout",
          "output_type": "stream",
          "text": [
            "Writing binary.cpp\n"
          ]
        }
      ],
      "source": [
        "%%writefile binary.cpp\n",
        "#include <iostream>\n",
        "#include <cassert>\n",
        "#include <vector>\n",
        "\n",
        "using std::vector;\n",
        "\n",
        "int binary_search(const vector<int> &a, int x, int left, int right) {\n",
        "\n",
        "  //write your code here\n",
        "  int middle = left + (int)(right-left)/2;\n",
        "  if(middle == left){\n",
        "    if(a[middle] == x) return middle;\n",
        "    else if(a[right]==x) return right;\n",
        "    else return -1;\n",
        "  } \n",
        "  if(x<a[middle]){\n",
        "    return binary_search(a, x, left, middle);\n",
        "  }\n",
        "  if(x>a[middle]){\n",
        "    return binary_search(a, x, middle, right);\n",
        "  }\n",
        "  if(x==a[middle]) return middle;\n",
        "  return -1;\n",
        "}\n",
        "\n",
        "int linear_search(const vector<int> &a, int x) {\n",
        "  for (size_t i = 0; i < a.size(); ++i) {\n",
        "    if (a[i] == x) return i;\n",
        "  }\n",
        "  return -1;\n",
        "}\n",
        "\n",
        "int main() {\n",
        "  int n;\n",
        "  std::cin >> n;\n",
        "  vector<int> a(n);\n",
        "  for (size_t i = 0; i < a.size(); i++) {\n",
        "    std::cin >> a[i];\n",
        "  }\n",
        "  int m;\n",
        "  std::cin >> m;\n",
        "  vector<int> b(m);\n",
        "  for (int i = 0; i < m; ++i) {\n",
        "    std::cin >> b[i];\n",
        "  }\n",
        "  for (int i = 0; i < m; ++i) {\n",
        "    //replace with the call to binary_search when implemented\n",
        "    std::cout << binary_search(a, b[i], 0, a.size()-1) << ' ';\n",
        "    //std::cout << linear_search(a, b[i]) << ' ';\n",
        "  }\n",
        "}\n"
      ]
    },
    {
      "cell_type": "code",
      "execution_count": null,
      "metadata": {
        "colab": {
          "base_uri": "https://localhost:8080/"
        },
        "id": "aVA4k-1u8HJv",
        "outputId": "a100316e-33d8-41a8-f58f-9a064a1e918d"
      },
      "outputs": [
        {
          "name": "stdout",
          "output_type": "stream",
          "text": [
            " 5 1 5 8 12 13 5 8 1 23 1 11\n",
            "2 0 -1 0 -1 "
          ]
        }
      ],
      "source": [
        "!g++ binary.cpp -o exe\n",
        "!./exe"
      ]
    },
    {
      "cell_type": "markdown",
      "metadata": {
        "id": "BBK_QPfw7IYU"
      },
      "source": [
        "#Majority Element#"
      ]
    },
    {
      "cell_type": "code",
      "execution_count": null,
      "metadata": {
        "colab": {
          "base_uri": "https://localhost:8080/"
        },
        "id": "TIPwJAPd7ZQT",
        "outputId": "13dc38b7-955c-4347-984e-1eae3114717e"
      },
      "outputs": [
        {
          "name": "stdout",
          "output_type": "stream",
          "text": [
            "Writing majority.cpp\n"
          ]
        }
      ],
      "source": [
        "%%writefile majority.cpp\n",
        "#include <algorithm>\n",
        "#include <iostream>\n",
        "#include <vector>\n",
        "\n",
        "using std::vector;\n",
        "using namespace std;\n",
        "int get_majority_element(vector<int> &a, int left, int right) {\n",
        "  if (left == right) return -1;\n",
        "  if (left + 1 == right) return a[left];\n",
        "  //write your code here\n",
        "\n",
        "  return -1;\n",
        "}\n",
        "vector<int> merge(vector<int> a, vector<int> b){\n",
        "  vector<int> fusion(a.size() + b.size());\n",
        "  int k = 0; //A\n",
        "  int j = 0; //B\n",
        "  for(int i = 0; i<fusion.size(); i++){\n",
        "    if((int)a.size()>0 && a[0]<=b[0] || b.size()==0){\n",
        "      fusion[i] = a[0];\n",
        "      a.erase(a.begin());\n",
        "    } \n",
        "    else if((int)b.size()>0 && a[0]>b[0] || a.size()==0){\n",
        "      fusion[i] = b[0];\n",
        "      b.erase(b.begin());\n",
        "    }\n",
        "  }\n",
        "  return fusion;\n",
        "}\n",
        "vector<int> mergeSort(vector<int> a){\n",
        "  if (a.size() == 1) return a;\n",
        "\n",
        "  int middle = (int) a.size()/2;\n",
        "  \n",
        "  vector<int> a1(a.begin(), a.begin()+middle);\n",
        "  vector<int> a2(a.begin()+middle, a.end());\n",
        "  vector<int> A =  mergeSort(a1);\n",
        "  vector<int> B =  mergeSort(a2);\n",
        "  return merge(A,B);\n",
        "}\n",
        "\n",
        "\n",
        "int main() {\n",
        "  int n;\n",
        "  std::cin >> n;\n",
        "  vector<int> a(n);\n",
        "  for (size_t i = 0; i < a.size(); ++i) {\n",
        "    std::cin >> a[i];\n",
        "  }\n",
        "  //std::cout << (get_majority_element(a, 0, a.size()) != -1) << '\\n';\n",
        "  vector<int> b = mergeSort(a);\n",
        "  \n",
        "  /*std::cout<<b.size()<<std::endl;\n",
        "  for(int i = 0; i<b.size(); i++){\n",
        "    std::cout<< b[i]<<\" \";\n",
        "  }*/\n",
        "  int lastOne = -1;\n",
        "  bool exists = false;\n",
        "  lastOne = b[0];\n",
        "  for(int i = 0; i<int(b.size()/2)+1; i++){\n",
        "    if(b[i] == b[i+(int)(b.size()/2)]){\n",
        "      exists = true;\n",
        "      break;\n",
        "    } \n",
        "\n",
        "  }\n",
        "  std::cout<<exists<<'\\n';\n",
        "}\n",
        "\n"
      ]
    },
    {
      "cell_type": "code",
      "execution_count": null,
      "metadata": {
        "colab": {
          "base_uri": "https://localhost:8080/"
        },
        "id": "A616FIHT8Wd4",
        "outputId": "7c74b508-f671-4807-ec78-ab3d34f27a17"
      },
      "outputs": [
        {
          "name": "stdout",
          "output_type": "stream",
          "text": [
            "5 2 3 9 2 2\n",
            "1\n"
          ]
        }
      ],
      "source": [
        "!g++ majority.cpp -o exe\n",
        "!./exe"
      ]
    },
    {
      "cell_type": "markdown",
      "metadata": {
        "id": "nZe2hx_J7EeG"
      },
      "source": [
        "#Improving Quick Sort#"
      ]
    },
    {
      "cell_type": "code",
      "execution_count": null,
      "metadata": {
        "colab": {
          "base_uri": "https://localhost:8080/"
        },
        "id": "b_HC5R1B7_vT",
        "outputId": "d9fc4c1a-053a-444f-b1eb-59603c5f0078"
      },
      "outputs": [
        {
          "name": "stdout",
          "output_type": "stream",
          "text": [
            "Writing quicksort.cpp\n"
          ]
        }
      ],
      "source": [
        "%%writefile quicksort.cpp\n",
        "\n",
        "#include <iostream>\n",
        "#include <vector>\n",
        "#include <cstdlib>\n",
        "\n",
        "using std::vector;\n",
        "using std::swap;\n",
        "\n",
        "vector<int> partition2(vector<int> &a, int l, int r) {\n",
        "  int j = l;\n",
        "  int i = r;\n",
        "  int m1 = j;\n",
        "  int m2 = j;\n",
        "  int x = a[l];\n",
        "  //swap(a[m1], a[l]);\n",
        "  while(j<i){\n",
        "    \n",
        "    if(a[j+1]<a[j]){\n",
        "      if(m1==m2) {\n",
        "\n",
        "        swap(a[j+1],a[j]);\n",
        "        j++;\n",
        "        m1 = j;\n",
        "        m2 = j;\n",
        "      }\n",
        "      else {\n",
        "        \n",
        "        swap(a[m1],a[j+1]);\n",
        "        j++;\n",
        "        m1++;\n",
        "        m2++;\n",
        "         \n",
        "        \n",
        "      }\n",
        "    } \n",
        "    else if(a[j+1]>a[j]){\n",
        "        swap(a[j+1],a[i]);\n",
        "        i--;\n",
        "      \n",
        "    }\n",
        "    else{\n",
        "      if(m1==m2){ \n",
        "        m1 = j;\n",
        "        m2 = j+1;\n",
        "        j++;\n",
        "      }\n",
        "      else{\n",
        "        m2++;\n",
        "        j++;\n",
        "      }\n",
        "      //j++;\n",
        "      //m2 = j;\n",
        "      //std::cout <<\"m1: \" <<m1<<'\\n';\n",
        "      //std::cout <<\"m2: \" <<m2<<'\\n';\n",
        "      //std::cout <<\"j: \" <<j<<'\\n';\n",
        "      /*if(j==2){\n",
        "        std::cout <<\"j: \" <<j<<'\\n';\n",
        "        break;\n",
        "      }*/\n",
        "    }\n",
        "  }\n",
        "  vector<int> m(2);\n",
        "  \n",
        "  m[0] = m1;\n",
        "  m[1] = m2;\n",
        "  return m;\n",
        "}\n",
        "\n",
        "void randomized_quick_sort(vector<int> &a, int l, int r) {\n",
        "  if (l >= r) {\n",
        "    return;\n",
        "  }\n",
        "\n",
        "  int k = l + rand() % (r - l + 1);\n",
        "  swap(a[l], a[k]);\n",
        "  \n",
        "  //std::cout <<\"Con random: \"<< k <<'\\n';\n",
        "  vector<int> m = partition2(a, l, r);\n",
        "  int m1 = m[0];\n",
        "  int m2 = m[1];\n",
        "  //std::cout << m1 << ' ';\n",
        "  //std::cout << m2 << ' '<<'\\n';\n",
        "  /*for (size_t i = 0; i < a.size(); ++i) {\n",
        "    std::cout << a[i] << ' ';\n",
        "  }\n",
        "  std::cout <<'\\n';*/\n",
        "\n",
        "  if(m1==-1) return;\n",
        "  randomized_quick_sort(a, l, m1 - 1);\n",
        "  randomized_quick_sort(a, m2 + 1, r);\n",
        "}\n",
        "\n",
        "int main() {\n",
        "  int n;\n",
        "  std::cin >> n;\n",
        "  vector<int> a(n);\n",
        "  for (size_t i = 0; i < a.size(); ++i) {\n",
        "    std::cin >> a[i];\n",
        "  }\n",
        "  randomized_quick_sort(a, 0, a.size() - 1);\n",
        "  //partition2(a, 0, a.size()-1);\n",
        "  for (size_t i = 0; i < a.size(); ++i) {\n",
        "    std::cout << a[i] << ' ';\n",
        "  }\n",
        "}\n",
        "\n"
      ]
    },
    {
      "cell_type": "code",
      "execution_count": null,
      "metadata": {
        "colab": {
          "base_uri": "https://localhost:8080/"
        },
        "id": "XMve1G7K818m",
        "outputId": "6c2bcb11-cca5-4f87-f468-22123be9b8c4"
      },
      "outputs": [
        {
          "name": "stdout",
          "output_type": "stream",
          "text": [
            "5 2 3 9 2 2\n",
            "2 2 2 3 9 "
          ]
        }
      ],
      "source": [
        "!g++ quicksort.cpp -o exe\n",
        "!./exe"
      ]
    }
  ],
  "metadata": {
    "colab": {
      "name": " AlgorithmicToolboxWeek4Group12.ipynb",
      "provenance": []
    },
    "kernelspec": {
      "display_name": "Python 3",
      "name": "python3"
    },
    "language_info": {
      "name": "python"
    }
  },
  "nbformat": 4,
  "nbformat_minor": 0
}
